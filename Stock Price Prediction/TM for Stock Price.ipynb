{
 "cells": [
  {
   "cell_type": "code",
   "execution_count": 1,
   "metadata": {},
   "outputs": [],
   "source": [
    "import pandas as pd\n",
    "import numpy as np\n",
    "import yfinance"
   ]
  },
  {
   "cell_type": "code",
   "execution_count": 8,
   "metadata": {},
   "outputs": [],
   "source": [
    "nvidia = yfinance.Ticker('NVDA')"
   ]
  },
  {
   "cell_type": "code",
   "execution_count": 9,
   "metadata": {},
   "outputs": [
    {
     "data": {
      "text/plain": [
       "{'zip': '95051',\n",
       " 'sector': 'Technology',\n",
       " 'fullTimeEmployees': 13775,\n",
       " 'longBusinessSummary': \"NVIDIA Corporation operates as a visual computing company worldwide. It operates in two segments, GPU and Tegra Processor. The GPU segment offers processors, which include GeForce for PC gaming and mainstream PCs; GeForce NOW for cloud-based gaming; Quadro for design professionals working in computer-aided design, video editing, special effects, and other creative applications; Tesla for artificial intelligence (AI) utilizing deep learning, accelerated computing, and general purpose computing; GRID, which provides power of NVIDIA graphics through the cloud and datacenters; DGX for AI scientists, researchers, and developers; and EGX for accelerated AI computing at the edge. The Tegra Processor segment provides processors comprising SHIELD devices and services designed to harness the power of mobile-cloud to revolutionize home entertainment, AI, and gaming; AGX, a power-efficient AI computing platform for intelligent edge devices; DRIVE AGX for self-driving vehicles; Clara AGX for medical instruments; and Jetson AGX for robotics and other embedded use. The company's products are used in gaming, professional visualization, datacenter, and automotive markets. NVIDIA Corporation sells its products to original equipment manufacturers, original device manufacturers, system builders, add-in board manufacturers, retailers/distributors, Internet and cloud service providers, automotive manufacturers and tier-1 automotive suppliers, mapping companies, start-ups, and other ecosystem participants. NVIDIA Corporation was founded in 1993 and is headquartered in Santa Clara, California.\",\n",
       " 'city': 'Santa Clara',\n",
       " 'phone': '408 486 2000',\n",
       " 'state': 'CA',\n",
       " 'country': 'United States',\n",
       " 'companyOfficers': [],\n",
       " 'website': 'http://www.nvidia.com',\n",
       " 'maxAge': 1,\n",
       " 'address1': '2788 San Tomas Expressway',\n",
       " 'industry': 'Semiconductors',\n",
       " 'previousClose': 533.29,\n",
       " 'regularMarketOpen': 532.77,\n",
       " 'twoHundredDayAverage': 483.4364,\n",
       " 'trailingAnnualDividendYield': 0.0012000975,\n",
       " 'payoutRatio': 0.1046,\n",
       " 'volume24Hr': None,\n",
       " 'regularMarketDayHigh': 533.4899,\n",
       " 'navPrice': None,\n",
       " 'averageDailyVolume10Day': 6243271,\n",
       " 'totalAssets': None,\n",
       " 'regularMarketPreviousClose': 533.29,\n",
       " 'fiftyDayAverage': 534.7371,\n",
       " 'trailingAnnualDividendRate': 0.64,\n",
       " 'open': 532.77,\n",
       " 'toCurrency': None,\n",
       " 'averageVolume10days': 6243271,\n",
       " 'expireDate': None,\n",
       " 'yield': None,\n",
       " 'algorithm': None,\n",
       " 'dividendRate': 0.64,\n",
       " 'exDividendDate': 1606953600,\n",
       " 'beta': 1.468766,\n",
       " 'circulatingSupply': None,\n",
       " 'startDate': None,\n",
       " 'regularMarketDayLow': 522.1552,\n",
       " 'priceHint': 2,\n",
       " 'currency': 'USD',\n",
       " 'trailingPE': 86.82851,\n",
       " 'regularMarketVolume': 4657872,\n",
       " 'lastMarket': None,\n",
       " 'maxSupply': None,\n",
       " 'openInterest': None,\n",
       " 'marketCap': 328769470464,\n",
       " 'volumeAllCurrencies': None,\n",
       " 'strikePrice': None,\n",
       " 'averageVolume': 9183882,\n",
       " 'priceToSalesTrailing12Months': 22.24873,\n",
       " 'dayLow': 522.1552,\n",
       " 'ask': 531,\n",
       " 'ytdReturn': None,\n",
       " 'askSize': 800,\n",
       " 'volume': 4657872,\n",
       " 'fiftyTwoWeekHigh': 589.07,\n",
       " 'forwardPE': 45.35696,\n",
       " 'fromCurrency': None,\n",
       " 'fiveYearAvgDividendYield': 0.43,\n",
       " 'fiftyTwoWeekLow': 180.68,\n",
       " 'bid': 0,\n",
       " 'tradeable': False,\n",
       " 'dividendYield': 0.0011999999,\n",
       " 'bidSize': 800,\n",
       " 'dayHigh': 533.4899,\n",
       " 'exchange': 'NMS',\n",
       " 'shortName': 'NVIDIA Corporation',\n",
       " 'longName': 'NVIDIA Corporation',\n",
       " 'exchangeTimezoneName': 'America/New_York',\n",
       " 'exchangeTimezoneShortName': 'EST',\n",
       " 'isEsgPopulated': False,\n",
       " 'gmtOffSetMilliseconds': '-18000000',\n",
       " 'quoteType': 'EQUITY',\n",
       " 'symbol': 'NVDA',\n",
       " 'messageBoardId': 'finmb_32307',\n",
       " 'market': 'us_market',\n",
       " 'annualHoldingsTurnover': None,\n",
       " 'enterpriseToRevenue': 22.082,\n",
       " 'beta3Year': None,\n",
       " 'profitMargins': 0.25892,\n",
       " 'enterpriseToEbitda': 63.745,\n",
       " '52WeekChange': 1.220536,\n",
       " 'morningStarRiskRating': None,\n",
       " 'forwardEps': 11.71,\n",
       " 'revenueQuarterlyGrowth': None,\n",
       " 'sharesOutstanding': 619000000,\n",
       " 'fundInceptionDate': None,\n",
       " 'annualReportExpenseRatio': None,\n",
       " 'bookValue': 24.772,\n",
       " 'sharesShort': 6373709,\n",
       " 'sharesPercentSharesOut': 0.010299999,\n",
       " 'fundFamily': None,\n",
       " 'lastFiscalYearEnd': 1579996800,\n",
       " 'heldPercentInstitutions': 0.68444,\n",
       " 'netIncomeToCommon': 3825999872,\n",
       " 'trailingEps': 6.117,\n",
       " 'lastDividendValue': 0.16,\n",
       " 'SandP52WeekChange': 0.13807487,\n",
       " 'priceToBook': 21.44074,\n",
       " 'heldPercentInsiders': 0.04183,\n",
       " 'nextFiscalYearEnd': 1643155200,\n",
       " 'mostRecentQuarter': 1603584000,\n",
       " 'shortRatio': 0.67,\n",
       " 'sharesShortPreviousMonthDate': 1604016000,\n",
       " 'floatShares': 593484820,\n",
       " 'enterpriseValue': 326311477248,\n",
       " 'threeYearAverageReturn': None,\n",
       " 'lastSplitDate': 1189468800,\n",
       " 'lastSplitFactor': '3:2',\n",
       " 'legalType': None,\n",
       " 'lastDividendDate': 1606953600,\n",
       " 'morningStarOverallRating': None,\n",
       " 'earningsQuarterlyGrowth': 0.486,\n",
       " 'dateShortInterest': 1606694400,\n",
       " 'pegRatio': 2.48,\n",
       " 'lastCapGain': None,\n",
       " 'shortPercentOfFloat': 0.0107,\n",
       " 'sharesShortPriorMonth': 6101774,\n",
       " 'impliedSharesOutstanding': None,\n",
       " 'category': None,\n",
       " 'fiveYearAverageReturn': None,\n",
       " 'regularMarketPrice': 532.77,\n",
       " 'logo_url': 'https://logo.clearbit.com/nvidia.com'}"
      ]
     },
     "execution_count": 9,
     "metadata": {},
     "output_type": "execute_result"
    }
   ],
   "source": [
    "nvidia.info"
   ]
  },
  {
   "cell_type": "code",
   "execution_count": 10,
   "metadata": {},
   "outputs": [
    {
     "data": {
      "text/html": [
       "<div>\n",
       "<style scoped>\n",
       "    .dataframe tbody tr th:only-of-type {\n",
       "        vertical-align: middle;\n",
       "    }\n",
       "\n",
       "    .dataframe tbody tr th {\n",
       "        vertical-align: top;\n",
       "    }\n",
       "\n",
       "    .dataframe thead th {\n",
       "        text-align: right;\n",
       "    }\n",
       "</style>\n",
       "<table border=\"1\" class=\"dataframe\">\n",
       "  <thead>\n",
       "    <tr style=\"text-align: right;\">\n",
       "      <th></th>\n",
       "      <th>Open</th>\n",
       "      <th>High</th>\n",
       "      <th>Low</th>\n",
       "      <th>Close</th>\n",
       "      <th>Volume</th>\n",
       "      <th>Dividends</th>\n",
       "      <th>Stock Splits</th>\n",
       "    </tr>\n",
       "    <tr>\n",
       "      <th>Datetime</th>\n",
       "      <th></th>\n",
       "      <th></th>\n",
       "      <th></th>\n",
       "      <th></th>\n",
       "      <th></th>\n",
       "      <th></th>\n",
       "      <th></th>\n",
       "    </tr>\n",
       "  </thead>\n",
       "  <tbody>\n",
       "    <tr>\n",
       "      <th>2020-12-22 09:30:00-05:00</th>\n",
       "      <td>532.770020</td>\n",
       "      <td>533.070007</td>\n",
       "      <td>531.890015</td>\n",
       "      <td>532.239990</td>\n",
       "      <td>155786</td>\n",
       "      <td>0</td>\n",
       "      <td>0</td>\n",
       "    </tr>\n",
       "    <tr>\n",
       "      <th>2020-12-22 09:31:00-05:00</th>\n",
       "      <td>531.900024</td>\n",
       "      <td>533.489929</td>\n",
       "      <td>531.657471</td>\n",
       "      <td>532.000000</td>\n",
       "      <td>48298</td>\n",
       "      <td>0</td>\n",
       "      <td>0</td>\n",
       "    </tr>\n",
       "    <tr>\n",
       "      <th>2020-12-22 09:32:00-05:00</th>\n",
       "      <td>532.150024</td>\n",
       "      <td>532.284973</td>\n",
       "      <td>530.820007</td>\n",
       "      <td>531.864197</td>\n",
       "      <td>25866</td>\n",
       "      <td>0</td>\n",
       "      <td>0</td>\n",
       "    </tr>\n",
       "    <tr>\n",
       "      <th>2020-12-22 09:33:00-05:00</th>\n",
       "      <td>532.000000</td>\n",
       "      <td>532.000000</td>\n",
       "      <td>530.349976</td>\n",
       "      <td>530.989990</td>\n",
       "      <td>26245</td>\n",
       "      <td>0</td>\n",
       "      <td>0</td>\n",
       "    </tr>\n",
       "    <tr>\n",
       "      <th>2020-12-22 09:34:00-05:00</th>\n",
       "      <td>530.861572</td>\n",
       "      <td>531.080017</td>\n",
       "      <td>529.500000</td>\n",
       "      <td>529.669983</td>\n",
       "      <td>38176</td>\n",
       "      <td>0</td>\n",
       "      <td>0</td>\n",
       "    </tr>\n",
       "  </tbody>\n",
       "</table>\n",
       "</div>"
      ],
      "text/plain": [
       "                                 Open        High         Low       Close  \\\n",
       "Datetime                                                                    \n",
       "2020-12-22 09:30:00-05:00  532.770020  533.070007  531.890015  532.239990   \n",
       "2020-12-22 09:31:00-05:00  531.900024  533.489929  531.657471  532.000000   \n",
       "2020-12-22 09:32:00-05:00  532.150024  532.284973  530.820007  531.864197   \n",
       "2020-12-22 09:33:00-05:00  532.000000  532.000000  530.349976  530.989990   \n",
       "2020-12-22 09:34:00-05:00  530.861572  531.080017  529.500000  529.669983   \n",
       "\n",
       "                           Volume  Dividends  Stock Splits  \n",
       "Datetime                                                    \n",
       "2020-12-22 09:30:00-05:00  155786          0             0  \n",
       "2020-12-22 09:31:00-05:00   48298          0             0  \n",
       "2020-12-22 09:32:00-05:00   25866          0             0  \n",
       "2020-12-22 09:33:00-05:00   26245          0             0  \n",
       "2020-12-22 09:34:00-05:00   38176          0             0  "
      ]
     },
     "execution_count": 10,
     "metadata": {},
     "output_type": "execute_result"
    }
   ],
   "source": [
    "df = nvidia.history(period='1d', interval='1m')\n",
    "df.head()"
   ]
  },
  {
   "cell_type": "code",
   "execution_count": 13,
   "metadata": {},
   "outputs": [
    {
     "data": {
      "text/plain": [
       "Timestamp('2020-12-22 15:59:00-0500', tz='America/New_York')"
      ]
     },
     "execution_count": 13,
     "metadata": {},
     "output_type": "execute_result"
    }
   ],
   "source": [
    "df.index.max()"
   ]
  },
  {
   "cell_type": "code",
   "execution_count": 16,
   "metadata": {},
   "outputs": [
    {
     "data": {
      "text/html": [
       "<div>\n",
       "<style scoped>\n",
       "    .dataframe tbody tr th:only-of-type {\n",
       "        vertical-align: middle;\n",
       "    }\n",
       "\n",
       "    .dataframe tbody tr th {\n",
       "        vertical-align: top;\n",
       "    }\n",
       "\n",
       "    .dataframe thead th {\n",
       "        text-align: right;\n",
       "    }\n",
       "</style>\n",
       "<table border=\"1\" class=\"dataframe\">\n",
       "  <thead>\n",
       "    <tr style=\"text-align: right;\">\n",
       "      <th></th>\n",
       "      <th>Low</th>\n",
       "    </tr>\n",
       "    <tr>\n",
       "      <th>Datetime</th>\n",
       "      <th></th>\n",
       "    </tr>\n",
       "  </thead>\n",
       "  <tbody>\n",
       "    <tr>\n",
       "      <th>2020-12-22 09:30:00-05:00</th>\n",
       "      <td>531.890015</td>\n",
       "    </tr>\n",
       "    <tr>\n",
       "      <th>2020-12-22 09:31:00-05:00</th>\n",
       "      <td>531.657471</td>\n",
       "    </tr>\n",
       "    <tr>\n",
       "      <th>2020-12-22 09:32:00-05:00</th>\n",
       "      <td>530.820007</td>\n",
       "    </tr>\n",
       "    <tr>\n",
       "      <th>2020-12-22 09:33:00-05:00</th>\n",
       "      <td>530.349976</td>\n",
       "    </tr>\n",
       "    <tr>\n",
       "      <th>2020-12-22 09:34:00-05:00</th>\n",
       "      <td>529.500000</td>\n",
       "    </tr>\n",
       "  </tbody>\n",
       "</table>\n",
       "</div>"
      ],
      "text/plain": [
       "                                  Low\n",
       "Datetime                             \n",
       "2020-12-22 09:30:00-05:00  531.890015\n",
       "2020-12-22 09:31:00-05:00  531.657471\n",
       "2020-12-22 09:32:00-05:00  530.820007\n",
       "2020-12-22 09:33:00-05:00  530.349976\n",
       "2020-12-22 09:34:00-05:00  529.500000"
      ]
     },
     "execution_count": 16,
     "metadata": {},
     "output_type": "execute_result"
    }
   ],
   "source": [
    "df_low = df[['Low']]\n",
    "\n",
    "df_low.head()"
   ]
  },
  {
   "cell_type": "code",
   "execution_count": 17,
   "metadata": {},
   "outputs": [
    {
     "name": "stderr",
     "output_type": "stream",
     "text": [
      "c:\\users\\abuton\\appdata\\local\\programs\\python\\python37\\lib\\site-packages\\ipykernel_launcher.py:1: SettingWithCopyWarning: \n",
      "A value is trying to be set on a copy of a slice from a DataFrame.\n",
      "Try using .loc[row_indexer,col_indexer] = value instead\n",
      "\n",
      "See the caveats in the documentation: https://pandas.pydata.org/pandas-docs/stable/user_guide/indexing.html#returning-a-view-versus-a-copy\n",
      "  \"\"\"Entry point for launching an IPython kernel.\n"
     ]
    },
    {
     "data": {
      "text/html": [
       "<div>\n",
       "<style scoped>\n",
       "    .dataframe tbody tr th:only-of-type {\n",
       "        vertical-align: middle;\n",
       "    }\n",
       "\n",
       "    .dataframe tbody tr th {\n",
       "        vertical-align: top;\n",
       "    }\n",
       "\n",
       "    .dataframe thead th {\n",
       "        text-align: right;\n",
       "    }\n",
       "</style>\n",
       "<table border=\"1\" class=\"dataframe\">\n",
       "  <thead>\n",
       "    <tr style=\"text-align: right;\">\n",
       "      <th></th>\n",
       "      <th>Low</th>\n",
       "    </tr>\n",
       "    <tr>\n",
       "      <th>date</th>\n",
       "      <th></th>\n",
       "    </tr>\n",
       "  </thead>\n",
       "  <tbody>\n",
       "    <tr>\n",
       "      <th>09:30:00</th>\n",
       "      <td>531.890015</td>\n",
       "    </tr>\n",
       "    <tr>\n",
       "      <th>09:31:00</th>\n",
       "      <td>531.657471</td>\n",
       "    </tr>\n",
       "    <tr>\n",
       "      <th>09:32:00</th>\n",
       "      <td>530.820007</td>\n",
       "    </tr>\n",
       "    <tr>\n",
       "      <th>09:33:00</th>\n",
       "      <td>530.349976</td>\n",
       "    </tr>\n",
       "    <tr>\n",
       "      <th>09:34:00</th>\n",
       "      <td>529.500000</td>\n",
       "    </tr>\n",
       "  </tbody>\n",
       "</table>\n",
       "</div>"
      ],
      "text/plain": [
       "                 Low\n",
       "date                \n",
       "09:30:00  531.890015\n",
       "09:31:00  531.657471\n",
       "09:32:00  530.820007\n",
       "09:33:00  530.349976\n",
       "09:34:00  529.500000"
      ]
     },
     "execution_count": 17,
     "metadata": {},
     "output_type": "execute_result"
    }
   ],
   "source": [
    "df_low['date'] = pd.to_datetime(df_low.index).time\n",
    "df_low.set_index('date',inplace=True)\n",
    "\n",
    "df_low.head()"
   ]
  },
  {
   "cell_type": "code",
   "execution_count": 18,
   "metadata": {},
   "outputs": [
    {
     "name": "stdout",
     "output_type": "stream",
     "text": [
      "312 78 312 78\n"
     ]
    }
   ],
   "source": [
    "X = df_low.index.values\n",
    "y = df_low['Low'].values\n",
    "\n",
    "# split 20% for testing the model\n",
    "offset = int(0.20*len(df_low))\n",
    "\n",
    "X_train = X[:-offset]\n",
    "X_test = X[-offset:]\n",
    "y_train = y[:-offset]\n",
    "y_test = y[-offset:]\n",
    "\n",
    "print(len(X_train), len(X_test), len(y_train), len(y_test))"
   ]
  },
  {
   "cell_type": "code",
   "execution_count": 23,
   "metadata": {},
   "outputs": [
    {
     "data": {
      "image/png": "[encoded data removed]",
      "text/plain": [
       "<Figure size 432x288 with 1 Axes>"
      ]
     },
     "metadata": {
      "needs_background": "light"
     },
     "output_type": "display_data"
    }
   ],
   "source": [
    "import matplotlib.pyplot as plt\n",
    "plt.plot(range(0, len(y_train)), y_train, label='Train')\n",
    "plt.plot(range(len(y_train), len(y)), y_test, label='Test')\n",
    "plt.legend()\n",
    "plt.show()"
   ]
  },
  {
   "cell_type": "code",
   "execution_count": 24,
   "metadata": {},
   "outputs": [],
   "source": [
    "from statsmodels.tsa.arima.model import ARIMA\n",
    "\n",
    "model = ARIMA(y_train, order=(4,0,1)).fit()\n",
    "forecast = model.forecast(steps=1)[0]"
   ]
  },
  {
   "cell_type": "code",
   "execution_count": 27,
   "metadata": {},
   "outputs": [
    {
     "name": "stdout",
     "output_type": "stream",
     "text": [
      "Real time data 529.577880859375\n",
      "Real time data 529.52001953125\n",
      "Real time data 529.5820863754807\n"
     ]
    }
   ],
   "source": [
    "print(f'Real time data {y_train[len(y_train) - 1]}')\n",
    "print(f'Real time data {y_test[0]}')\n",
    "print(f'Real time data {forecast}')"
   ]
  },
  {
   "cell_type": "code",
   "execution_count": 28,
   "metadata": {},
   "outputs": [],
   "source": [
    "# import pyotp\n",
    "# import robin_stocks as robinhood\n",
    "# RH_USER_EMAIL = <<<YOUR EMAIL GOES HERE>>>\n",
    "# RH_PASSWORD = <<<YOUR PASSWORD GOES HERE>>>\n",
    "# RH_MFA_CODE = <<<THE ALPHANUMERIC CODE GOES HERE>>>\n",
    "# timed_otp = pyotp.TOTP(RH_MFA_CODE).now()\n",
    "# login = rh.login(RH_USER_EMAIL, RH_PASSWORD, mfa_code=totp)"
   ]
  },
  {
   "cell_type": "code",
   "execution_count": 29,
   "metadata": {},
   "outputs": [],
   "source": [
    "# # Buying 5 shares of Google\n",
    "# rh.order_buy_market('GOOG', 5)\n",
    "# # Selling 5 shares of Google\n",
    "# rh.order_sell_market('GOOG', 5)"
   ]
  },
  {
   "cell_type": "code",
   "execution_count": 30,
   "metadata": {},
   "outputs": [],
   "source": [
    "# import alpaca_trade_api as alpaca\n",
    "# ALPACA_KEY_ID = <<<YOUR KEY ID GOES HERE>>>\n",
    "# ALPACA_SECRET_KEY = <<<YOUR SECRET KEY GOES HERE>>>\n",
    "# # Change to https://api.alpaca.markets for live\n",
    "# BASE_URL = 'https://paper-api.alpaca.markets'\n",
    "# api = alpaca.REST(\n",
    "#     ALPACA_KEY_ID, ALPACA_SECRET_KEY, base_url=BASE_URL)"
   ]
  },
  {
   "cell_type": "code",
   "execution_count": 31,
   "metadata": {},
   "outputs": [],
   "source": [
    "# # Buying 5 shares of Google\n",
    "# api.submit_order(\n",
    "#     symbol='GOOG', \n",
    "#     qty='5',\n",
    "#     side='buy',\n",
    "#     type='market',\n",
    "#     time_in_force='day'\n",
    "# )\n",
    "# # Selling 5 shares of Google\n",
    "# api.submit_order(\n",
    "#     symbol='GOOG', \n",
    "#     qty='5',\n",
    "#     side='sell',\n",
    "#     type='market',\n",
    "#     time_in_force='day'\n",
    "# )"
   ]
  },
  {
   "cell_type": "code",
   "execution_count": null,
   "metadata": {},
   "outputs": [],
   "source": []
  }
 ],
 "metadata": {
  "kernelspec": {
   "display_name": "Python 3",
   "language": "python",
   "name": "python3"
  },
  "language_info": {
   "codemirror_mode": {
    "name": "ipython",
    "version": 3
   },
   "file_extension": ".py",
   "mimetype": "text/x-python",
   "name": "python",
   "nbconvert_exporter": "python",
   "pygments_lexer": "ipython3",
   "version": "3.7.4"
  }
 },
 "nbformat": 4,
 "nbformat_minor": 4
}
