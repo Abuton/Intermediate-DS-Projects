{
 "cells": [
  {
   "cell_type": "markdown",
   "metadata": {},
   "source": [
    "## Whatsapp chat data Analysis\n",
    "\n",
    "Since it a chat data (conversation) you might have guessed it right? No? Yes, of course it a text data which means yes of course you are right it NLP Natural Language Processing.\n",
    "\n",
    "Let begin.."
   ]
  },
  {
   "cell_type": "code",
   "execution_count": 1,
   "metadata": {},
   "outputs": [],
   "source": [
    "import wordcloud\n",
    "import numpy as np\n",
    "import pandas as pd\n",
    "from matplotlib import pyplot as plt\n",
    "import seaborn as sns\n",
    "from IPython.display import display\n",
    "from ipywidgets import *"
   ]
  },
  {
   "cell_type": "code",
   "execution_count": 14,
   "metadata": {},
   "outputs": [],
   "source": [
    "fontpath = None\n",
    "from nltk.corpus import stopwords\n",
    "import re\n",
    "def calculate_frequencies(chat_history, mask=None):\n",
    "    # decode text data\n",
    "#     chat_history = chat_history[0].decode('utf-8')\n",
    "    \n",
    "    # Here is a list of punctuations and uninteresting words you can use to process your text\n",
    "    punctuations = '''1-9!()-[]{};:'\"\\,<>./?@#$%^&*_~'''\n",
    "    uninteresting_words = [\"the\", \"a\", \"to\", \"if\", \"is\", \"it\", \"of\", \"and\", \"or\", \"an\", \"as\", \"i\", \"me\", \"my\", \\\n",
    "    \"we\", \"our\", \"ours\", \"you\", \"your\", \"yours\", \"he\", \"she\", \"him\", \"his\", \"her\", \"hers\", \"its\", \"they\", \"them\", \\\n",
    "    \"their\", \"what\", \"which\", \"who\", \"whom\", \"this\", \"that\", \"am\", \"are\", \"was\", \"were\", \"be\", \"been\", \"being\", \\\n",
    "    \"have\", \"has\", \"had\", \"do\", \"does\", \"did\", \"but\", \"at\", \"by\", \"with\", \"from\", \"here\", \"when\", \"where\", \"how\", \\\n",
    "    \"all\", \"any\", \"both\", \"each\", \"on\", \"few\", \"more\", \"some\", \"such\", \"no\", \"nor\", \"too\", \"very\", \"can\", \"will\", \"just\",\\\n",
    "    'pm', 'am', 'media', 'not', 'found', 'oh', 'so']\n",
    "    \n",
    "    # LEARNER CODE START HERE\n",
    "    word_dict = {}\n",
    "    new_s = [i.lower() for i in chat_history if i not in stopwords.words('english')]\n",
    "    new_s = [i for i in chat_history if i.isalnum() or i.isalpha() or i.isspace()]\n",
    "    word = ''.join(new_s)\n",
    "    def remove_punctuation(s):\n",
    "        return re.sub(r'[^\\w 0-9]|_', '', s)\n",
    "    word = remove_punctuation(word).split()\n",
    "    for i in word:\n",
    "        if i in uninteresting_words:\n",
    "            pass    \n",
    "        else:\n",
    "            word_dict[i] = word_dict.get(i, 0) + 1\n",
    "    \n",
    "    #wordcloud    \n",
    "    cloud = wordcloud.WordCloud(font_path=fontpath,scale=9, max_words=200, mask=mask, \n",
    "                                stopwords=wordcloud.STOPWORDS, background_color='white', font_step=1,\n",
    "                                colormap='inferno', min_word_length=4)\n",
    "    cloud.generate_from_frequencies(word_dict)\n",
    "    return cloud.to_array()"
   ]
  },
  {
   "cell_type": "code",
   "execution_count": 5,
   "metadata": {},
   "outputs": [],
   "source": [
    "def read_file(file):\n",
    "    \"\"\"\n",
    "    reads whatsapp text file into a list of strings\n",
    "    \"\"\"\n",
    "    x = open(file, 'r', encoding='utf-8')\n",
    "    y = x.read()\n",
    "    content = y.splitlines()\n",
    "    return content"
   ]
  },
  {
   "cell_type": "code",
   "execution_count": 6,
   "metadata": {},
   "outputs": [
    {
     "data": {
      "text/plain": [
       "811"
      ]
     },
     "execution_count": 6,
     "metadata": {},
     "output_type": "execute_result"
    }
   ],
   "source": [
    "chat_data = read_file('WhatsApp Chat with Abdul-Azeez.txt')\n",
    "len(chat_data)"
   ]
  },
  {
   "cell_type": "code",
   "execution_count": 257,
   "metadata": {},
   "outputs": [
    {
     "data": {
      "text/plain": [
       "['7/7/19, 03:14 - Messages and calls are end-to-end encrypted. No one outside of this chat, not',\n",
       " '7/7/19, 03:14 - AAO: Asalam alaikum bro',\n",
       " '7/7/19, 03:15 - AAO: Abeg help me send the time table and mobile computing materials if any',\n",
       " '7/7/19, 03:15 - AAO: Jazakallahu khairan',\n",
       " '7/7/19, 04:21 - Abdul-Azeez: Walealun. Salam.The time table is no longer on my phone sir',\n",
       " '7/7/19, 07:18 - AAO: Alright nah',\n",
       " '7/8/19, 17:47 - AAO: Asalam alaikum bro',\n",
       " 'Please share me muiz contact',\n",
       " '7/8/19, 17:47 - Abdul-Azeez: Muiz.vcf (file attached)',\n",
       " '7/8/19, 17:47 - Abdul-Azeez: Waleakun salam']"
      ]
     },
     "execution_count": 257,
     "metadata": {},
     "output_type": "execute_result"
    }
   ],
   "source": [
    "d[0].tolist()[:10]"
   ]
  },
  {
   "cell_type": "code",
   "execution_count": 16,
   "metadata": {},
   "outputs": [
    {
     "data": {
      "text/plain": [
       "['7/7/19, 03:14 - Messages and calls are end-to-end encrypted. No one outside of this chat, not even WhatsApp, can read or listen to them. Tap to learn more.',\n",
       " '7/7/19, 03:14 - AAO: Asalam alaikum bro',\n",
       " '7/7/19, 03:15 - AAO: Abeg help me send the time table and mobile computing materials if any',\n",
       " '7/7/19, 03:15 - AAO: Jazakallahu khairan',\n",
       " '7/7/19, 04:21 - Abdul-Azeez: Walealun. Salam.The time table is no longer on my phone sir',\n",
       " '7/7/19, 07:18 - AAO: Alright nah',\n",
       " '7/8/19, 17:47 - AAO: Asalam alaikum bro',\n",
       " 'Please share me muiz contact',\n",
       " '7/8/19, 17:47 - Abdul-Azeez: Muiz.vcf (file attached)',\n",
       " '7/8/19, 17:47 - Abdul-Azeez: Waleakun salam']"
      ]
     },
     "execution_count": 16,
     "metadata": {},
     "output_type": "execute_result"
    }
   ],
   "source": [
    "chat_data[:10]"
   ]
  },
  {
   "cell_type": "code",
   "execution_count": 265,
   "metadata": {},
   "outputs": [
    {
     "data": {
      "text/plain": [
       "688"
      ]
     },
     "execution_count": 265,
     "metadata": {},
     "output_type": "execute_result"
    }
   ],
   "source": [
    "# merge messages that belong together\n",
    "msgs = [] #message container\n",
    "pos = 0 \n",
    "\"\"\"For every line, see if it matches the expression which is starting with the format 'number(s)+slash' eg '12/' if it does, it \n",
    "is a new line of conversion as they begin with dates, add it to msgs container.\n",
    "Else, it is a continuation of the previous line, add it to the previous line and append to msgs, then pop previous line.\"\"\"\n",
    "\n",
    "for line in chat_data:\n",
    "    if re.findall(\"\\A\\d+[/]\", line):\n",
    "        msgs.append(line)\n",
    "        pos += 1\n",
    "    else:\n",
    "        take = msgs[pos - 1] + \". \"+ line\n",
    "        msgs.append(take)\n",
    "        msgs.pop(pos -1)\n",
    "len(msgs)"
   ]
  },
  {
   "cell_type": "code",
   "execution_count": 18,
   "metadata": {},
   "outputs": [
    {
     "data": {
      "text/plain": [
       "['7/7/19, 03:14 - Messages and calls are end-to-end encrypted. No one outside of this chat, not even WhatsApp, can read or listen to them. Tap to learn more.',\n",
       " '7/7/19, 03:14 - AAO: Asalam alaikum bro',\n",
       " '7/7/19, 03:15 - AAO: Abeg help me send the time table and mobile computing materials if any',\n",
       " '7/7/19, 03:15 - AAO: Jazakallahu khairan',\n",
       " '7/7/19, 04:21 - Abdul-Azeez: Walealun. Salam.The time table is no longer on my phone sir',\n",
       " '7/7/19, 07:18 - AAO: Alright nah',\n",
       " '7/8/19, 17:47 - AAO: Asalam alaikum bro. Please share me muiz contact',\n",
       " '7/8/19, 17:47 - Abdul-Azeez: Muiz.vcf (file attached)',\n",
       " '7/8/19, 17:47 - Abdul-Azeez: Waleakun salam',\n",
       " '7/8/19, 17:50 - AAO: Jazakallahu khairan']"
      ]
     },
     "execution_count": 18,
     "metadata": {},
     "output_type": "execute_result"
    }
   ],
   "source": [
    "msgs[:10]"
   ]
  },
  {
   "cell_type": "code",
   "execution_count": 20,
   "metadata": {},
   "outputs": [
    {
     "name": "stdout",
     "output_type": "stream",
     "text": [
      "length of time is:  688\n"
     ]
    },
    {
     "data": {
      "text/plain": [
       "['can read or listen to them. Tap to learn more.',\n",
       " '03:14',\n",
       " '03:15',\n",
       " '03:15',\n",
       " '04:21',\n",
       " '07:18',\n",
       " '17:47',\n",
       " '17:47',\n",
       " '17:47',\n",
       " '17:50']"
      ]
     },
     "execution_count": 20,
     "metadata": {},
     "output_type": "execute_result"
    }
   ],
   "source": [
    "time = [msgs[i].split(',')[-1].split('-')[0] for i in range(len(msgs))]\n",
    "time =  [s.strip(' ') for s in time]\n",
    "# remove spacing\n",
    "print(\"length of time is: \", len(time))\n",
    "time[:10]"
   ]
  },
  {
   "cell_type": "code",
   "execution_count": 21,
   "metadata": {},
   "outputs": [
    {
     "name": "stdout",
     "output_type": "stream",
     "text": [
      "688\n"
     ]
    },
    {
     "data": {
      "text/plain": [
       "['7/7/19',\n",
       " '7/7/19',\n",
       " '7/7/19',\n",
       " '7/7/19',\n",
       " '7/7/19',\n",
       " '7/7/19',\n",
       " '7/8/19',\n",
       " '7/8/19',\n",
       " '7/8/19',\n",
       " '7/8/19']"
      ]
     },
     "execution_count": 21,
     "metadata": {},
     "output_type": "execute_result"
    }
   ],
   "source": [
    "date = [msgs[i].split(',')[0] for i in range(len(msgs))]\n",
    "print(len(date))\n",
    "date[:10]"
   ]
  },
  {
   "cell_type": "code",
   "execution_count": 24,
   "metadata": {},
   "outputs": [
    {
     "data": {
      "text/plain": [
       "['end encrypted. No one outside of this chat, not even WhatsApp, can read or listen to them. Tap to learn more.',\n",
       " ' AAO',\n",
       " ' AAO',\n",
       " ' AAO',\n",
       " 'Azeez',\n",
       " ' AAO',\n",
       " ' AAO',\n",
       " 'Azeez',\n",
       " 'Azeez',\n",
       " ' AAO']"
      ]
     },
     "execution_count": 24,
     "metadata": {},
     "output_type": "execute_result"
    }
   ],
   "source": [
    "[msgs[i].split('-')[-1].split(':')[0] for i in range(len(msgs))][:10]"
   ]
  },
  {
   "cell_type": "code",
   "execution_count": 23,
   "metadata": {},
   "outputs": [
    {
     "name": "stdout",
     "output_type": "stream",
     "text": [
      "Length of name  688\n"
     ]
    },
    {
     "data": {
      "text/plain": [
       "[' Messages and calls are end',\n",
       " ' AAO',\n",
       " ' AAO',\n",
       " ' AAO',\n",
       " ' Abdul',\n",
       " ' AAO',\n",
       " ' AAO',\n",
       " ' Abdul',\n",
       " ' Abdul',\n",
       " ' AAO']"
      ]
     },
     "execution_count": 23,
     "metadata": {},
     "output_type": "execute_result"
    }
   ],
   "source": [
    "name = [msgs[i].split('-')[1].split(':')[0] for i in range(len(msgs))]\n",
    "print('Length of name ', len(name))\n",
    "name[:10]"
   ]
  },
  {
   "cell_type": "code",
   "execution_count": 26,
   "metadata": {},
   "outputs": [
    {
     "data": {
      "text/plain": [
       "688"
      ]
     },
     "execution_count": 26,
     "metadata": {},
     "output_type": "execute_result"
    }
   ],
   "source": [
    "content = []\n",
    "for i in range(len(msgs)):\n",
    "    try:\n",
    "        content.append(msgs[i].split(':')[2])\n",
    "    except IndexError:\n",
    "        content.append('Missing Text')\n",
    "len(content)"
   ]
  },
  {
   "cell_type": "code",
   "execution_count": 27,
   "metadata": {},
   "outputs": [
    {
     "data": {
      "text/html": [
       "<div>\n",
       "<style scoped>\n",
       "    .dataframe tbody tr th:only-of-type {\n",
       "        vertical-align: middle;\n",
       "    }\n",
       "\n",
       "    .dataframe tbody tr th {\n",
       "        vertical-align: top;\n",
       "    }\n",
       "\n",
       "    .dataframe thead th {\n",
       "        text-align: right;\n",
       "    }\n",
       "</style>\n",
       "<table border=\"1\" class=\"dataframe\">\n",
       "  <thead>\n",
       "    <tr style=\"text-align: right;\">\n",
       "      <th></th>\n",
       "      <th>Date</th>\n",
       "      <th>Time</th>\n",
       "      <th>Name</th>\n",
       "      <th>Content</th>\n",
       "    </tr>\n",
       "  </thead>\n",
       "  <tbody>\n",
       "    <tr>\n",
       "      <th>0</th>\n",
       "      <td>7/7/19</td>\n",
       "      <td>can read or listen to them. Tap to learn more.</td>\n",
       "      <td>Messages and calls are end</td>\n",
       "      <td>Missing Text</td>\n",
       "    </tr>\n",
       "    <tr>\n",
       "      <th>1</th>\n",
       "      <td>7/7/19</td>\n",
       "      <td>03:14</td>\n",
       "      <td>AAO</td>\n",
       "      <td>Asalam alaikum bro</td>\n",
       "    </tr>\n",
       "    <tr>\n",
       "      <th>2</th>\n",
       "      <td>7/7/19</td>\n",
       "      <td>03:15</td>\n",
       "      <td>AAO</td>\n",
       "      <td>Abeg help me send the time table and mobile c...</td>\n",
       "    </tr>\n",
       "    <tr>\n",
       "      <th>3</th>\n",
       "      <td>7/7/19</td>\n",
       "      <td>03:15</td>\n",
       "      <td>AAO</td>\n",
       "      <td>Jazakallahu khairan</td>\n",
       "    </tr>\n",
       "    <tr>\n",
       "      <th>4</th>\n",
       "      <td>7/7/19</td>\n",
       "      <td>04:21</td>\n",
       "      <td>Abdul</td>\n",
       "      <td>Walealun. Salam.The time table is no longer o...</td>\n",
       "    </tr>\n",
       "  </tbody>\n",
       "</table>\n",
       "</div>"
      ],
      "text/plain": [
       "     Date                                            Time  \\\n",
       "0  7/7/19  can read or listen to them. Tap to learn more.   \n",
       "1  7/7/19                                           03:14   \n",
       "2  7/7/19                                           03:15   \n",
       "3  7/7/19                                           03:15   \n",
       "4  7/7/19                                           04:21   \n",
       "\n",
       "                          Name  \\\n",
       "0   Messages and calls are end   \n",
       "1                          AAO   \n",
       "2                          AAO   \n",
       "3                          AAO   \n",
       "4                        Abdul   \n",
       "\n",
       "                                             Content  \n",
       "0                                       Missing Text  \n",
       "1                                 Asalam alaikum bro  \n",
       "2   Abeg help me send the time table and mobile c...  \n",
       "3                                Jazakallahu khairan  \n",
       "4   Walealun. Salam.The time table is no longer o...  "
      ]
     },
     "execution_count": 27,
     "metadata": {},
     "output_type": "execute_result"
    }
   ],
   "source": [
    "df = pd.DataFrame(list(zip(date, time, name, content)), columns = ['Date', 'Time', 'Name', 'Content'])\n",
    "\n",
    "df.head()"
   ]
  },
  {
   "cell_type": "code",
   "execution_count": 28,
   "metadata": {},
   "outputs": [],
   "source": [
    "df.drop(0, axis=0, inplace=True)"
   ]
  },
  {
   "cell_type": "code",
   "execution_count": 29,
   "metadata": {},
   "outputs": [
    {
     "data": {
      "text/html": [
       "<div>\n",
       "<style scoped>\n",
       "    .dataframe tbody tr th:only-of-type {\n",
       "        vertical-align: middle;\n",
       "    }\n",
       "\n",
       "    .dataframe tbody tr th {\n",
       "        vertical-align: top;\n",
       "    }\n",
       "\n",
       "    .dataframe thead th {\n",
       "        text-align: right;\n",
       "    }\n",
       "</style>\n",
       "<table border=\"1\" class=\"dataframe\">\n",
       "  <thead>\n",
       "    <tr style=\"text-align: right;\">\n",
       "      <th></th>\n",
       "      <th>Date</th>\n",
       "      <th>Time</th>\n",
       "      <th>Name</th>\n",
       "      <th>Content</th>\n",
       "    </tr>\n",
       "  </thead>\n",
       "  <tbody>\n",
       "    <tr>\n",
       "      <th>1</th>\n",
       "      <td>7/7/19</td>\n",
       "      <td>03:14</td>\n",
       "      <td>AAO</td>\n",
       "      <td>Asalam alaikum bro</td>\n",
       "    </tr>\n",
       "    <tr>\n",
       "      <th>2</th>\n",
       "      <td>7/7/19</td>\n",
       "      <td>03:15</td>\n",
       "      <td>AAO</td>\n",
       "      <td>Abeg help me send the time table and mobile c...</td>\n",
       "    </tr>\n",
       "    <tr>\n",
       "      <th>3</th>\n",
       "      <td>7/7/19</td>\n",
       "      <td>03:15</td>\n",
       "      <td>AAO</td>\n",
       "      <td>Jazakallahu khairan</td>\n",
       "    </tr>\n",
       "    <tr>\n",
       "      <th>4</th>\n",
       "      <td>7/7/19</td>\n",
       "      <td>04:21</td>\n",
       "      <td>Abdul</td>\n",
       "      <td>Walealun. Salam.The time table is no longer o...</td>\n",
       "    </tr>\n",
       "    <tr>\n",
       "      <th>5</th>\n",
       "      <td>7/7/19</td>\n",
       "      <td>07:18</td>\n",
       "      <td>AAO</td>\n",
       "      <td>Alright nah</td>\n",
       "    </tr>\n",
       "  </tbody>\n",
       "</table>\n",
       "</div>"
      ],
      "text/plain": [
       "     Date   Time    Name                                            Content\n",
       "1  7/7/19  03:14     AAO                                 Asalam alaikum bro\n",
       "2  7/7/19  03:15     AAO   Abeg help me send the time table and mobile c...\n",
       "3  7/7/19  03:15     AAO                                Jazakallahu khairan\n",
       "4  7/7/19  04:21   Abdul   Walealun. Salam.The time table is no longer o...\n",
       "5  7/7/19  07:18     AAO                                        Alright nah"
      ]
     },
     "execution_count": 29,
     "metadata": {},
     "output_type": "execute_result"
    }
   ],
   "source": [
    "df.head()"
   ]
  },
  {
   "cell_type": "code",
   "execution_count": 30,
   "metadata": {},
   "outputs": [
    {
     "data": {
      "text/plain": [
       "(687, 4)"
      ]
     },
     "execution_count": 30,
     "metadata": {},
     "output_type": "execute_result"
    }
   ],
   "source": [
    "df.shape"
   ]
  },
  {
   "cell_type": "code",
   "execution_count": 31,
   "metadata": {},
   "outputs": [
    {
     "name": "stdout",
     "output_type": "stream",
     "text": [
      "<class 'pandas.core.frame.DataFrame'>\n",
      "Int64Index: 687 entries, 1 to 687\n",
      "Data columns (total 4 columns):\n",
      " #   Column   Non-Null Count  Dtype \n",
      "---  ------   --------------  ----- \n",
      " 0   Date     687 non-null    object\n",
      " 1   Time     687 non-null    object\n",
      " 2   Name     687 non-null    object\n",
      " 3   Content  687 non-null    object\n",
      "dtypes: object(4)\n",
      "memory usage: 26.8+ KB\n"
     ]
    }
   ],
   "source": [
    "df.info()"
   ]
  },
  {
   "cell_type": "markdown",
   "metadata": {},
   "source": [
    "### Now Let start the exploration"
   ]
  },
  {
   "cell_type": "code",
   "execution_count": 32,
   "metadata": {},
   "outputs": [
    {
     "data": {
      "text/plain": [
       " <Media omitted>    63\n",
       " Ok                 11\n",
       " Yh                  9\n",
       " Lol                 8\n",
       " Okay                7\n",
       "Name: Content, dtype: int64"
      ]
     },
     "execution_count": 32,
     "metadata": {},
     "output_type": "execute_result"
    }
   ],
   "source": [
    "# most sent messages\n",
    "df['Content'].value_counts().head()"
   ]
  },
  {
   "cell_type": "markdown",
   "metadata": {},
   "source": [
    "So we had shared 63 media files which could have been either pictures, pdfs etc\n",
    "\n",
    "Since this is not needed for the analysis, i dropped it"
   ]
  },
  {
   "cell_type": "code",
   "execution_count": 35,
   "metadata": {},
   "outputs": [
    {
     "name": "stdout",
     "output_type": "stream",
     "text": [
      "(687, 4)\n",
      "(624, 4)\n"
     ]
    }
   ],
   "source": [
    "print(df.shape)\n",
    "df = df[df['Content'] != ' <Media omitted>']\n",
    "print(df.shape)"
   ]
  },
  {
   "cell_type": "code",
   "execution_count": 37,
   "metadata": {},
   "outputs": [
    {
     "data": {
      "text/plain": [
       " Ok      11\n",
       " Yh       9\n",
       " Lol      8\n",
       " Okay     7\n",
       " Scam     6\n",
       "Name: Content, dtype: int64"
      ]
     },
     "execution_count": 37,
     "metadata": {},
     "output_type": "execute_result"
    }
   ],
   "source": [
    "df['Content'].value_counts().head()"
   ]
  },
  {
   "cell_type": "markdown",
   "metadata": {},
   "source": [
    "Since OK, Ok and Okay are same thing i replaced them with just one word 'ok'"
   ]
  },
  {
   "cell_type": "code",
   "execution_count": 43,
   "metadata": {},
   "outputs": [
    {
     "data": {
      "text/html": [
       "<div>\n",
       "<style scoped>\n",
       "    .dataframe tbody tr th:only-of-type {\n",
       "        vertical-align: middle;\n",
       "    }\n",
       "\n",
       "    .dataframe tbody tr th {\n",
       "        vertical-align: top;\n",
       "    }\n",
       "\n",
       "    .dataframe thead th {\n",
       "        text-align: right;\n",
       "    }\n",
       "</style>\n",
       "<table border=\"1\" class=\"dataframe\">\n",
       "  <thead>\n",
       "    <tr style=\"text-align: right;\">\n",
       "      <th></th>\n",
       "      <th>Date</th>\n",
       "      <th>Time</th>\n",
       "      <th>Name</th>\n",
       "      <th>Content</th>\n",
       "    </tr>\n",
       "  </thead>\n",
       "  <tbody>\n",
       "  </tbody>\n",
       "</table>\n",
       "</div>"
      ],
      "text/plain": [
       "Empty DataFrame\n",
       "Columns: [Date, Time, Name, Content]\n",
       "Index: []"
      ]
     },
     "execution_count": 43,
     "metadata": {},
     "output_type": "execute_result"
    }
   ],
   "source": [
    "df[df['Content'] == ' OK']"
   ]
  },
  {
   "cell_type": "code",
   "execution_count": 44,
   "metadata": {},
   "outputs": [
    {
     "data": {
      "text/plain": [
       "ok       18\n",
       " Yh       9\n",
       " Lol      8\n",
       " Scam     6\n",
       " Amin     6\n",
       "Name: Content, dtype: int64"
      ]
     },
     "execution_count": 44,
     "metadata": {},
     "output_type": "execute_result"
    }
   ],
   "source": [
    "df.Content.replace(to_replace=[' Ok', ' Okay', 'OK'], value=['ok', 'ok', 'ok'], inplace=True)\n",
    "\n",
    "df['Content'].value_counts().head()"
   ]
  },
  {
   "cell_type": "markdown",
   "metadata": {},
   "source": [
    "Looks like we agree alot, maybe not sha"
   ]
  },
  {
   "cell_type": "code",
   "execution_count": 46,
   "metadata": {},
   "outputs": [
    {
     "data": {
      "text/plain": [
       " Abdul    322\n",
       " AAO      302\n",
       "Name: Name, dtype: int64"
      ]
     },
     "execution_count": 46,
     "metadata": {},
     "output_type": "execute_result"
    }
   ],
   "source": [
    "# which sender sends the highest msg?\n",
    "\n",
    "df.Name.value_counts()"
   ]
  },
  {
   "cell_type": "markdown",
   "metadata": {},
   "source": [
    "##### Removing Emojis from the message\n",
    "\n",
    "We did this by encoding the texts as unicode which eliminates the smileys then we decode it back to our normal text."
   ]
  },
  {
   "cell_type": "code",
   "execution_count": 47,
   "metadata": {},
   "outputs": [
    {
     "data": {
      "text/html": [
       "<div>\n",
       "<style scoped>\n",
       "    .dataframe tbody tr th:only-of-type {\n",
       "        vertical-align: middle;\n",
       "    }\n",
       "\n",
       "    .dataframe tbody tr th {\n",
       "        vertical-align: top;\n",
       "    }\n",
       "\n",
       "    .dataframe thead th {\n",
       "        text-align: right;\n",
       "    }\n",
       "</style>\n",
       "<table border=\"1\" class=\"dataframe\">\n",
       "  <thead>\n",
       "    <tr style=\"text-align: right;\">\n",
       "      <th></th>\n",
       "      <th>Date</th>\n",
       "      <th>Time</th>\n",
       "      <th>Name</th>\n",
       "      <th>Content</th>\n",
       "    </tr>\n",
       "  </thead>\n",
       "  <tbody>\n",
       "    <tr>\n",
       "      <th>1</th>\n",
       "      <td>7/7/19</td>\n",
       "      <td>03:14</td>\n",
       "      <td>AAO</td>\n",
       "      <td>Asalam alaikum bro</td>\n",
       "    </tr>\n",
       "    <tr>\n",
       "      <th>2</th>\n",
       "      <td>7/7/19</td>\n",
       "      <td>03:15</td>\n",
       "      <td>AAO</td>\n",
       "      <td>Abeg help me send the time table and mobile c...</td>\n",
       "    </tr>\n",
       "    <tr>\n",
       "      <th>3</th>\n",
       "      <td>7/7/19</td>\n",
       "      <td>03:15</td>\n",
       "      <td>AAO</td>\n",
       "      <td>Jazakallahu khairan</td>\n",
       "    </tr>\n",
       "    <tr>\n",
       "      <th>4</th>\n",
       "      <td>7/7/19</td>\n",
       "      <td>04:21</td>\n",
       "      <td>Abdul</td>\n",
       "      <td>Walealun. Salam.The time table is no longer o...</td>\n",
       "    </tr>\n",
       "    <tr>\n",
       "      <th>5</th>\n",
       "      <td>7/7/19</td>\n",
       "      <td>07:18</td>\n",
       "      <td>AAO</td>\n",
       "      <td>Alright nah</td>\n",
       "    </tr>\n",
       "  </tbody>\n",
       "</table>\n",
       "</div>"
      ],
      "text/plain": [
       "     Date   Time    Name                                            Content\n",
       "1  7/7/19  03:14     AAO                                 Asalam alaikum bro\n",
       "2  7/7/19  03:15     AAO   Abeg help me send the time table and mobile c...\n",
       "3  7/7/19  03:15     AAO                                Jazakallahu khairan\n",
       "4  7/7/19  04:21   Abdul   Walealun. Salam.The time table is no longer o...\n",
       "5  7/7/19  07:18     AAO                                        Alright nah"
      ]
     },
     "execution_count": 47,
     "metadata": {},
     "output_type": "execute_result"
    }
   ],
   "source": [
    "#removing emojis\n",
    "\n",
    "def remove_emoji(text):\n",
    "    return text.encode('ascii', 'ignore').decode('ascii')\n",
    "\n",
    "df['Content'] = df['Content'].apply(remove_emoji)\n",
    "df.head()"
   ]
  },
  {
   "cell_type": "markdown",
   "metadata": {},
   "source": [
    "###### Creating a new column\n",
    "\n",
    "A new column called chat_length is to be created by just getting the length of each message sent, this results to the number of characters in each message."
   ]
  },
  {
   "cell_type": "code",
   "execution_count": 48,
   "metadata": {},
   "outputs": [
    {
     "data": {
      "text/html": [
       "<div>\n",
       "<style scoped>\n",
       "    .dataframe tbody tr th:only-of-type {\n",
       "        vertical-align: middle;\n",
       "    }\n",
       "\n",
       "    .dataframe tbody tr th {\n",
       "        vertical-align: top;\n",
       "    }\n",
       "\n",
       "    .dataframe thead th {\n",
       "        text-align: right;\n",
       "    }\n",
       "</style>\n",
       "<table border=\"1\" class=\"dataframe\">\n",
       "  <thead>\n",
       "    <tr style=\"text-align: right;\">\n",
       "      <th></th>\n",
       "      <th>Date</th>\n",
       "      <th>Time</th>\n",
       "      <th>Name</th>\n",
       "      <th>Content</th>\n",
       "      <th>chat_length</th>\n",
       "    </tr>\n",
       "  </thead>\n",
       "  <tbody>\n",
       "    <tr>\n",
       "      <th>1</th>\n",
       "      <td>7/7/19</td>\n",
       "      <td>03:14</td>\n",
       "      <td>AAO</td>\n",
       "      <td>Asalam alaikum bro</td>\n",
       "      <td>19</td>\n",
       "    </tr>\n",
       "    <tr>\n",
       "      <th>2</th>\n",
       "      <td>7/7/19</td>\n",
       "      <td>03:15</td>\n",
       "      <td>AAO</td>\n",
       "      <td>Abeg help me send the time table and mobile c...</td>\n",
       "      <td>71</td>\n",
       "    </tr>\n",
       "    <tr>\n",
       "      <th>3</th>\n",
       "      <td>7/7/19</td>\n",
       "      <td>03:15</td>\n",
       "      <td>AAO</td>\n",
       "      <td>Jazakallahu khairan</td>\n",
       "      <td>20</td>\n",
       "    </tr>\n",
       "    <tr>\n",
       "      <th>4</th>\n",
       "      <td>7/7/19</td>\n",
       "      <td>04:21</td>\n",
       "      <td>Abdul</td>\n",
       "      <td>Walealun. Salam.The time table is no longer o...</td>\n",
       "      <td>60</td>\n",
       "    </tr>\n",
       "    <tr>\n",
       "      <th>5</th>\n",
       "      <td>7/7/19</td>\n",
       "      <td>07:18</td>\n",
       "      <td>AAO</td>\n",
       "      <td>Alright nah</td>\n",
       "      <td>12</td>\n",
       "    </tr>\n",
       "  </tbody>\n",
       "</table>\n",
       "</div>"
      ],
      "text/plain": [
       "     Date   Time    Name                                            Content  \\\n",
       "1  7/7/19  03:14     AAO                                 Asalam alaikum bro   \n",
       "2  7/7/19  03:15     AAO   Abeg help me send the time table and mobile c...   \n",
       "3  7/7/19  03:15     AAO                                Jazakallahu khairan   \n",
       "4  7/7/19  04:21   Abdul   Walealun. Salam.The time table is no longer o...   \n",
       "5  7/7/19  07:18     AAO                                        Alright nah   \n",
       "\n",
       "   chat_length  \n",
       "1           19  \n",
       "2           71  \n",
       "3           20  \n",
       "4           60  \n",
       "5           12  "
      ]
     },
     "execution_count": 48,
     "metadata": {},
     "output_type": "execute_result"
    }
   ],
   "source": [
    "df['chat_length'] = df['Content'].apply(len)\n",
    "df.head()"
   ]
  },
  {
   "cell_type": "markdown",
   "metadata": {},
   "source": [
    "###### Creating a new column\n",
    "\n",
    "A new column called word_count is to be created by just getting the count of words of each message sent, this results to the number of words in each message."
   ]
  },
  {
   "cell_type": "code",
   "execution_count": 50,
   "metadata": {},
   "outputs": [
    {
     "data": {
      "text/plain": [
       "6"
      ]
     },
     "execution_count": 50,
     "metadata": {},
     "output_type": "execute_result"
    }
   ],
   "source": [
    "def word_count(s):\n",
    "    return len(s.split())\n",
    "\n",
    "word_count('Hey bro! How far that project')"
   ]
  },
  {
   "cell_type": "code",
   "execution_count": 51,
   "metadata": {},
   "outputs": [
    {
     "data": {
      "text/html": [
       "<div>\n",
       "<style scoped>\n",
       "    .dataframe tbody tr th:only-of-type {\n",
       "        vertical-align: middle;\n",
       "    }\n",
       "\n",
       "    .dataframe tbody tr th {\n",
       "        vertical-align: top;\n",
       "    }\n",
       "\n",
       "    .dataframe thead th {\n",
       "        text-align: right;\n",
       "    }\n",
       "</style>\n",
       "<table border=\"1\" class=\"dataframe\">\n",
       "  <thead>\n",
       "    <tr style=\"text-align: right;\">\n",
       "      <th></th>\n",
       "      <th>Date</th>\n",
       "      <th>Time</th>\n",
       "      <th>Name</th>\n",
       "      <th>Content</th>\n",
       "      <th>chat_length</th>\n",
       "      <th>word_count</th>\n",
       "    </tr>\n",
       "  </thead>\n",
       "  <tbody>\n",
       "    <tr>\n",
       "      <th>1</th>\n",
       "      <td>7/7/19</td>\n",
       "      <td>03:14</td>\n",
       "      <td>AAO</td>\n",
       "      <td>Asalam alaikum bro</td>\n",
       "      <td>19</td>\n",
       "      <td>3</td>\n",
       "    </tr>\n",
       "    <tr>\n",
       "      <th>2</th>\n",
       "      <td>7/7/19</td>\n",
       "      <td>03:15</td>\n",
       "      <td>AAO</td>\n",
       "      <td>Abeg help me send the time table and mobile c...</td>\n",
       "      <td>71</td>\n",
       "      <td>13</td>\n",
       "    </tr>\n",
       "    <tr>\n",
       "      <th>3</th>\n",
       "      <td>7/7/19</td>\n",
       "      <td>03:15</td>\n",
       "      <td>AAO</td>\n",
       "      <td>Jazakallahu khairan</td>\n",
       "      <td>20</td>\n",
       "      <td>2</td>\n",
       "    </tr>\n",
       "    <tr>\n",
       "      <th>4</th>\n",
       "      <td>7/7/19</td>\n",
       "      <td>04:21</td>\n",
       "      <td>Abdul</td>\n",
       "      <td>Walealun. Salam.The time table is no longer o...</td>\n",
       "      <td>60</td>\n",
       "      <td>11</td>\n",
       "    </tr>\n",
       "    <tr>\n",
       "      <th>5</th>\n",
       "      <td>7/7/19</td>\n",
       "      <td>07:18</td>\n",
       "      <td>AAO</td>\n",
       "      <td>Alright nah</td>\n",
       "      <td>12</td>\n",
       "      <td>2</td>\n",
       "    </tr>\n",
       "  </tbody>\n",
       "</table>\n",
       "</div>"
      ],
      "text/plain": [
       "     Date   Time    Name                                            Content  \\\n",
       "1  7/7/19  03:14     AAO                                 Asalam alaikum bro   \n",
       "2  7/7/19  03:15     AAO   Abeg help me send the time table and mobile c...   \n",
       "3  7/7/19  03:15     AAO                                Jazakallahu khairan   \n",
       "4  7/7/19  04:21   Abdul   Walealun. Salam.The time table is no longer o...   \n",
       "5  7/7/19  07:18     AAO                                        Alright nah   \n",
       "\n",
       "   chat_length  word_count  \n",
       "1           19           3  \n",
       "2           71          13  \n",
       "3           20           2  \n",
       "4           60          11  \n",
       "5           12           2  "
      ]
     },
     "execution_count": 51,
     "metadata": {},
     "output_type": "execute_result"
    }
   ],
   "source": [
    "df['word_count'] = df['Content'].apply(word_count)\n",
    "\n",
    "df.head()"
   ]
  },
  {
   "cell_type": "code",
   "execution_count": 52,
   "metadata": {},
   "outputs": [
    {
     "data": {
      "text/html": [
       "<div>\n",
       "<style scoped>\n",
       "    .dataframe tbody tr th:only-of-type {\n",
       "        vertical-align: middle;\n",
       "    }\n",
       "\n",
       "    .dataframe tbody tr th {\n",
       "        vertical-align: top;\n",
       "    }\n",
       "\n",
       "    .dataframe thead th {\n",
       "        text-align: right;\n",
       "    }\n",
       "</style>\n",
       "<table border=\"1\" class=\"dataframe\">\n",
       "  <thead>\n",
       "    <tr style=\"text-align: right;\">\n",
       "      <th></th>\n",
       "      <th>Date</th>\n",
       "      <th>Time</th>\n",
       "      <th>Name</th>\n",
       "      <th>Content</th>\n",
       "      <th>chat_length</th>\n",
       "      <th>word_count</th>\n",
       "    </tr>\n",
       "  </thead>\n",
       "  <tbody>\n",
       "    <tr>\n",
       "      <th>1</th>\n",
       "      <td>7/7/19</td>\n",
       "      <td>03:14</td>\n",
       "      <td>AAO</td>\n",
       "      <td>Asalam alaikum bro</td>\n",
       "      <td>19</td>\n",
       "      <td>3</td>\n",
       "    </tr>\n",
       "    <tr>\n",
       "      <th>2</th>\n",
       "      <td>7/7/19</td>\n",
       "      <td>03:15</td>\n",
       "      <td>AAO</td>\n",
       "      <td>Abeg help me send the time table and mobile c...</td>\n",
       "      <td>71</td>\n",
       "      <td>13</td>\n",
       "    </tr>\n",
       "    <tr>\n",
       "      <th>3</th>\n",
       "      <td>7/7/19</td>\n",
       "      <td>03:15</td>\n",
       "      <td>AAO</td>\n",
       "      <td>Jazakallahu khairan</td>\n",
       "      <td>20</td>\n",
       "      <td>2</td>\n",
       "    </tr>\n",
       "    <tr>\n",
       "      <th>4</th>\n",
       "      <td>7/7/19</td>\n",
       "      <td>04:21</td>\n",
       "      <td>AbdulAzeez</td>\n",
       "      <td>Walealun. Salam.The time table is no longer o...</td>\n",
       "      <td>60</td>\n",
       "      <td>11</td>\n",
       "    </tr>\n",
       "    <tr>\n",
       "      <th>5</th>\n",
       "      <td>7/7/19</td>\n",
       "      <td>07:18</td>\n",
       "      <td>AAO</td>\n",
       "      <td>Alright nah</td>\n",
       "      <td>12</td>\n",
       "      <td>2</td>\n",
       "    </tr>\n",
       "  </tbody>\n",
       "</table>\n",
       "</div>"
      ],
      "text/plain": [
       "     Date   Time        Name  \\\n",
       "1  7/7/19  03:14         AAO   \n",
       "2  7/7/19  03:15         AAO   \n",
       "3  7/7/19  03:15         AAO   \n",
       "4  7/7/19  04:21  AbdulAzeez   \n",
       "5  7/7/19  07:18         AAO   \n",
       "\n",
       "                                             Content  chat_length  word_count  \n",
       "1                                 Asalam alaikum bro           19           3  \n",
       "2   Abeg help me send the time table and mobile c...           71          13  \n",
       "3                                Jazakallahu khairan           20           2  \n",
       "4   Walealun. Salam.The time table is no longer o...           60          11  \n",
       "5                                        Alright nah           12           2  "
      ]
     },
     "execution_count": 52,
     "metadata": {},
     "output_type": "execute_result"
    }
   ],
   "source": [
    "# replace 'Abdul' in Name column to 'AbdulAzeez'\n",
    "df.Name.replace(to_replace=' Abdul', value='AbdulAzeez', inplace=True)\n",
    "\n",
    "df.head()"
   ]
  },
  {
   "cell_type": "markdown",
   "metadata": {},
   "source": [
    "## Now EDA with charts \n",
    "\n",
    "Matplotlib and seaborn will be used shall we??"
   ]
  },
  {
   "cell_type": "code",
   "execution_count": 57,
   "metadata": {},
   "outputs": [
    {
     "data": {
      "image/png": "[encoded data removed]",
      "text/plain": [
       "<Figure size 648x360 with 1 Axes>"
      ]
     },
     "metadata": {},
     "output_type": "display_data"
    }
   ],
   "source": [
    "    # which sender sends the most message??\n",
    "    plt.style.use('ggplot')\n",
    "    df.Name.value_counts().plot(kind='bar', figsize=(9,5), title='Message Distribution amongest Senders')\n",
    "    plt.xlabel('Sender', fontsize=13);plt.ylabel('Message Count', fontsize=13); plt.xticks(rotation=0, fontsize=14);plt.show()"
   ]
  },
  {
   "cell_type": "markdown",
   "metadata": {},
   "source": [
    "You can decide to split the data into a more precise timing like from 6am above can be morning while 12noon to 6pm can be afternoon, 6pm to 12am can be evening or night and 12am to 6am midnight or early morning. This can be done using the Time_of_day column and the time column, you can try it out."
   ]
  },
  {
   "cell_type": "code",
   "execution_count": 128,
   "metadata": {},
   "outputs": [
    {
     "data": {
      "text/html": [
       "<div>\n",
       "<style scoped>\n",
       "    .dataframe tbody tr th:only-of-type {\n",
       "        vertical-align: middle;\n",
       "    }\n",
       "\n",
       "    .dataframe tbody tr th {\n",
       "        vertical-align: top;\n",
       "    }\n",
       "\n",
       "    .dataframe thead th {\n",
       "        text-align: right;\n",
       "    }\n",
       "</style>\n",
       "<table border=\"1\" class=\"dataframe\">\n",
       "  <thead>\n",
       "    <tr style=\"text-align: right;\">\n",
       "      <th></th>\n",
       "      <th>Date</th>\n",
       "      <th>Time</th>\n",
       "      <th>Name</th>\n",
       "      <th>Content</th>\n",
       "      <th>chat_length</th>\n",
       "      <th>word_count</th>\n",
       "      <th>date_time</th>\n",
       "      <th>clean_content</th>\n",
       "    </tr>\n",
       "  </thead>\n",
       "  <tbody>\n",
       "    <tr>\n",
       "      <th>1</th>\n",
       "      <td>7/7/19</td>\n",
       "      <td>03:14</td>\n",
       "      <td>AAO</td>\n",
       "      <td>Asalam alaikum bro</td>\n",
       "      <td>19</td>\n",
       "      <td>3</td>\n",
       "      <td>7/7/19 03:14</td>\n",
       "      <td>asalam alaikum bro</td>\n",
       "    </tr>\n",
       "    <tr>\n",
       "      <th>2</th>\n",
       "      <td>7/7/19</td>\n",
       "      <td>03:15</td>\n",
       "      <td>AAO</td>\n",
       "      <td>Abeg help me send the time table and mobile c...</td>\n",
       "      <td>71</td>\n",
       "      <td>13</td>\n",
       "      <td>7/7/19 03:15</td>\n",
       "      <td>abeg help send time table mobile computing mat...</td>\n",
       "    </tr>\n",
       "    <tr>\n",
       "      <th>3</th>\n",
       "      <td>7/7/19</td>\n",
       "      <td>03:15</td>\n",
       "      <td>AAO</td>\n",
       "      <td>Jazakallahu khairan</td>\n",
       "      <td>20</td>\n",
       "      <td>2</td>\n",
       "      <td>7/7/19 03:15</td>\n",
       "      <td>jazakallahu khairan</td>\n",
       "    </tr>\n",
       "    <tr>\n",
       "      <th>4</th>\n",
       "      <td>7/7/19</td>\n",
       "      <td>04:21</td>\n",
       "      <td>AbdulAzeez</td>\n",
       "      <td>Walealun. Salam.The time table is no longer o...</td>\n",
       "      <td>60</td>\n",
       "      <td>11</td>\n",
       "      <td>7/7/19 04:21</td>\n",
       "      <td>walealun salamthe time table longer phone sir</td>\n",
       "    </tr>\n",
       "    <tr>\n",
       "      <th>5</th>\n",
       "      <td>7/7/19</td>\n",
       "      <td>07:18</td>\n",
       "      <td>AAO</td>\n",
       "      <td>Alright nah</td>\n",
       "      <td>12</td>\n",
       "      <td>2</td>\n",
       "      <td>7/7/19 07:18</td>\n",
       "      <td>alright nah</td>\n",
       "    </tr>\n",
       "  </tbody>\n",
       "</table>\n",
       "</div>"
      ],
      "text/plain": [
       "     Date   Time        Name  \\\n",
       "1  7/7/19  03:14         AAO   \n",
       "2  7/7/19  03:15         AAO   \n",
       "3  7/7/19  03:15         AAO   \n",
       "4  7/7/19  04:21  AbdulAzeez   \n",
       "5  7/7/19  07:18         AAO   \n",
       "\n",
       "                                             Content  chat_length  word_count  \\\n",
       "1                                 Asalam alaikum bro           19           3   \n",
       "2   Abeg help me send the time table and mobile c...           71          13   \n",
       "3                                Jazakallahu khairan           20           2   \n",
       "4   Walealun. Salam.The time table is no longer o...           60          11   \n",
       "5                                        Alright nah           12           2   \n",
       "\n",
       "      date_time                                      clean_content  \n",
       "1  7/7/19 03:14                                 asalam alaikum bro  \n",
       "2  7/7/19 03:15  abeg help send time table mobile computing mat...  \n",
       "3  7/7/19 03:15                                jazakallahu khairan  \n",
       "4  7/7/19 04:21      walealun salamthe time table longer phone sir  \n",
       "5  7/7/19 07:18                                        alright nah  "
      ]
     },
     "execution_count": 128,
     "metadata": {},
     "output_type": "execute_result"
    }
   ],
   "source": [
    "import warnings\n",
    "warnings.filterwarnings('ignore')\n",
    "df['date_time'] = pd.to_datetime(df['Date'] + ' ' + df['Time'], format=\"%m%d%Y %I:%M\", errors='ignore')\n",
    "df.head()"
   ]
  },
  {
   "cell_type": "code",
   "execution_count": 130,
   "metadata": {},
   "outputs": [],
   "source": [
    "df['Date'] = pd.to_datetime(df['Date'])"
   ]
  },
  {
   "cell_type": "code",
   "execution_count": 184,
   "metadata": {},
   "outputs": [],
   "source": [
    "df['day'] = df['Date'].dt.day\n",
    "df['month'] = df['Date'].dt.month\n",
    "df['year'] = df['Date'].dt.year"
   ]
  },
  {
   "cell_type": "code",
   "execution_count": 237,
   "metadata": {},
   "outputs": [
    {
     "data": {
      "text/plain": [
       "Timestamp('2019-07-07 00:00:00')"
      ]
     },
     "execution_count": 237,
     "metadata": {},
     "output_type": "execute_result"
    }
   ],
   "source": [
    "df['Date'][1]"
   ]
  },
  {
   "cell_type": "code",
   "execution_count": 244,
   "metadata": {},
   "outputs": [
    {
     "data": {
      "text/plain": [
       "1          July\n",
       "2          July\n",
       "3          July\n",
       "4          July\n",
       "5          July\n",
       "         ...   \n",
       "680     October\n",
       "681     October\n",
       "682     October\n",
       "684    November\n",
       "686    December\n",
       "Name: Date, Length: 622, dtype: object"
      ]
     },
     "execution_count": 244,
     "metadata": {},
     "output_type": "execute_result"
    }
   ],
   "source": [
    "day_name = df['Date'].dt.day_name()\n",
    "month_name = df['Date'].dt.month_name()\n",
    "month_name"
   ]
  },
  {
   "cell_type": "code",
   "execution_count": 246,
   "metadata": {},
   "outputs": [
    {
     "data": {
      "text/plain": [
       "'AbdulAzeez'"
      ]
     },
     "execution_count": 246,
     "metadata": {},
     "output_type": "execute_result"
    }
   ],
   "source": [
    "top25_user = df['Name'].value_counts().index[:25]\n",
    "top25_user[0]"
   ]
  },
  {
   "cell_type": "code",
   "execution_count": 161,
   "metadata": {},
   "outputs": [
    {
     "name": "stdout",
     "output_type": "stream",
     "text": [
      "['Sat' nan 'Thu' 'Sun' 'Fri']\n",
      "['Jul' 'Aug' 'Sep' 'Oct' 'Nov' 'Dec' 'Jan' 'Feb' 'Mar' 'Apr' 'May' 'Jun']\n"
     ]
    }
   ],
   "source": [
    "month_mapping = {1:'Jan',\n",
    "                2:'Feb',\n",
    "                3:'Mar',\n",
    "                4:'Apr',\n",
    "                5:'May',\n",
    "                6:'Jun',\n",
    "                7:'Jul',\n",
    "                8:'Aug',\n",
    "                9:'Sep',\n",
    "                10:'Oct',\n",
    "                11:'Nov',\n",
    "                12:'Dec'}\n",
    "day_mapping = {1:'Sun',\n",
    "              2:'Mon',\n",
    "              3:'Tue',\n",
    "              4:'Wed',\n",
    "              5:'Thu',\n",
    "              6:'Fri',\n",
    "              7:'Sat'}\n",
    "\n",
    "df['month'] = df['month'].map(month_mapping)\n",
    "df['day'] = df['day'].map(day_mapping)\n",
    "\n",
    "print(df['day'].unique());\n",
    "print(df['month'].unique())"
   ]
  },
  {
   "cell_type": "code",
   "execution_count": 98,
   "metadata": {},
   "outputs": [],
   "source": [
    "# condi = []\n",
    "# for i in range(len(df)):\n",
    "#     if int(list(df['date_time'].str.split())[0][-1].split(':')[0] ) == 6 and <= 11:\n",
    "#         condi.append('Morning')\n",
    "# #     elif int(list(df['date_time'].sample().str.split())[0][-1].split(':')[0] ) > 11 and <= 15:\n",
    "# #         condi.append('Afternoon')\n",
    "# #     elif int(list(df['date_time'].sample().str.split())[0][-1].split(':')[0] ) > 15 and <= 19:\n",
    "# #         condi.append('Evening')\n",
    "# #     elif int(list(df['date_time'].sample().str.split())[0][-1].split(':')[0] ) > 19 and <= 23:\n",
    "# #         condi.append('Night')\n",
    "# #     else:\n",
    "# #         condi.append('Midnight')\n",
    "        \n",
    "# # len(condi)"
   ]
  },
  {
   "cell_type": "code",
   "execution_count": 100,
   "metadata": {},
   "outputs": [
    {
     "data": {
      "image/png": "[encoded data removed]",
      "text/plain": [
       "<Figure size 1008x504 with 1 Axes>"
      ]
     },
     "metadata": {},
     "output_type": "display_data"
    }
   ],
   "source": [
    "# chart length\n",
    "\n",
    "df.chat_length.plot.hist(bins=50, figsize=(14, 7), title='chat length distribution')\n",
    "plt.xlabel('Chat character counts', fontsize=13);plt.show()"
   ]
  },
  {
   "cell_type": "markdown",
   "metadata": {},
   "source": [
    "Most chat length is between 1 and 100 character long. Good to note that there are some exceptions where chat charcter length crossed 600 characters. AMAZING\n",
    "\n",
    "I decide to dig deep to find which chat has above 500 characters, maybe a note book just maybe"
   ]
  },
  {
   "cell_type": "code",
   "execution_count": 103,
   "metadata": {},
   "outputs": [
    {
     "data": {
      "text/plain": [
       "array([\" Hello, excited to receive this message? Join us for another remarkable moment. . . Want to get started with Kotlin, but don't know where to begin? Join us for our Kotlin/Everywhere event.. . Together we'll work through several Android / Google Cloud / multi-platform labs. You will get hands-on experience with Kotlin in Android, multi-platform with Kotlin/Native, Google Cloud Platform and Kotlin/JS.. . Bring a laptop (PC, Mac or Chromebook). The labs will run on all of the latest versions of the popular browsers. For the best experience, make sure your laptop has Chrome or Firefox installed. Dont forget your charger!. . We have swags and refreshments for attendees. . . Venue\",\n",
       "       \" *Suratul Faatiha* protects one from the anger of *Allah.*. *Surah Yaseen* protects one from the thirst of the Day of Judgment. *Suratul Waaqi'ah* protects one from poverty and starvation.. *Surah Mulk* protects one from the punishment of the grave.. *Suratul Kauthar* protects one from the enmity of the enemy.. *Suratul Kaafiroon* protects one from kufr at the time of death.. *Suratul Ikhlaas* protects one from hypocrisy. *Suratul Falaq* protects one from calamities.. *Suratul Naas* protects one from evil thoughts.. *Advice*. Do not share later. Share it now.. May Allah grant success to every one who reads it and sends it. *Ameen*\"],\n",
       "      dtype=object)"
      ]
     },
     "execution_count": 103,
     "metadata": {},
     "output_type": "execute_result"
    }
   ],
   "source": [
    "df[df['chat_length'] >= 500]['Content'].values"
   ]
  },
  {
   "cell_type": "code",
   "execution_count": 104,
   "metadata": {},
   "outputs": [
    {
     "data": {
      "text/plain": [
       "(622, 7)"
      ]
     },
     "execution_count": 104,
     "metadata": {},
     "output_type": "execute_result"
    }
   ],
   "source": [
    "# let drop those rows then find the highest value for chat character each user had send\n",
    "df = df[df['chat_length'] < 500]\n",
    "df.shape"
   ]
  },
  {
   "cell_type": "code",
   "execution_count": 105,
   "metadata": {},
   "outputs": [
    {
     "data": {
      "image/png": "[encoded data removed]",
      "text/plain": [
       "<Figure size 1008x504 with 1 Axes>"
      ]
     },
     "metadata": {},
     "output_type": "display_data"
    }
   ],
   "source": [
    "# re-draw the histogram plot\n",
    "\n",
    "df.chat_length.plot.hist(bins=50, figsize=(14, 7), title='chat length distribution')\n",
    "plt.xlabel('Chat character counts', fontsize=13);plt.show()"
   ]
  },
  {
   "cell_type": "markdown",
   "metadata": {},
   "source": [
    "MOst chat character is between 1 and 100 still.\n",
    "\n",
    "But what is the average and/or median value for chat_values"
   ]
  },
  {
   "cell_type": "code",
   "execution_count": 106,
   "metadata": {},
   "outputs": [
    {
     "name": "stdout",
     "output_type": "stream",
     "text": [
      "Average character per message 24.5032154340836\n"
     ]
    }
   ],
   "source": [
    "print(\"Average character per message\", df['chat_length'].mean())"
   ]
  },
  {
   "cell_type": "code",
   "execution_count": 112,
   "metadata": {},
   "outputs": [
    {
     "name": "stdout",
     "output_type": "stream",
     "text": [
      "Average character per message for sender  AAO is , 30.78\n",
      "Average character per message for sender AbdulAzeez is , 18.66\n"
     ]
    }
   ],
   "source": [
    "# Average per user?\n",
    "for i in df['Name'].unique():\n",
    "    print(f\"Average character per message for sender {i} is , {df[df['Name'] == i]['chat_length'].mean().round(2)}\")"
   ]
  },
  {
   "cell_type": "code",
   "execution_count": 168,
   "metadata": {},
   "outputs": [
    {
     "data": {
      "text/plain": [
       "'AbdulAzeez'"
      ]
     },
     "execution_count": 168,
     "metadata": {},
     "output_type": "execute_result"
    }
   ],
   "source": [
    "df['Name'].value_counts().index[0]"
   ]
  },
  {
   "cell_type": "code",
   "execution_count": 135,
   "metadata": {},
   "outputs": [
    {
     "data": {
      "image/png": "[encoded data removed]",
      "text/plain": [
       "<Figure size 1296x504 with 12 Axes>"
      ]
     },
     "metadata": {},
     "output_type": "display_data"
    }
   ],
   "source": [
    "df[df['Name']=='AbdulAzeez'].hist(column='chat_length', by='month', bins=50, figsize=(18,7));"
   ]
  },
  {
   "cell_type": "code",
   "execution_count": 181,
   "metadata": {},
   "outputs": [
    {
     "data": {
      "text/html": [
       "<div>\n",
       "<style scoped>\n",
       "    .dataframe tbody tr th:only-of-type {\n",
       "        vertical-align: middle;\n",
       "    }\n",
       "\n",
       "    .dataframe tbody tr th {\n",
       "        vertical-align: top;\n",
       "    }\n",
       "\n",
       "    .dataframe thead th {\n",
       "        text-align: right;\n",
       "    }\n",
       "</style>\n",
       "<table border=\"1\" class=\"dataframe\">\n",
       "  <thead>\n",
       "    <tr style=\"text-align: right;\">\n",
       "      <th></th>\n",
       "      <th>msg_count</th>\n",
       "    </tr>\n",
       "    <tr>\n",
       "      <th>month</th>\n",
       "      <th></th>\n",
       "    </tr>\n",
       "  </thead>\n",
       "  <tbody>\n",
       "    <tr>\n",
       "      <th>Jul</th>\n",
       "      <td>192</td>\n",
       "    </tr>\n",
       "    <tr>\n",
       "      <th>Oct</th>\n",
       "      <td>173</td>\n",
       "    </tr>\n",
       "    <tr>\n",
       "      <th>Nov</th>\n",
       "      <td>53</td>\n",
       "    </tr>\n",
       "    <tr>\n",
       "      <th>Dec</th>\n",
       "      <td>53</td>\n",
       "    </tr>\n",
       "    <tr>\n",
       "      <th>May</th>\n",
       "      <td>38</td>\n",
       "    </tr>\n",
       "    <tr>\n",
       "      <th>Mar</th>\n",
       "      <td>36</td>\n",
       "    </tr>\n",
       "    <tr>\n",
       "      <th>Jan</th>\n",
       "      <td>29</td>\n",
       "    </tr>\n",
       "    <tr>\n",
       "      <th>Sep</th>\n",
       "      <td>20</td>\n",
       "    </tr>\n",
       "    <tr>\n",
       "      <th>Feb</th>\n",
       "      <td>14</td>\n",
       "    </tr>\n",
       "    <tr>\n",
       "      <th>Jun</th>\n",
       "      <td>9</td>\n",
       "    </tr>\n",
       "    <tr>\n",
       "      <th>Aug</th>\n",
       "      <td>3</td>\n",
       "    </tr>\n",
       "    <tr>\n",
       "      <th>Apr</th>\n",
       "      <td>2</td>\n",
       "    </tr>\n",
       "  </tbody>\n",
       "</table>\n",
       "</div>"
      ],
      "text/plain": [
       "       msg_count\n",
       "month           \n",
       "Jul          192\n",
       "Oct          173\n",
       "Nov           53\n",
       "Dec           53\n",
       "May           38\n",
       "Mar           36\n",
       "Jan           29\n",
       "Sep           20\n",
       "Feb           14\n",
       "Jun            9\n",
       "Aug            3\n",
       "Apr            2"
      ]
     },
     "execution_count": 181,
     "metadata": {},
     "output_type": "execute_result"
    }
   ],
   "source": [
    "# how many msgs are sent on a monthly basis?\n",
    "pd.DataFrame(df.groupby('month')['month'].count().sort_values(ascending=False)).rename(columns={'month':'msg_count'})\n"
   ]
  },
  {
   "cell_type": "code",
   "execution_count": 163,
   "metadata": {},
   "outputs": [
    {
     "data": {
      "text/html": [
       "<div>\n",
       "<style scoped>\n",
       "    .dataframe tbody tr th:only-of-type {\n",
       "        vertical-align: middle;\n",
       "    }\n",
       "\n",
       "    .dataframe tbody tr th {\n",
       "        vertical-align: top;\n",
       "    }\n",
       "\n",
       "    .dataframe thead th {\n",
       "        text-align: right;\n",
       "    }\n",
       "</style>\n",
       "<table border=\"1\" class=\"dataframe\">\n",
       "  <thead>\n",
       "    <tr style=\"text-align: right;\">\n",
       "      <th></th>\n",
       "      <th>day</th>\n",
       "    </tr>\n",
       "    <tr>\n",
       "      <th>day</th>\n",
       "      <th></th>\n",
       "    </tr>\n",
       "  </thead>\n",
       "  <tbody>\n",
       "    <tr>\n",
       "      <th>Sat</th>\n",
       "      <td>36</td>\n",
       "    </tr>\n",
       "    <tr>\n",
       "      <th>Sun</th>\n",
       "      <td>27</td>\n",
       "    </tr>\n",
       "    <tr>\n",
       "      <th>Fri</th>\n",
       "      <td>11</td>\n",
       "    </tr>\n",
       "    <tr>\n",
       "      <th>Thu</th>\n",
       "      <td>3</td>\n",
       "    </tr>\n",
       "  </tbody>\n",
       "</table>\n",
       "</div>"
      ],
      "text/plain": [
       "     day\n",
       "day     \n",
       "Sat   36\n",
       "Sun   27\n",
       "Fri   11\n",
       "Thu    3"
      ]
     },
     "execution_count": 163,
     "metadata": {},
     "output_type": "execute_result"
    }
   ],
   "source": [
    "# how many msgs per day\n",
    "pd.DataFrame(df.groupby('day')['day'].size().sort_values(ascending=False))"
   ]
  },
  {
   "cell_type": "code",
   "execution_count": 164,
   "metadata": {},
   "outputs": [
    {
     "data": {
      "text/html": [
       "<div>\n",
       "<style scoped>\n",
       "    .dataframe tbody tr th:only-of-type {\n",
       "        vertical-align: middle;\n",
       "    }\n",
       "\n",
       "    .dataframe tbody tr th {\n",
       "        vertical-align: top;\n",
       "    }\n",
       "\n",
       "    .dataframe thead th {\n",
       "        text-align: right;\n",
       "    }\n",
       "</style>\n",
       "<table border=\"1\" class=\"dataframe\">\n",
       "  <thead>\n",
       "    <tr style=\"text-align: right;\">\n",
       "      <th></th>\n",
       "      <th></th>\n",
       "      <th>day</th>\n",
       "    </tr>\n",
       "    <tr>\n",
       "      <th>year</th>\n",
       "      <th>month</th>\n",
       "      <th></th>\n",
       "    </tr>\n",
       "  </thead>\n",
       "  <tbody>\n",
       "    <tr>\n",
       "      <th rowspan=\"4\" valign=\"top\">2019</th>\n",
       "      <th>Jul</th>\n",
       "      <td>191</td>\n",
       "    </tr>\n",
       "    <tr>\n",
       "      <th>Oct</th>\n",
       "      <td>122</td>\n",
       "    </tr>\n",
       "    <tr>\n",
       "      <th>Nov</th>\n",
       "      <td>52</td>\n",
       "    </tr>\n",
       "    <tr>\n",
       "      <th>Dec</th>\n",
       "      <td>52</td>\n",
       "    </tr>\n",
       "    <tr>\n",
       "      <th rowspan=\"4\" valign=\"top\">2020</th>\n",
       "      <th>Oct</th>\n",
       "      <td>51</td>\n",
       "    </tr>\n",
       "    <tr>\n",
       "      <th>May</th>\n",
       "      <td>38</td>\n",
       "    </tr>\n",
       "    <tr>\n",
       "      <th>Mar</th>\n",
       "      <td>36</td>\n",
       "    </tr>\n",
       "    <tr>\n",
       "      <th>Jan</th>\n",
       "      <td>29</td>\n",
       "    </tr>\n",
       "    <tr>\n",
       "      <th>2019</th>\n",
       "      <th>Sep</th>\n",
       "      <td>20</td>\n",
       "    </tr>\n",
       "    <tr>\n",
       "      <th rowspan=\"2\" valign=\"top\">2020</th>\n",
       "      <th>Feb</th>\n",
       "      <td>14</td>\n",
       "    </tr>\n",
       "    <tr>\n",
       "      <th>Jun</th>\n",
       "      <td>9</td>\n",
       "    </tr>\n",
       "    <tr>\n",
       "      <th>2019</th>\n",
       "      <th>Aug</th>\n",
       "      <td>3</td>\n",
       "    </tr>\n",
       "    <tr>\n",
       "      <th rowspan=\"4\" valign=\"top\">2020</th>\n",
       "      <th>Apr</th>\n",
       "      <td>2</td>\n",
       "    </tr>\n",
       "    <tr>\n",
       "      <th>Nov</th>\n",
       "      <td>1</td>\n",
       "    </tr>\n",
       "    <tr>\n",
       "      <th>Jul</th>\n",
       "      <td>1</td>\n",
       "    </tr>\n",
       "    <tr>\n",
       "      <th>Dec</th>\n",
       "      <td>1</td>\n",
       "    </tr>\n",
       "  </tbody>\n",
       "</table>\n",
       "</div>"
      ],
      "text/plain": [
       "            day\n",
       "year month     \n",
       "2019 Jul    191\n",
       "     Oct    122\n",
       "     Nov     52\n",
       "     Dec     52\n",
       "2020 Oct     51\n",
       "     May     38\n",
       "     Mar     36\n",
       "     Jan     29\n",
       "2019 Sep     20\n",
       "2020 Feb     14\n",
       "     Jun      9\n",
       "2019 Aug      3\n",
       "2020 Apr      2\n",
       "     Nov      1\n",
       "     Jul      1\n",
       "     Dec      1"
      ]
     },
     "execution_count": 164,
     "metadata": {},
     "output_type": "execute_result"
    }
   ],
   "source": [
    "# year and month\n",
    "pd.DataFrame(df.groupby(['year', 'month'])['day'].size().sort_values(ascending=False))"
   ]
  },
  {
   "cell_type": "code",
   "execution_count": 198,
   "metadata": {},
   "outputs": [
    {
     "data": {
      "text/html": [
       "<div>\n",
       "<style scoped>\n",
       "    .dataframe tbody tr th:only-of-type {\n",
       "        vertical-align: middle;\n",
       "    }\n",
       "\n",
       "    .dataframe tbody tr th {\n",
       "        vertical-align: top;\n",
       "    }\n",
       "\n",
       "    .dataframe thead th {\n",
       "        text-align: right;\n",
       "    }\n",
       "</style>\n",
       "<table border=\"1\" class=\"dataframe\">\n",
       "  <thead>\n",
       "    <tr style=\"text-align: right;\">\n",
       "      <th></th>\n",
       "      <th>new_date</th>\n",
       "      <th>msg_count</th>\n",
       "    </tr>\n",
       "  </thead>\n",
       "  <tbody>\n",
       "    <tr>\n",
       "      <th>8</th>\n",
       "      <td>2019-07-26</td>\n",
       "      <td>70</td>\n",
       "    </tr>\n",
       "    <tr>\n",
       "      <th>3</th>\n",
       "      <td>2019-07-10</td>\n",
       "      <td>45</td>\n",
       "    </tr>\n",
       "    <tr>\n",
       "      <th>37</th>\n",
       "      <td>2020-05-10</td>\n",
       "      <td>38</td>\n",
       "    </tr>\n",
       "    <tr>\n",
       "      <th>40</th>\n",
       "      <td>2020-10-12</td>\n",
       "      <td>38</td>\n",
       "    </tr>\n",
       "    <tr>\n",
       "      <th>21</th>\n",
       "      <td>2019-10-16</td>\n",
       "      <td>33</td>\n",
       "    </tr>\n",
       "    <tr>\n",
       "      <th>25</th>\n",
       "      <td>2019-11-07</td>\n",
       "      <td>31</td>\n",
       "    </tr>\n",
       "    <tr>\n",
       "      <th>34</th>\n",
       "      <td>2020-03-08</td>\n",
       "      <td>29</td>\n",
       "    </tr>\n",
       "    <tr>\n",
       "      <th>20</th>\n",
       "      <td>2019-10-14</td>\n",
       "      <td>27</td>\n",
       "    </tr>\n",
       "    <tr>\n",
       "      <th>31</th>\n",
       "      <td>2020-01-11</td>\n",
       "      <td>27</td>\n",
       "    </tr>\n",
       "    <tr>\n",
       "      <th>29</th>\n",
       "      <td>2019-12-25</td>\n",
       "      <td>25</td>\n",
       "    </tr>\n",
       "    <tr>\n",
       "      <th>7</th>\n",
       "      <td>2019-07-22</td>\n",
       "      <td>20</td>\n",
       "    </tr>\n",
       "    <tr>\n",
       "      <th>18</th>\n",
       "      <td>2019-10-11</td>\n",
       "      <td>20</td>\n",
       "    </tr>\n",
       "    <tr>\n",
       "      <th>28</th>\n",
       "      <td>2019-12-15</td>\n",
       "      <td>17</td>\n",
       "    </tr>\n",
       "    <tr>\n",
       "      <th>5</th>\n",
       "      <td>2019-07-12</td>\n",
       "      <td>14</td>\n",
       "    </tr>\n",
       "    <tr>\n",
       "      <th>17</th>\n",
       "      <td>2019-10-10</td>\n",
       "      <td>14</td>\n",
       "    </tr>\n",
       "  </tbody>\n",
       "</table>\n",
       "</div>"
      ],
      "text/plain": [
       "     new_date  msg_count\n",
       "8  2019-07-26         70\n",
       "3  2019-07-10         45\n",
       "37 2020-05-10         38\n",
       "40 2020-10-12         38\n",
       "21 2019-10-16         33\n",
       "25 2019-11-07         31\n",
       "34 2020-03-08         29\n",
       "20 2019-10-14         27\n",
       "31 2020-01-11         27\n",
       "29 2019-12-25         25\n",
       "7  2019-07-22         20\n",
       "18 2019-10-11         20\n",
       "28 2019-12-15         17\n",
       "5  2019-07-12         14\n",
       "17 2019-10-10         14"
      ]
     },
     "execution_count": 198,
     "metadata": {},
     "output_type": "execute_result"
    }
   ],
   "source": [
    "pd.DataFrame(df.groupby('Date')['Date'].count().reset_index(name='msg_count')).rename(columns={'Date':'new_date'}).nlargest(15, 'msg_count').sort_values(ascending=False, by='msg_count')"
   ]
  },
  {
   "cell_type": "code",
   "execution_count": 205,
   "metadata": {},
   "outputs": [
    {
     "data": {
      "application/vnd.plotly.v1+json": {
       "config": {
        "plotlyServerURL": "https://plot.ly"
       },
       "data": [
        {
         "hovertemplate": "new_date=%{x}<br>msg_count=%{y}<extra></extra>",
         "legendgroup": "",
         "line": {
          "color": "#636efa",
          "dash": "solid"
         },
         "mode": "lines",
         "name": "",
         "orientation": "v",
         "showlegend": false,
         "type": "scatter",
         "x": [
          "2019-07-07T00:00:00",
          "2019-07-08T00:00:00",
          "2019-07-09T00:00:00",
          "2019-07-10T00:00:00",
          "2019-07-11T00:00:00",
          "2019-07-12T00:00:00",
          "2019-07-21T00:00:00",
          "2019-07-22T00:00:00",
          "2019-07-26T00:00:00",
          "2019-07-27T00:00:00",
          "2019-07-28T00:00:00",
          "2019-08-05T00:00:00",
          "2019-09-13T00:00:00",
          "2019-09-23T00:00:00",
          "2019-09-28T00:00:00",
          "2019-09-30T00:00:00",
          "2019-10-01T00:00:00",
          "2019-10-10T00:00:00",
          "2019-10-11T00:00:00",
          "2019-10-12T00:00:00",
          "2019-10-14T00:00:00",
          "2019-10-16T00:00:00",
          "2019-10-22T00:00:00",
          "2019-10-23T00:00:00",
          "2019-11-06T00:00:00",
          "2019-11-07T00:00:00",
          "2019-11-26T00:00:00",
          "2019-12-14T00:00:00",
          "2019-12-15T00:00:00",
          "2019-12-25T00:00:00",
          "2019-12-26T00:00:00",
          "2020-01-11T00:00:00",
          "2020-01-12T00:00:00",
          "2020-02-01T00:00:00",
          "2020-03-08T00:00:00",
          "2020-03-19T00:00:00",
          "2020-04-24T00:00:00",
          "2020-05-10T00:00:00",
          "2020-06-09T00:00:00",
          "2020-07-31T00:00:00",
          "2020-10-12T00:00:00",
          "2020-10-16T00:00:00",
          "2020-10-23T00:00:00",
          "2020-10-28T00:00:00",
          "2020-11-14T00:00:00",
          "2020-12-28T00:00:00"
         ],
         "xaxis": "x",
         "y": [
          5,
          5,
          7,
          45,
          2,
          14,
          12,
          20,
          70,
          10,
          1,
          3,
          8,
          9,
          1,
          2,
          13,
          14,
          20,
          3,
          27,
          33,
          11,
          1,
          11,
          31,
          10,
          5,
          17,
          25,
          5,
          27,
          2,
          14,
          29,
          7,
          2,
          38,
          9,
          1,
          38,
          2,
          4,
          7,
          1,
          1
         ],
         "yaxis": "y"
        }
       ],
       "layout": {
        "height": 450,
        "legend": {
         "tracegroupgap": 0
        },
        "template": {
         "data": {
          "bar": [
           {
            "error_x": {
             "color": "#2a3f5f"
            },
            "error_y": {
             "color": "#2a3f5f"
            },
            "marker": {
             "line": {
              "color": "#E5ECF6",
              "width": 0.5
             }
            },
            "type": "bar"
           }
          ],
          "barpolar": [
           {
            "marker": {
             "line": {
              "color": "#E5ECF6",
              "width": 0.5
             }
            },
            "type": "barpolar"
           }
          ],
          "carpet": [
           {
            "aaxis": {
             "endlinecolor": "#2a3f5f",
             "gridcolor": "white",
             "linecolor": "white",
             "minorgridcolor": "white",
             "startlinecolor": "#2a3f5f"
            },
            "baxis": {
             "endlinecolor": "#2a3f5f",
             "gridcolor": "white",
             "linecolor": "white",
             "minorgridcolor": "white",
             "startlinecolor": "#2a3f5f"
            },
            "type": "carpet"
           }
          ],
          "choropleth": [
           {
            "colorbar": {
             "outlinewidth": 0,
             "ticks": ""
            },
            "type": "choropleth"
           }
          ],
          "contour": [
           {
            "colorbar": {
             "outlinewidth": 0,
             "ticks": ""
            },
            "colorscale": [
             [
              0,
              "#0d0887"
             ],
             [
              0.1111111111111111,
              "#46039f"
             ],
             [
              0.2222222222222222,
              "#7201a8"
             ],
             [
              0.3333333333333333,
              "#9c179e"
             ],
             [
              0.4444444444444444,
              "#bd3786"
             ],
             [
              0.5555555555555556,
              "#d8576b"
             ],
             [
              0.6666666666666666,
              "#ed7953"
             ],
             [
              0.7777777777777778,
              "#fb9f3a"
             ],
             [
              0.8888888888888888,
              "#fdca26"
             ],
             [
              1,
              "#f0f921"
             ]
            ],
            "type": "contour"
           }
          ],
          "contourcarpet": [
           {
            "colorbar": {
             "outlinewidth": 0,
             "ticks": ""
            },
            "type": "contourcarpet"
           }
          ],
          "heatmap": [
           {
            "colorbar": {
             "outlinewidth": 0,
             "ticks": ""
            },
            "colorscale": [
             [
              0,
              "#0d0887"
             ],
             [
              0.1111111111111111,
              "#46039f"
             ],
             [
              0.2222222222222222,
              "#7201a8"
             ],
             [
              0.3333333333333333,
              "#9c179e"
             ],
             [
              0.4444444444444444,
              "#bd3786"
             ],
             [
              0.5555555555555556,
              "#d8576b"
             ],
             [
              0.6666666666666666,
              "#ed7953"
             ],
             [
              0.7777777777777778,
              "#fb9f3a"
             ],
             [
              0.8888888888888888,
              "#fdca26"
             ],
             [
              1,
              "#f0f921"
             ]
            ],
            "type": "heatmap"
           }
          ],
          "heatmapgl": [
           {
            "colorbar": {
             "outlinewidth": 0,
             "ticks": ""
            },
            "colorscale": [
             [
              0,
              "#0d0887"
             ],
             [
              0.1111111111111111,
              "#46039f"
             ],
             [
              0.2222222222222222,
              "#7201a8"
             ],
             [
              0.3333333333333333,
              "#9c179e"
             ],
             [
              0.4444444444444444,
              "#bd3786"
             ],
             [
              0.5555555555555556,
              "#d8576b"
             ],
             [
              0.6666666666666666,
              "#ed7953"
             ],
             [
              0.7777777777777778,
              "#fb9f3a"
             ],
             [
              0.8888888888888888,
              "#fdca26"
             ],
             [
              1,
              "#f0f921"
             ]
            ],
            "type": "heatmapgl"
           }
          ],
          "histogram": [
           {
            "marker": {
             "colorbar": {
              "outlinewidth": 0,
              "ticks": ""
             }
            },
            "type": "histogram"
           }
          ],
          "histogram2d": [
           {
            "colorbar": {
             "outlinewidth": 0,
             "ticks": ""
            },
            "colorscale": [
             [
              0,
              "#0d0887"
             ],
             [
              0.1111111111111111,
              "#46039f"
             ],
             [
              0.2222222222222222,
              "#7201a8"
             ],
             [
              0.3333333333333333,
              "#9c179e"
             ],
             [
              0.4444444444444444,
              "#bd3786"
             ],
             [
              0.5555555555555556,
              "#d8576b"
             ],
             [
              0.6666666666666666,
              "#ed7953"
             ],
             [
              0.7777777777777778,
              "#fb9f3a"
             ],
             [
              0.8888888888888888,
              "#fdca26"
             ],
             [
              1,
              "#f0f921"
             ]
            ],
            "type": "histogram2d"
           }
          ],
          "histogram2dcontour": [
           {
            "colorbar": {
             "outlinewidth": 0,
             "ticks": ""
            },
            "colorscale": [
             [
              0,
              "#0d0887"
             ],
             [
              0.1111111111111111,
              "#46039f"
             ],
             [
              0.2222222222222222,
              "#7201a8"
             ],
             [
              0.3333333333333333,
              "#9c179e"
             ],
             [
              0.4444444444444444,
              "#bd3786"
             ],
             [
              0.5555555555555556,
              "#d8576b"
             ],
             [
              0.6666666666666666,
              "#ed7953"
             ],
             [
              0.7777777777777778,
              "#fb9f3a"
             ],
             [
              0.8888888888888888,
              "#fdca26"
             ],
             [
              1,
              "#f0f921"
             ]
            ],
            "type": "histogram2dcontour"
           }
          ],
          "mesh3d": [
           {
            "colorbar": {
             "outlinewidth": 0,
             "ticks": ""
            },
            "type": "mesh3d"
           }
          ],
          "parcoords": [
           {
            "line": {
             "colorbar": {
              "outlinewidth": 0,
              "ticks": ""
             }
            },
            "type": "parcoords"
           }
          ],
          "pie": [
           {
            "automargin": true,
            "type": "pie"
           }
          ],
          "scatter": [
           {
            "marker": {
             "colorbar": {
              "outlinewidth": 0,
              "ticks": ""
             }
            },
            "type": "scatter"
           }
          ],
          "scatter3d": [
           {
            "line": {
             "colorbar": {
              "outlinewidth": 0,
              "ticks": ""
             }
            },
            "marker": {
             "colorbar": {
              "outlinewidth": 0,
              "ticks": ""
             }
            },
            "type": "scatter3d"
           }
          ],
          "scattercarpet": [
           {
            "marker": {
             "colorbar": {
              "outlinewidth": 0,
              "ticks": ""
             }
            },
            "type": "scattercarpet"
           }
          ],
          "scattergeo": [
           {
            "marker": {
             "colorbar": {
              "outlinewidth": 0,
              "ticks": ""
             }
            },
            "type": "scattergeo"
           }
          ],
          "scattergl": [
           {
            "marker": {
             "colorbar": {
              "outlinewidth": 0,
              "ticks": ""
             }
            },
            "type": "scattergl"
           }
          ],
          "scattermapbox": [
           {
            "marker": {
             "colorbar": {
              "outlinewidth": 0,
              "ticks": ""
             }
            },
            "type": "scattermapbox"
           }
          ],
          "scatterpolar": [
           {
            "marker": {
             "colorbar": {
              "outlinewidth": 0,
              "ticks": ""
             }
            },
            "type": "scatterpolar"
           }
          ],
          "scatterpolargl": [
           {
            "marker": {
             "colorbar": {
              "outlinewidth": 0,
              "ticks": ""
             }
            },
            "type": "scatterpolargl"
           }
          ],
          "scatterternary": [
           {
            "marker": {
             "colorbar": {
              "outlinewidth": 0,
              "ticks": ""
             }
            },
            "type": "scatterternary"
           }
          ],
          "surface": [
           {
            "colorbar": {
             "outlinewidth": 0,
             "ticks": ""
            },
            "colorscale": [
             [
              0,
              "#0d0887"
             ],
             [
              0.1111111111111111,
              "#46039f"
             ],
             [
              0.2222222222222222,
              "#7201a8"
             ],
             [
              0.3333333333333333,
              "#9c179e"
             ],
             [
              0.4444444444444444,
              "#bd3786"
             ],
             [
              0.5555555555555556,
              "#d8576b"
             ],
             [
              0.6666666666666666,
              "#ed7953"
             ],
             [
              0.7777777777777778,
              "#fb9f3a"
             ],
             [
              0.8888888888888888,
              "#fdca26"
             ],
             [
              1,
              "#f0f921"
             ]
            ],
            "type": "surface"
           }
          ],
          "table": [
           {
            "cells": {
             "fill": {
              "color": "#EBF0F8"
             },
             "line": {
              "color": "white"
             }
            },
            "header": {
             "fill": {
              "color": "#C8D4E3"
             },
             "line": {
              "color": "white"
             }
            },
            "type": "table"
           }
          ]
         },
         "layout": {
          "annotationdefaults": {
           "arrowcolor": "#2a3f5f",
           "arrowhead": 0,
           "arrowwidth": 1
          },
          "coloraxis": {
           "colorbar": {
            "outlinewidth": 0,
            "ticks": ""
           }
          },
          "colorscale": {
           "diverging": [
            [
             0,
             "#8e0152"
            ],
            [
             0.1,
             "#c51b7d"
            ],
            [
             0.2,
             "#de77ae"
            ],
            [
             0.3,
             "#f1b6da"
            ],
            [
             0.4,
             "#fde0ef"
            ],
            [
             0.5,
             "#f7f7f7"
            ],
            [
             0.6,
             "#e6f5d0"
            ],
            [
             0.7,
             "#b8e186"
            ],
            [
             0.8,
             "#7fbc41"
            ],
            [
             0.9,
             "#4d9221"
            ],
            [
             1,
             "#276419"
            ]
           ],
           "sequential": [
            [
             0,
             "#0d0887"
            ],
            [
             0.1111111111111111,
             "#46039f"
            ],
            [
             0.2222222222222222,
             "#7201a8"
            ],
            [
             0.3333333333333333,
             "#9c179e"
            ],
            [
             0.4444444444444444,
             "#bd3786"
            ],
            [
             0.5555555555555556,
             "#d8576b"
            ],
            [
             0.6666666666666666,
             "#ed7953"
            ],
            [
             0.7777777777777778,
             "#fb9f3a"
            ],
            [
             0.8888888888888888,
             "#fdca26"
            ],
            [
             1,
             "#f0f921"
            ]
           ],
           "sequentialminus": [
            [
             0,
             "#0d0887"
            ],
            [
             0.1111111111111111,
             "#46039f"
            ],
            [
             0.2222222222222222,
             "#7201a8"
            ],
            [
             0.3333333333333333,
             "#9c179e"
            ],
            [
             0.4444444444444444,
             "#bd3786"
            ],
            [
             0.5555555555555556,
             "#d8576b"
            ],
            [
             0.6666666666666666,
             "#ed7953"
            ],
            [
             0.7777777777777778,
             "#fb9f3a"
            ],
            [
             0.8888888888888888,
             "#fdca26"
            ],
            [
             1,
             "#f0f921"
            ]
           ]
          },
          "colorway": [
           "#636efa",
           "#EF553B",
           "#00cc96",
           "#ab63fa",
           "#FFA15A",
           "#19d3f3",
           "#FF6692",
           "#B6E880",
           "#FF97FF",
           "#FECB52"
          ],
          "font": {
           "color": "#2a3f5f"
          },
          "geo": {
           "bgcolor": "white",
           "lakecolor": "white",
           "landcolor": "#E5ECF6",
           "showlakes": true,
           "showland": true,
           "subunitcolor": "white"
          },
          "hoverlabel": {
           "align": "left"
          },
          "hovermode": "closest",
          "mapbox": {
           "style": "light"
          },
          "paper_bgcolor": "white",
          "plot_bgcolor": "#E5ECF6",
          "polar": {
           "angularaxis": {
            "gridcolor": "white",
            "linecolor": "white",
            "ticks": ""
           },
           "bgcolor": "#E5ECF6",
           "radialaxis": {
            "gridcolor": "white",
            "linecolor": "white",
            "ticks": ""
           }
          },
          "scene": {
           "xaxis": {
            "backgroundcolor": "#E5ECF6",
            "gridcolor": "white",
            "gridwidth": 2,
            "linecolor": "white",
            "showbackground": true,
            "ticks": "",
            "zerolinecolor": "white"
           },
           "yaxis": {
            "backgroundcolor": "#E5ECF6",
            "gridcolor": "white",
            "gridwidth": 2,
            "linecolor": "white",
            "showbackground": true,
            "ticks": "",
            "zerolinecolor": "white"
           },
           "zaxis": {
            "backgroundcolor": "#E5ECF6",
            "gridcolor": "white",
            "gridwidth": 2,
            "linecolor": "white",
            "showbackground": true,
            "ticks": "",
            "zerolinecolor": "white"
           }
          },
          "shapedefaults": {
           "line": {
            "color": "#2a3f5f"
           }
          },
          "ternary": {
           "aaxis": {
            "gridcolor": "white",
            "linecolor": "white",
            "ticks": ""
           },
           "baxis": {
            "gridcolor": "white",
            "linecolor": "white",
            "ticks": ""
           },
           "bgcolor": "#E5ECF6",
           "caxis": {
            "gridcolor": "white",
            "linecolor": "white",
            "ticks": ""
           }
          },
          "title": {
           "x": 0.05
          },
          "xaxis": {
           "automargin": true,
           "gridcolor": "white",
           "linecolor": "white",
           "ticks": "",
           "title": {
            "standoff": 15
           },
           "zerolinecolor": "white",
           "zerolinewidth": 2
          },
          "yaxis": {
           "automargin": true,
           "gridcolor": "white",
           "linecolor": "white",
           "ticks": "",
           "title": {
            "standoff": 15
           },
           "zerolinecolor": "white",
           "zerolinewidth": 2
          }
         }
        },
        "title": {
         "text": "Timeline Trend of chats"
        },
        "width": 900,
        "xaxis": {
         "anchor": "y",
         "domain": [
          0,
          1
         ],
         "title": {
          "text": "new_date"
         }
        },
        "yaxis": {
         "anchor": "x",
         "domain": [
          0,
          1
         ],
         "title": {
          "text": "msg_count"
         }
        }
       }
      },
      "text/html": [
       "<div>\n",
       "        \n",
       "        \n",
       "            <div id=\"3caa9dc7-ec26-43e2-bb62-379d5267c23c\" class=\"plotly-graph-div\" style=\"height:450px; width:900px;\"></div>\n",
       "            <script type=\"text/javascript\">\n",
       "                require([\"plotly\"], function(Plotly) {\n",
       "                    window.PLOTLYENV=window.PLOTLYENV || {};\n",
       "                    \n",
       "                if (document.getElementById(\"3caa9dc7-ec26-43e2-bb62-379d5267c23c\")) {\n",
       "                    Plotly.newPlot(\n",
       "                        '3caa9dc7-ec26-43e2-bb62-379d5267c23c',\n",
       "                        [{\"hovertemplate\": \"new_date=%{x}<br>msg_count=%{y}<extra></extra>\", \"legendgroup\": \"\", \"line\": {\"color\": \"#636efa\", \"dash\": \"solid\"}, \"mode\": \"lines\", \"name\": \"\", \"orientation\": \"v\", \"showlegend\": false, \"type\": \"scatter\", \"x\": [\"2019-07-07T00:00:00\", \"2019-07-08T00:00:00\", \"2019-07-09T00:00:00\", \"2019-07-10T00:00:00\", \"2019-07-11T00:00:00\", \"2019-07-12T00:00:00\", \"2019-07-21T00:00:00\", \"2019-07-22T00:00:00\", \"2019-07-26T00:00:00\", \"2019-07-27T00:00:00\", \"2019-07-28T00:00:00\", \"2019-08-05T00:00:00\", \"2019-09-13T00:00:00\", \"2019-09-23T00:00:00\", \"2019-09-28T00:00:00\", \"2019-09-30T00:00:00\", \"2019-10-01T00:00:00\", \"2019-10-10T00:00:00\", \"2019-10-11T00:00:00\", \"2019-10-12T00:00:00\", \"2019-10-14T00:00:00\", \"2019-10-16T00:00:00\", \"2019-10-22T00:00:00\", \"2019-10-23T00:00:00\", \"2019-11-06T00:00:00\", \"2019-11-07T00:00:00\", \"2019-11-26T00:00:00\", \"2019-12-14T00:00:00\", \"2019-12-15T00:00:00\", \"2019-12-25T00:00:00\", \"2019-12-26T00:00:00\", \"2020-01-11T00:00:00\", \"2020-01-12T00:00:00\", \"2020-02-01T00:00:00\", \"2020-03-08T00:00:00\", \"2020-03-19T00:00:00\", \"2020-04-24T00:00:00\", \"2020-05-10T00:00:00\", \"2020-06-09T00:00:00\", \"2020-07-31T00:00:00\", \"2020-10-12T00:00:00\", \"2020-10-16T00:00:00\", \"2020-10-23T00:00:00\", \"2020-10-28T00:00:00\", \"2020-11-14T00:00:00\", \"2020-12-28T00:00:00\"], \"xaxis\": \"x\", \"y\": [5, 5, 7, 45, 2, 14, 12, 20, 70, 10, 1, 3, 8, 9, 1, 2, 13, 14, 20, 3, 27, 33, 11, 1, 11, 31, 10, 5, 17, 25, 5, 27, 2, 14, 29, 7, 2, 38, 9, 1, 38, 2, 4, 7, 1, 1], \"yaxis\": \"y\"}],\n",
       "                        {\"height\": 450, \"legend\": {\"tracegroupgap\": 0}, \"template\": {\"data\": {\"bar\": [{\"error_x\": {\"color\": \"#2a3f5f\"}, \"error_y\": {\"color\": \"#2a3f5f\"}, \"marker\": {\"line\": {\"color\": \"#E5ECF6\", \"width\": 0.5}}, \"type\": \"bar\"}], \"barpolar\": [{\"marker\": {\"line\": {\"color\": \"#E5ECF6\", \"width\": 0.5}}, \"type\": \"barpolar\"}], \"carpet\": [{\"aaxis\": {\"endlinecolor\": \"#2a3f5f\", \"gridcolor\": \"white\", \"linecolor\": \"white\", \"minorgridcolor\": \"white\", \"startlinecolor\": \"#2a3f5f\"}, \"baxis\": {\"endlinecolor\": \"#2a3f5f\", \"gridcolor\": \"white\", \"linecolor\": \"white\", \"minorgridcolor\": \"white\", \"startlinecolor\": \"#2a3f5f\"}, \"type\": \"carpet\"}], \"choropleth\": [{\"colorbar\": {\"outlinewidth\": 0, \"ticks\": \"\"}, \"type\": \"choropleth\"}], \"contour\": [{\"colorbar\": {\"outlinewidth\": 0, \"ticks\": \"\"}, \"colorscale\": [[0.0, \"#0d0887\"], [0.1111111111111111, \"#46039f\"], [0.2222222222222222, \"#7201a8\"], [0.3333333333333333, \"#9c179e\"], [0.4444444444444444, \"#bd3786\"], [0.5555555555555556, \"#d8576b\"], [0.6666666666666666, \"#ed7953\"], [0.7777777777777778, \"#fb9f3a\"], [0.8888888888888888, \"#fdca26\"], [1.0, \"#f0f921\"]], \"type\": \"contour\"}], \"contourcarpet\": [{\"colorbar\": {\"outlinewidth\": 0, \"ticks\": \"\"}, \"type\": \"contourcarpet\"}], \"heatmap\": [{\"colorbar\": {\"outlinewidth\": 0, \"ticks\": \"\"}, \"colorscale\": [[0.0, \"#0d0887\"], [0.1111111111111111, \"#46039f\"], [0.2222222222222222, \"#7201a8\"], [0.3333333333333333, \"#9c179e\"], [0.4444444444444444, \"#bd3786\"], [0.5555555555555556, \"#d8576b\"], [0.6666666666666666, \"#ed7953\"], [0.7777777777777778, \"#fb9f3a\"], [0.8888888888888888, \"#fdca26\"], [1.0, \"#f0f921\"]], \"type\": \"heatmap\"}], \"heatmapgl\": [{\"colorbar\": {\"outlinewidth\": 0, \"ticks\": \"\"}, \"colorscale\": [[0.0, \"#0d0887\"], [0.1111111111111111, \"#46039f\"], [0.2222222222222222, \"#7201a8\"], [0.3333333333333333, \"#9c179e\"], [0.4444444444444444, \"#bd3786\"], [0.5555555555555556, \"#d8576b\"], [0.6666666666666666, \"#ed7953\"], [0.7777777777777778, \"#fb9f3a\"], [0.8888888888888888, \"#fdca26\"], [1.0, \"#f0f921\"]], \"type\": \"heatmapgl\"}], \"histogram\": [{\"marker\": {\"colorbar\": {\"outlinewidth\": 0, \"ticks\": \"\"}}, \"type\": \"histogram\"}], \"histogram2d\": [{\"colorbar\": {\"outlinewidth\": 0, \"ticks\": \"\"}, \"colorscale\": [[0.0, \"#0d0887\"], [0.1111111111111111, \"#46039f\"], [0.2222222222222222, \"#7201a8\"], [0.3333333333333333, \"#9c179e\"], [0.4444444444444444, \"#bd3786\"], [0.5555555555555556, \"#d8576b\"], [0.6666666666666666, \"#ed7953\"], [0.7777777777777778, \"#fb9f3a\"], [0.8888888888888888, \"#fdca26\"], [1.0, \"#f0f921\"]], \"type\": \"histogram2d\"}], \"histogram2dcontour\": [{\"colorbar\": {\"outlinewidth\": 0, \"ticks\": \"\"}, \"colorscale\": [[0.0, \"#0d0887\"], [0.1111111111111111, \"#46039f\"], [0.2222222222222222, \"#7201a8\"], [0.3333333333333333, \"#9c179e\"], [0.4444444444444444, \"#bd3786\"], [0.5555555555555556, \"#d8576b\"], [0.6666666666666666, \"#ed7953\"], [0.7777777777777778, \"#fb9f3a\"], [0.8888888888888888, \"#fdca26\"], [1.0, \"#f0f921\"]], \"type\": \"histogram2dcontour\"}], \"mesh3d\": [{\"colorbar\": {\"outlinewidth\": 0, \"ticks\": \"\"}, \"type\": \"mesh3d\"}], \"parcoords\": [{\"line\": {\"colorbar\": {\"outlinewidth\": 0, \"ticks\": \"\"}}, \"type\": \"parcoords\"}], \"pie\": [{\"automargin\": true, \"type\": \"pie\"}], \"scatter\": [{\"marker\": {\"colorbar\": {\"outlinewidth\": 0, \"ticks\": \"\"}}, \"type\": \"scatter\"}], \"scatter3d\": [{\"line\": {\"colorbar\": {\"outlinewidth\": 0, \"ticks\": \"\"}}, \"marker\": {\"colorbar\": {\"outlinewidth\": 0, \"ticks\": \"\"}}, \"type\": \"scatter3d\"}], \"scattercarpet\": [{\"marker\": {\"colorbar\": {\"outlinewidth\": 0, \"ticks\": \"\"}}, \"type\": \"scattercarpet\"}], \"scattergeo\": [{\"marker\": {\"colorbar\": {\"outlinewidth\": 0, \"ticks\": \"\"}}, \"type\": \"scattergeo\"}], \"scattergl\": [{\"marker\": {\"colorbar\": {\"outlinewidth\": 0, \"ticks\": \"\"}}, \"type\": \"scattergl\"}], \"scattermapbox\": [{\"marker\": {\"colorbar\": {\"outlinewidth\": 0, \"ticks\": \"\"}}, \"type\": \"scattermapbox\"}], \"scatterpolar\": [{\"marker\": {\"colorbar\": {\"outlinewidth\": 0, \"ticks\": \"\"}}, \"type\": \"scatterpolar\"}], \"scatterpolargl\": [{\"marker\": {\"colorbar\": {\"outlinewidth\": 0, \"ticks\": \"\"}}, \"type\": \"scatterpolargl\"}], \"scatterternary\": [{\"marker\": {\"colorbar\": {\"outlinewidth\": 0, \"ticks\": \"\"}}, \"type\": \"scatterternary\"}], \"surface\": [{\"colorbar\": {\"outlinewidth\": 0, \"ticks\": \"\"}, \"colorscale\": [[0.0, \"#0d0887\"], [0.1111111111111111, \"#46039f\"], [0.2222222222222222, \"#7201a8\"], [0.3333333333333333, \"#9c179e\"], [0.4444444444444444, \"#bd3786\"], [0.5555555555555556, \"#d8576b\"], [0.6666666666666666, \"#ed7953\"], [0.7777777777777778, \"#fb9f3a\"], [0.8888888888888888, \"#fdca26\"], [1.0, \"#f0f921\"]], \"type\": \"surface\"}], \"table\": [{\"cells\": {\"fill\": {\"color\": \"#EBF0F8\"}, \"line\": {\"color\": \"white\"}}, \"header\": {\"fill\": {\"color\": \"#C8D4E3\"}, \"line\": {\"color\": \"white\"}}, \"type\": \"table\"}]}, \"layout\": {\"annotationdefaults\": {\"arrowcolor\": \"#2a3f5f\", \"arrowhead\": 0, \"arrowwidth\": 1}, \"coloraxis\": {\"colorbar\": {\"outlinewidth\": 0, \"ticks\": \"\"}}, \"colorscale\": {\"diverging\": [[0, \"#8e0152\"], [0.1, \"#c51b7d\"], [0.2, \"#de77ae\"], [0.3, \"#f1b6da\"], [0.4, \"#fde0ef\"], [0.5, \"#f7f7f7\"], [0.6, \"#e6f5d0\"], [0.7, \"#b8e186\"], [0.8, \"#7fbc41\"], [0.9, \"#4d9221\"], [1, \"#276419\"]], \"sequential\": [[0.0, \"#0d0887\"], [0.1111111111111111, \"#46039f\"], [0.2222222222222222, \"#7201a8\"], [0.3333333333333333, \"#9c179e\"], [0.4444444444444444, \"#bd3786\"], [0.5555555555555556, \"#d8576b\"], [0.6666666666666666, \"#ed7953\"], [0.7777777777777778, \"#fb9f3a\"], [0.8888888888888888, \"#fdca26\"], [1.0, \"#f0f921\"]], \"sequentialminus\": [[0.0, \"#0d0887\"], [0.1111111111111111, \"#46039f\"], [0.2222222222222222, \"#7201a8\"], [0.3333333333333333, \"#9c179e\"], [0.4444444444444444, \"#bd3786\"], [0.5555555555555556, \"#d8576b\"], [0.6666666666666666, \"#ed7953\"], [0.7777777777777778, \"#fb9f3a\"], [0.8888888888888888, \"#fdca26\"], [1.0, \"#f0f921\"]]}, \"colorway\": [\"#636efa\", \"#EF553B\", \"#00cc96\", \"#ab63fa\", \"#FFA15A\", \"#19d3f3\", \"#FF6692\", \"#B6E880\", \"#FF97FF\", \"#FECB52\"], \"font\": {\"color\": \"#2a3f5f\"}, \"geo\": {\"bgcolor\": \"white\", \"lakecolor\": \"white\", \"landcolor\": \"#E5ECF6\", \"showlakes\": true, \"showland\": true, \"subunitcolor\": \"white\"}, \"hoverlabel\": {\"align\": \"left\"}, \"hovermode\": \"closest\", \"mapbox\": {\"style\": \"light\"}, \"paper_bgcolor\": \"white\", \"plot_bgcolor\": \"#E5ECF6\", \"polar\": {\"angularaxis\": {\"gridcolor\": \"white\", \"linecolor\": \"white\", \"ticks\": \"\"}, \"bgcolor\": \"#E5ECF6\", \"radialaxis\": {\"gridcolor\": \"white\", \"linecolor\": \"white\", \"ticks\": \"\"}}, \"scene\": {\"xaxis\": {\"backgroundcolor\": \"#E5ECF6\", \"gridcolor\": \"white\", \"gridwidth\": 2, \"linecolor\": \"white\", \"showbackground\": true, \"ticks\": \"\", \"zerolinecolor\": \"white\"}, \"yaxis\": {\"backgroundcolor\": \"#E5ECF6\", \"gridcolor\": \"white\", \"gridwidth\": 2, \"linecolor\": \"white\", \"showbackground\": true, \"ticks\": \"\", \"zerolinecolor\": \"white\"}, \"zaxis\": {\"backgroundcolor\": \"#E5ECF6\", \"gridcolor\": \"white\", \"gridwidth\": 2, \"linecolor\": \"white\", \"showbackground\": true, \"ticks\": \"\", \"zerolinecolor\": \"white\"}}, \"shapedefaults\": {\"line\": {\"color\": \"#2a3f5f\"}}, \"ternary\": {\"aaxis\": {\"gridcolor\": \"white\", \"linecolor\": \"white\", \"ticks\": \"\"}, \"baxis\": {\"gridcolor\": \"white\", \"linecolor\": \"white\", \"ticks\": \"\"}, \"bgcolor\": \"#E5ECF6\", \"caxis\": {\"gridcolor\": \"white\", \"linecolor\": \"white\", \"ticks\": \"\"}}, \"title\": {\"x\": 0.05}, \"xaxis\": {\"automargin\": true, \"gridcolor\": \"white\", \"linecolor\": \"white\", \"ticks\": \"\", \"title\": {\"standoff\": 15}, \"zerolinecolor\": \"white\", \"zerolinewidth\": 2}, \"yaxis\": {\"automargin\": true, \"gridcolor\": \"white\", \"linecolor\": \"white\", \"ticks\": \"\", \"title\": {\"standoff\": 15}, \"zerolinecolor\": \"white\", \"zerolinewidth\": 2}}}, \"title\": {\"text\": \"Timeline Trend of chats\"}, \"width\": 900, \"xaxis\": {\"anchor\": \"y\", \"domain\": [0.0, 1.0], \"title\": {\"text\": \"new_date\"}}, \"yaxis\": {\"anchor\": \"x\", \"domain\": [0.0, 1.0], \"title\": {\"text\": \"msg_count\"}}},\n",
       "                        {\"responsive\": true}\n",
       "                    ).then(function(){\n",
       "                            \n",
       "var gd = document.getElementById('3caa9dc7-ec26-43e2-bb62-379d5267c23c');\n",
       "var x = new MutationObserver(function (mutations, observer) {{\n",
       "        var display = window.getComputedStyle(gd).display;\n",
       "        if (!display || display === 'none') {{\n",
       "            console.log([gd, 'removed!']);\n",
       "            Plotly.purge(gd);\n",
       "            observer.disconnect();\n",
       "        }}\n",
       "}});\n",
       "\n",
       "// Listen for the removal of the full notebook cells\n",
       "var notebookContainer = gd.closest('#notebook-container');\n",
       "if (notebookContainer) {{\n",
       "    x.observe(notebookContainer, {childList: true});\n",
       "}}\n",
       "\n",
       "// Listen for the clearing of the current output cell\n",
       "var outputEl = gd.closest('.output');\n",
       "if (outputEl) {{\n",
       "    x.observe(outputEl, {childList: true});\n",
       "}}\n",
       "\n",
       "                        })\n",
       "                };\n",
       "                });\n",
       "            </script>\n",
       "        </div>"
      ]
     },
     "metadata": {},
     "output_type": "display_data"
    }
   ],
   "source": [
    "import plotly.express as px\n",
    "\n",
    "date_with_high_traffic = pd.DataFrame(df.groupby('Date')['Date'].count().reset_index(name='msg_count'))\\\n",
    "                    .rename(columns={'Date':'new_date'})\n",
    "ax = px.line(date_with_high_traffic, x='new_date', y='msg_count', width=900, height=450,\n",
    "             title='Timeline Trend of chats')\n",
    "ax"
   ]
  },
  {
   "cell_type": "code",
   "execution_count": 201,
   "metadata": {
    "scrolled": false
   },
   "outputs": [
    {
     "data": {
      "image/png": "[encoded data removed]",
      "text/plain": [
       "<Figure size 1080x576 with 1 Axes>"
      ]
     },
     "metadata": {},
     "output_type": "display_data"
    }
   ],
   "source": [
    "date_with_high_traffic = pd.DataFrame(df.groupby('Date')['Date'].count().nlargest(30)).rename(columns={'Date':'msg_count'})\n",
    "\n",
    "\n",
    "date_with_high_traffic.plot(kind='line', figsize=(15, 8), title='Distribution of user chats', fontsize=14, color='#823eac')\n",
    "plt.show()"
   ]
  },
  {
   "cell_type": "code",
   "execution_count": 167,
   "metadata": {},
   "outputs": [
    {
     "data": {
      "image/png": "[encoded data removed]",
      "text/plain": [
       "<Figure size 1080x576 with 1 Axes>"
      ]
     },
     "metadata": {},
     "output_type": "display_data"
    }
   ],
   "source": [
    "def pie_chart(user):\n",
    "    fig, ax = plt.subplots(figsize=(15, 8))\n",
    "    explodex = []\n",
    "    for i in np.arange(len(user)):\n",
    "        explodex.append(0.005)\n",
    "    ax = user.plot(kind='pie', colors=['red', 'green', 'cyan', 'lime', 'gold'], fontsize=12, autopct='%1.1f%%', startangle=180,\n",
    "                  pctdistance=0.85, explode=explodex)\n",
    "    inner_circle = plt.Circle((0,0), 0.50, fc='white')\n",
    "    fig = plt.gcf()\n",
    "    fig.gca().add_artist(inner_circle)\n",
    "    ax.axis('equal')\n",
    "    ax.set_title('Distribution of User with charts', fontsize=20)\n",
    "    plt.tight_layout()\n",
    "    plt.show()\n",
    "    \n",
    "month_per_msg = df.groupby('month')['month'].count().nlargest(15)\n",
    "pie_chart(month_per_msg)"
   ]
  },
  {
   "cell_type": "code",
   "execution_count": 250,
   "metadata": {},
   "outputs": [
    {
     "data": {
      "application/vnd.plotly.v1+json": {
       "config": {
        "plotlyServerURL": "https://plot.ly"
       },
       "data": [
        {
         "hole": 0.3,
         "labels": [
          7,
          10,
          11,
          12,
          5,
          3,
          1,
          9,
          2,
          6,
          8,
          4
         ],
         "type": "pie",
         "values": [
          192,
          173,
          53,
          53,
          38,
          36,
          29,
          20,
          14,
          9,
          3,
          2
         ]
        }
       ],
       "layout": {
        "showlegend": false,
        "template": {
         "data": {
          "bar": [
           {
            "error_x": {
             "color": "#2a3f5f"
            },
            "error_y": {
             "color": "#2a3f5f"
            },
            "marker": {
             "line": {
              "color": "#E5ECF6",
              "width": 0.5
             }
            },
            "type": "bar"
           }
          ],
          "barpolar": [
           {
            "marker": {
             "line": {
              "color": "#E5ECF6",
              "width": 0.5
             }
            },
            "type": "barpolar"
           }
          ],
          "carpet": [
           {
            "aaxis": {
             "endlinecolor": "#2a3f5f",
             "gridcolor": "white",
             "linecolor": "white",
             "minorgridcolor": "white",
             "startlinecolor": "#2a3f5f"
            },
            "baxis": {
             "endlinecolor": "#2a3f5f",
             "gridcolor": "white",
             "linecolor": "white",
             "minorgridcolor": "white",
             "startlinecolor": "#2a3f5f"
            },
            "type": "carpet"
           }
          ],
          "choropleth": [
           {
            "colorbar": {
             "outlinewidth": 0,
             "ticks": ""
            },
            "type": "choropleth"
           }
          ],
          "contour": [
           {
            "colorbar": {
             "outlinewidth": 0,
             "ticks": ""
            },
            "colorscale": [
             [
              0,
              "#0d0887"
             ],
             [
              0.1111111111111111,
              "#46039f"
             ],
             [
              0.2222222222222222,
              "#7201a8"
             ],
             [
              0.3333333333333333,
              "#9c179e"
             ],
             [
              0.4444444444444444,
              "#bd3786"
             ],
             [
              0.5555555555555556,
              "#d8576b"
             ],
             [
              0.6666666666666666,
              "#ed7953"
             ],
             [
              0.7777777777777778,
              "#fb9f3a"
             ],
             [
              0.8888888888888888,
              "#fdca26"
             ],
             [
              1,
              "#f0f921"
             ]
            ],
            "type": "contour"
           }
          ],
          "contourcarpet": [
           {
            "colorbar": {
             "outlinewidth": 0,
             "ticks": ""
            },
            "type": "contourcarpet"
           }
          ],
          "heatmap": [
           {
            "colorbar": {
             "outlinewidth": 0,
             "ticks": ""
            },
            "colorscale": [
             [
              0,
              "#0d0887"
             ],
             [
              0.1111111111111111,
              "#46039f"
             ],
             [
              0.2222222222222222,
              "#7201a8"
             ],
             [
              0.3333333333333333,
              "#9c179e"
             ],
             [
              0.4444444444444444,
              "#bd3786"
             ],
             [
              0.5555555555555556,
              "#d8576b"
             ],
             [
              0.6666666666666666,
              "#ed7953"
             ],
             [
              0.7777777777777778,
              "#fb9f3a"
             ],
             [
              0.8888888888888888,
              "#fdca26"
             ],
             [
              1,
              "#f0f921"
             ]
            ],
            "type": "heatmap"
           }
          ],
          "heatmapgl": [
           {
            "colorbar": {
             "outlinewidth": 0,
             "ticks": ""
            },
            "colorscale": [
             [
              0,
              "#0d0887"
             ],
             [
              0.1111111111111111,
              "#46039f"
             ],
             [
              0.2222222222222222,
              "#7201a8"
             ],
             [
              0.3333333333333333,
              "#9c179e"
             ],
             [
              0.4444444444444444,
              "#bd3786"
             ],
             [
              0.5555555555555556,
              "#d8576b"
             ],
             [
              0.6666666666666666,
              "#ed7953"
             ],
             [
              0.7777777777777778,
              "#fb9f3a"
             ],
             [
              0.8888888888888888,
              "#fdca26"
             ],
             [
              1,
              "#f0f921"
             ]
            ],
            "type": "heatmapgl"
           }
          ],
          "histogram": [
           {
            "marker": {
             "colorbar": {
              "outlinewidth": 0,
              "ticks": ""
             }
            },
            "type": "histogram"
           }
          ],
          "histogram2d": [
           {
            "colorbar": {
             "outlinewidth": 0,
             "ticks": ""
            },
            "colorscale": [
             [
              0,
              "#0d0887"
             ],
             [
              0.1111111111111111,
              "#46039f"
             ],
             [
              0.2222222222222222,
              "#7201a8"
             ],
             [
              0.3333333333333333,
              "#9c179e"
             ],
             [
              0.4444444444444444,
              "#bd3786"
             ],
             [
              0.5555555555555556,
              "#d8576b"
             ],
             [
              0.6666666666666666,
              "#ed7953"
             ],
             [
              0.7777777777777778,
              "#fb9f3a"
             ],
             [
              0.8888888888888888,
              "#fdca26"
             ],
             [
              1,
              "#f0f921"
             ]
            ],
            "type": "histogram2d"
           }
          ],
          "histogram2dcontour": [
           {
            "colorbar": {
             "outlinewidth": 0,
             "ticks": ""
            },
            "colorscale": [
             [
              0,
              "#0d0887"
             ],
             [
              0.1111111111111111,
              "#46039f"
             ],
             [
              0.2222222222222222,
              "#7201a8"
             ],
             [
              0.3333333333333333,
              "#9c179e"
             ],
             [
              0.4444444444444444,
              "#bd3786"
             ],
             [
              0.5555555555555556,
              "#d8576b"
             ],
             [
              0.6666666666666666,
              "#ed7953"
             ],
             [
              0.7777777777777778,
              "#fb9f3a"
             ],
             [
              0.8888888888888888,
              "#fdca26"
             ],
             [
              1,
              "#f0f921"
             ]
            ],
            "type": "histogram2dcontour"
           }
          ],
          "mesh3d": [
           {
            "colorbar": {
             "outlinewidth": 0,
             "ticks": ""
            },
            "type": "mesh3d"
           }
          ],
          "parcoords": [
           {
            "line": {
             "colorbar": {
              "outlinewidth": 0,
              "ticks": ""
             }
            },
            "type": "parcoords"
           }
          ],
          "pie": [
           {
            "automargin": true,
            "type": "pie"
           }
          ],
          "scatter": [
           {
            "marker": {
             "colorbar": {
              "outlinewidth": 0,
              "ticks": ""
             }
            },
            "type": "scatter"
           }
          ],
          "scatter3d": [
           {
            "line": {
             "colorbar": {
              "outlinewidth": 0,
              "ticks": ""
             }
            },
            "marker": {
             "colorbar": {
              "outlinewidth": 0,
              "ticks": ""
             }
            },
            "type": "scatter3d"
           }
          ],
          "scattercarpet": [
           {
            "marker": {
             "colorbar": {
              "outlinewidth": 0,
              "ticks": ""
             }
            },
            "type": "scattercarpet"
           }
          ],
          "scattergeo": [
           {
            "marker": {
             "colorbar": {
              "outlinewidth": 0,
              "ticks": ""
             }
            },
            "type": "scattergeo"
           }
          ],
          "scattergl": [
           {
            "marker": {
             "colorbar": {
              "outlinewidth": 0,
              "ticks": ""
             }
            },
            "type": "scattergl"
           }
          ],
          "scattermapbox": [
           {
            "marker": {
             "colorbar": {
              "outlinewidth": 0,
              "ticks": ""
             }
            },
            "type": "scattermapbox"
           }
          ],
          "scatterpolar": [
           {
            "marker": {
             "colorbar": {
              "outlinewidth": 0,
              "ticks": ""
             }
            },
            "type": "scatterpolar"
           }
          ],
          "scatterpolargl": [
           {
            "marker": {
             "colorbar": {
              "outlinewidth": 0,
              "ticks": ""
             }
            },
            "type": "scatterpolargl"
           }
          ],
          "scatterternary": [
           {
            "marker": {
             "colorbar": {
              "outlinewidth": 0,
              "ticks": ""
             }
            },
            "type": "scatterternary"
           }
          ],
          "surface": [
           {
            "colorbar": {
             "outlinewidth": 0,
             "ticks": ""
            },
            "colorscale": [
             [
              0,
              "#0d0887"
             ],
             [
              0.1111111111111111,
              "#46039f"
             ],
             [
              0.2222222222222222,
              "#7201a8"
             ],
             [
              0.3333333333333333,
              "#9c179e"
             ],
             [
              0.4444444444444444,
              "#bd3786"
             ],
             [
              0.5555555555555556,
              "#d8576b"
             ],
             [
              0.6666666666666666,
              "#ed7953"
             ],
             [
              0.7777777777777778,
              "#fb9f3a"
             ],
             [
              0.8888888888888888,
              "#fdca26"
             ],
             [
              1,
              "#f0f921"
             ]
            ],
            "type": "surface"
           }
          ],
          "table": [
           {
            "cells": {
             "fill": {
              "color": "#EBF0F8"
             },
             "line": {
              "color": "white"
             }
            },
            "header": {
             "fill": {
              "color": "#C8D4E3"
             },
             "line": {
              "color": "white"
             }
            },
            "type": "table"
           }
          ]
         },
         "layout": {
          "annotationdefaults": {
           "arrowcolor": "#2a3f5f",
           "arrowhead": 0,
           "arrowwidth": 1
          },
          "coloraxis": {
           "colorbar": {
            "outlinewidth": 0,
            "ticks": ""
           }
          },
          "colorscale": {
           "diverging": [
            [
             0,
             "#8e0152"
            ],
            [
             0.1,
             "#c51b7d"
            ],
            [
             0.2,
             "#de77ae"
            ],
            [
             0.3,
             "#f1b6da"
            ],
            [
             0.4,
             "#fde0ef"
            ],
            [
             0.5,
             "#f7f7f7"
            ],
            [
             0.6,
             "#e6f5d0"
            ],
            [
             0.7,
             "#b8e186"
            ],
            [
             0.8,
             "#7fbc41"
            ],
            [
             0.9,
             "#4d9221"
            ],
            [
             1,
             "#276419"
            ]
           ],
           "sequential": [
            [
             0,
             "#0d0887"
            ],
            [
             0.1111111111111111,
             "#46039f"
            ],
            [
             0.2222222222222222,
             "#7201a8"
            ],
            [
             0.3333333333333333,
             "#9c179e"
            ],
            [
             0.4444444444444444,
             "#bd3786"
            ],
            [
             0.5555555555555556,
             "#d8576b"
            ],
            [
             0.6666666666666666,
             "#ed7953"
            ],
            [
             0.7777777777777778,
             "#fb9f3a"
            ],
            [
             0.8888888888888888,
             "#fdca26"
            ],
            [
             1,
             "#f0f921"
            ]
           ],
           "sequentialminus": [
            [
             0,
             "#0d0887"
            ],
            [
             0.1111111111111111,
             "#46039f"
            ],
            [
             0.2222222222222222,
             "#7201a8"
            ],
            [
             0.3333333333333333,
             "#9c179e"
            ],
            [
             0.4444444444444444,
             "#bd3786"
            ],
            [
             0.5555555555555556,
             "#d8576b"
            ],
            [
             0.6666666666666666,
             "#ed7953"
            ],
            [
             0.7777777777777778,
             "#fb9f3a"
            ],
            [
             0.8888888888888888,
             "#fdca26"
            ],
            [
             1,
             "#f0f921"
            ]
           ]
          },
          "colorway": [
           "#636efa",
           "#EF553B",
           "#00cc96",
           "#ab63fa",
           "#FFA15A",
           "#19d3f3",
           "#FF6692",
           "#B6E880",
           "#FF97FF",
           "#FECB52"
          ],
          "font": {
           "color": "#2a3f5f"
          },
          "geo": {
           "bgcolor": "white",
           "lakecolor": "white",
           "landcolor": "#E5ECF6",
           "showlakes": true,
           "showland": true,
           "subunitcolor": "white"
          },
          "hoverlabel": {
           "align": "left"
          },
          "hovermode": "closest",
          "mapbox": {
           "style": "light"
          },
          "paper_bgcolor": "white",
          "plot_bgcolor": "#E5ECF6",
          "polar": {
           "angularaxis": {
            "gridcolor": "white",
            "linecolor": "white",
            "ticks": ""
           },
           "bgcolor": "#E5ECF6",
           "radialaxis": {
            "gridcolor": "white",
            "linecolor": "white",
            "ticks": ""
           }
          },
          "scene": {
           "xaxis": {
            "backgroundcolor": "#E5ECF6",
            "gridcolor": "white",
            "gridwidth": 2,
            "linecolor": "white",
            "showbackground": true,
            "ticks": "",
            "zerolinecolor": "white"
           },
           "yaxis": {
            "backgroundcolor": "#E5ECF6",
            "gridcolor": "white",
            "gridwidth": 2,
            "linecolor": "white",
            "showbackground": true,
            "ticks": "",
            "zerolinecolor": "white"
           },
           "zaxis": {
            "backgroundcolor": "#E5ECF6",
            "gridcolor": "white",
            "gridwidth": 2,
            "linecolor": "white",
            "showbackground": true,
            "ticks": "",
            "zerolinecolor": "white"
           }
          },
          "shapedefaults": {
           "line": {
            "color": "#2a3f5f"
           }
          },
          "ternary": {
           "aaxis": {
            "gridcolor": "white",
            "linecolor": "white",
            "ticks": ""
           },
           "baxis": {
            "gridcolor": "white",
            "linecolor": "white",
            "ticks": ""
           },
           "bgcolor": "#E5ECF6",
           "caxis": {
            "gridcolor": "white",
            "linecolor": "white",
            "ticks": ""
           }
          },
          "title": {
           "x": 0.05
          },
          "xaxis": {
           "automargin": true,
           "gridcolor": "white",
           "linecolor": "white",
           "ticks": "",
           "title": {
            "standoff": 15
           },
           "zerolinecolor": "white",
           "zerolinewidth": 2
          },
          "yaxis": {
           "automargin": true,
           "gridcolor": "white",
           "linecolor": "white",
           "ticks": "",
           "title": {
            "standoff": 15
           },
           "zerolinecolor": "white",
           "zerolinewidth": 2
          }
         }
        },
        "title": {
         "text": "Distribution of Users chat for top 15 days"
        },
        "yaxis": {
         "visible": false
        }
       }
      },
      "text/html": [
       "<div>\n",
       "        \n",
       "        \n",
       "            <div id=\"baca0b3f-36a7-4d49-b136-810e7f958924\" class=\"plotly-graph-div\" style=\"height:525px; width:100%;\"></div>\n",
       "            <script type=\"text/javascript\">\n",
       "                require([\"plotly\"], function(Plotly) {\n",
       "                    window.PLOTLYENV=window.PLOTLYENV || {};\n",
       "                    \n",
       "                if (document.getElementById(\"baca0b3f-36a7-4d49-b136-810e7f958924\")) {\n",
       "                    Plotly.newPlot(\n",
       "                        'baca0b3f-36a7-4d49-b136-810e7f958924',\n",
       "                        [{\"hole\": 0.3, \"labels\": [7, 10, 11, 12, 5, 3, 1, 9, 2, 6, 8, 4], \"type\": \"pie\", \"values\": [192, 173, 53, 53, 38, 36, 29, 20, 14, 9, 3, 2]}],\n",
       "                        {\"showlegend\": false, \"template\": {\"data\": {\"bar\": [{\"error_x\": {\"color\": \"#2a3f5f\"}, \"error_y\": {\"color\": \"#2a3f5f\"}, \"marker\": {\"line\": {\"color\": \"#E5ECF6\", \"width\": 0.5}}, \"type\": \"bar\"}], \"barpolar\": [{\"marker\": {\"line\": {\"color\": \"#E5ECF6\", \"width\": 0.5}}, \"type\": \"barpolar\"}], \"carpet\": [{\"aaxis\": {\"endlinecolor\": \"#2a3f5f\", \"gridcolor\": \"white\", \"linecolor\": \"white\", \"minorgridcolor\": \"white\", \"startlinecolor\": \"#2a3f5f\"}, \"baxis\": {\"endlinecolor\": \"#2a3f5f\", \"gridcolor\": \"white\", \"linecolor\": \"white\", \"minorgridcolor\": \"white\", \"startlinecolor\": \"#2a3f5f\"}, \"type\": \"carpet\"}], \"choropleth\": [{\"colorbar\": {\"outlinewidth\": 0, \"ticks\": \"\"}, \"type\": \"choropleth\"}], \"contour\": [{\"colorbar\": {\"outlinewidth\": 0, \"ticks\": \"\"}, \"colorscale\": [[0.0, \"#0d0887\"], [0.1111111111111111, \"#46039f\"], [0.2222222222222222, \"#7201a8\"], [0.3333333333333333, \"#9c179e\"], [0.4444444444444444, \"#bd3786\"], [0.5555555555555556, \"#d8576b\"], [0.6666666666666666, \"#ed7953\"], [0.7777777777777778, \"#fb9f3a\"], [0.8888888888888888, \"#fdca26\"], [1.0, \"#f0f921\"]], \"type\": \"contour\"}], \"contourcarpet\": [{\"colorbar\": {\"outlinewidth\": 0, \"ticks\": \"\"}, \"type\": \"contourcarpet\"}], \"heatmap\": [{\"colorbar\": {\"outlinewidth\": 0, \"ticks\": \"\"}, \"colorscale\": [[0.0, \"#0d0887\"], [0.1111111111111111, \"#46039f\"], [0.2222222222222222, \"#7201a8\"], [0.3333333333333333, \"#9c179e\"], [0.4444444444444444, \"#bd3786\"], [0.5555555555555556, \"#d8576b\"], [0.6666666666666666, \"#ed7953\"], [0.7777777777777778, \"#fb9f3a\"], [0.8888888888888888, \"#fdca26\"], [1.0, \"#f0f921\"]], \"type\": \"heatmap\"}], \"heatmapgl\": [{\"colorbar\": {\"outlinewidth\": 0, \"ticks\": \"\"}, \"colorscale\": [[0.0, \"#0d0887\"], [0.1111111111111111, \"#46039f\"], [0.2222222222222222, \"#7201a8\"], [0.3333333333333333, \"#9c179e\"], [0.4444444444444444, \"#bd3786\"], [0.5555555555555556, \"#d8576b\"], [0.6666666666666666, \"#ed7953\"], [0.7777777777777778, \"#fb9f3a\"], [0.8888888888888888, \"#fdca26\"], [1.0, \"#f0f921\"]], \"type\": \"heatmapgl\"}], \"histogram\": [{\"marker\": {\"colorbar\": {\"outlinewidth\": 0, \"ticks\": \"\"}}, \"type\": \"histogram\"}], \"histogram2d\": [{\"colorbar\": {\"outlinewidth\": 0, \"ticks\": \"\"}, \"colorscale\": [[0.0, \"#0d0887\"], [0.1111111111111111, \"#46039f\"], [0.2222222222222222, \"#7201a8\"], [0.3333333333333333, \"#9c179e\"], [0.4444444444444444, \"#bd3786\"], [0.5555555555555556, \"#d8576b\"], [0.6666666666666666, \"#ed7953\"], [0.7777777777777778, \"#fb9f3a\"], [0.8888888888888888, \"#fdca26\"], [1.0, \"#f0f921\"]], \"type\": \"histogram2d\"}], \"histogram2dcontour\": [{\"colorbar\": {\"outlinewidth\": 0, \"ticks\": \"\"}, \"colorscale\": [[0.0, \"#0d0887\"], [0.1111111111111111, \"#46039f\"], [0.2222222222222222, \"#7201a8\"], [0.3333333333333333, \"#9c179e\"], [0.4444444444444444, \"#bd3786\"], [0.5555555555555556, \"#d8576b\"], [0.6666666666666666, \"#ed7953\"], [0.7777777777777778, \"#fb9f3a\"], [0.8888888888888888, \"#fdca26\"], [1.0, \"#f0f921\"]], \"type\": \"histogram2dcontour\"}], \"mesh3d\": [{\"colorbar\": {\"outlinewidth\": 0, \"ticks\": \"\"}, \"type\": \"mesh3d\"}], \"parcoords\": [{\"line\": {\"colorbar\": {\"outlinewidth\": 0, \"ticks\": \"\"}}, \"type\": \"parcoords\"}], \"pie\": [{\"automargin\": true, \"type\": \"pie\"}], \"scatter\": [{\"marker\": {\"colorbar\": {\"outlinewidth\": 0, \"ticks\": \"\"}}, \"type\": \"scatter\"}], \"scatter3d\": [{\"line\": {\"colorbar\": {\"outlinewidth\": 0, \"ticks\": \"\"}}, \"marker\": {\"colorbar\": {\"outlinewidth\": 0, \"ticks\": \"\"}}, \"type\": \"scatter3d\"}], \"scattercarpet\": [{\"marker\": {\"colorbar\": {\"outlinewidth\": 0, \"ticks\": \"\"}}, \"type\": \"scattercarpet\"}], \"scattergeo\": [{\"marker\": {\"colorbar\": {\"outlinewidth\": 0, \"ticks\": \"\"}}, \"type\": \"scattergeo\"}], \"scattergl\": [{\"marker\": {\"colorbar\": {\"outlinewidth\": 0, \"ticks\": \"\"}}, \"type\": \"scattergl\"}], \"scattermapbox\": [{\"marker\": {\"colorbar\": {\"outlinewidth\": 0, \"ticks\": \"\"}}, \"type\": \"scattermapbox\"}], \"scatterpolar\": [{\"marker\": {\"colorbar\": {\"outlinewidth\": 0, \"ticks\": \"\"}}, \"type\": \"scatterpolar\"}], \"scatterpolargl\": [{\"marker\": {\"colorbar\": {\"outlinewidth\": 0, \"ticks\": \"\"}}, \"type\": \"scatterpolargl\"}], \"scatterternary\": [{\"marker\": {\"colorbar\": {\"outlinewidth\": 0, \"ticks\": \"\"}}, \"type\": \"scatterternary\"}], \"surface\": [{\"colorbar\": {\"outlinewidth\": 0, \"ticks\": \"\"}, \"colorscale\": [[0.0, \"#0d0887\"], [0.1111111111111111, \"#46039f\"], [0.2222222222222222, \"#7201a8\"], [0.3333333333333333, \"#9c179e\"], [0.4444444444444444, \"#bd3786\"], [0.5555555555555556, \"#d8576b\"], [0.6666666666666666, \"#ed7953\"], [0.7777777777777778, \"#fb9f3a\"], [0.8888888888888888, \"#fdca26\"], [1.0, \"#f0f921\"]], \"type\": \"surface\"}], \"table\": [{\"cells\": {\"fill\": {\"color\": \"#EBF0F8\"}, \"line\": {\"color\": \"white\"}}, \"header\": {\"fill\": {\"color\": \"#C8D4E3\"}, \"line\": {\"color\": \"white\"}}, \"type\": \"table\"}]}, \"layout\": {\"annotationdefaults\": {\"arrowcolor\": \"#2a3f5f\", \"arrowhead\": 0, \"arrowwidth\": 1}, \"coloraxis\": {\"colorbar\": {\"outlinewidth\": 0, \"ticks\": \"\"}}, \"colorscale\": {\"diverging\": [[0, \"#8e0152\"], [0.1, \"#c51b7d\"], [0.2, \"#de77ae\"], [0.3, \"#f1b6da\"], [0.4, \"#fde0ef\"], [0.5, \"#f7f7f7\"], [0.6, \"#e6f5d0\"], [0.7, \"#b8e186\"], [0.8, \"#7fbc41\"], [0.9, \"#4d9221\"], [1, \"#276419\"]], \"sequential\": [[0.0, \"#0d0887\"], [0.1111111111111111, \"#46039f\"], [0.2222222222222222, \"#7201a8\"], [0.3333333333333333, \"#9c179e\"], [0.4444444444444444, \"#bd3786\"], [0.5555555555555556, \"#d8576b\"], [0.6666666666666666, \"#ed7953\"], [0.7777777777777778, \"#fb9f3a\"], [0.8888888888888888, \"#fdca26\"], [1.0, \"#f0f921\"]], \"sequentialminus\": [[0.0, \"#0d0887\"], [0.1111111111111111, \"#46039f\"], [0.2222222222222222, \"#7201a8\"], [0.3333333333333333, \"#9c179e\"], [0.4444444444444444, \"#bd3786\"], [0.5555555555555556, \"#d8576b\"], [0.6666666666666666, \"#ed7953\"], [0.7777777777777778, \"#fb9f3a\"], [0.8888888888888888, \"#fdca26\"], [1.0, \"#f0f921\"]]}, \"colorway\": [\"#636efa\", \"#EF553B\", \"#00cc96\", \"#ab63fa\", \"#FFA15A\", \"#19d3f3\", \"#FF6692\", \"#B6E880\", \"#FF97FF\", \"#FECB52\"], \"font\": {\"color\": \"#2a3f5f\"}, \"geo\": {\"bgcolor\": \"white\", \"lakecolor\": \"white\", \"landcolor\": \"#E5ECF6\", \"showlakes\": true, \"showland\": true, \"subunitcolor\": \"white\"}, \"hoverlabel\": {\"align\": \"left\"}, \"hovermode\": \"closest\", \"mapbox\": {\"style\": \"light\"}, \"paper_bgcolor\": \"white\", \"plot_bgcolor\": \"#E5ECF6\", \"polar\": {\"angularaxis\": {\"gridcolor\": \"white\", \"linecolor\": \"white\", \"ticks\": \"\"}, \"bgcolor\": \"#E5ECF6\", \"radialaxis\": {\"gridcolor\": \"white\", \"linecolor\": \"white\", \"ticks\": \"\"}}, \"scene\": {\"xaxis\": {\"backgroundcolor\": \"#E5ECF6\", \"gridcolor\": \"white\", \"gridwidth\": 2, \"linecolor\": \"white\", \"showbackground\": true, \"ticks\": \"\", \"zerolinecolor\": \"white\"}, \"yaxis\": {\"backgroundcolor\": \"#E5ECF6\", \"gridcolor\": \"white\", \"gridwidth\": 2, \"linecolor\": \"white\", \"showbackground\": true, \"ticks\": \"\", \"zerolinecolor\": \"white\"}, \"zaxis\": {\"backgroundcolor\": \"#E5ECF6\", \"gridcolor\": \"white\", \"gridwidth\": 2, \"linecolor\": \"white\", \"showbackground\": true, \"ticks\": \"\", \"zerolinecolor\": \"white\"}}, \"shapedefaults\": {\"line\": {\"color\": \"#2a3f5f\"}}, \"ternary\": {\"aaxis\": {\"gridcolor\": \"white\", \"linecolor\": \"white\", \"ticks\": \"\"}, \"baxis\": {\"gridcolor\": \"white\", \"linecolor\": \"white\", \"ticks\": \"\"}, \"bgcolor\": \"#E5ECF6\", \"caxis\": {\"gridcolor\": \"white\", \"linecolor\": \"white\", \"ticks\": \"\"}}, \"title\": {\"x\": 0.05}, \"xaxis\": {\"automargin\": true, \"gridcolor\": \"white\", \"linecolor\": \"white\", \"ticks\": \"\", \"title\": {\"standoff\": 15}, \"zerolinecolor\": \"white\", \"zerolinewidth\": 2}, \"yaxis\": {\"automargin\": true, \"gridcolor\": \"white\", \"linecolor\": \"white\", \"ticks\": \"\", \"title\": {\"standoff\": 15}, \"zerolinecolor\": \"white\", \"zerolinewidth\": 2}}}, \"title\": {\"text\": \"Distribution of Users chat for top 15 days\"}, \"yaxis\": {\"visible\": false}},\n",
       "                        {\"responsive\": true}\n",
       "                    ).then(function(){\n",
       "                            \n",
       "var gd = document.getElementById('baca0b3f-36a7-4d49-b136-810e7f958924');\n",
       "var x = new MutationObserver(function (mutations, observer) {{\n",
       "        var display = window.getComputedStyle(gd).display;\n",
       "        if (!display || display === 'none') {{\n",
       "            console.log([gd, 'removed!']);\n",
       "            Plotly.purge(gd);\n",
       "            observer.disconnect();\n",
       "        }}\n",
       "}});\n",
       "\n",
       "// Listen for the removal of the full notebook cells\n",
       "var notebookContainer = gd.closest('#notebook-container');\n",
       "if (notebookContainer) {{\n",
       "    x.observe(notebookContainer, {childList: true});\n",
       "}}\n",
       "\n",
       "// Listen for the clearing of the current output cell\n",
       "var outputEl = gd.closest('.output');\n",
       "if (outputEl) {{\n",
       "    x.observe(outputEl, {childList: true});\n",
       "}}\n",
       "\n",
       "                        })\n",
       "                };\n",
       "                });\n",
       "            </script>\n",
       "        </div>"
      ]
     },
     "metadata": {},
     "output_type": "display_data"
    }
   ],
   "source": [
    "import plotly.graph_objects as go\n",
    "month_per_msg = df.groupby('month')['month'].count().nlargest(15).reset_index(name='msg_count')\n",
    "fig = go.Figure(data=[go.Pie(labels=month_per_msg['month'], values=month_per_msg['msg_count'], hole=.3\n",
    "                             )])\n",
    "# fig.update_traces(textposition='inside', textinfo='percent+label')\n",
    "fig.update_layout(showlegend=False, yaxis={'visible':False}, title='Distribution of Users chat for top 15 days')\n",
    "fig.show()"
   ]
  },
  {
   "cell_type": "code",
   "execution_count": 227,
   "metadata": {},
   "outputs": [
    {
     "data": {
      "application/vnd.plotly.v1+json": {
       "config": {
        "plotlyServerURL": "https://plot.ly"
       },
       "data": [
        {
         "domain": {
          "x": [
           0,
           1
          ],
          "y": [
           0,
           1
          ]
         },
         "hole": 0.2,
         "hovertemplate": "msg_count=%{value}<extra></extra>",
         "legendgroup": "",
         "name": "",
         "showlegend": false,
         "type": "pie",
         "values": [
          27,
          3,
          11,
          36,
          34,
          16,
          97,
          49,
          57,
          8,
          33,
          17,
          35,
          7,
          12,
          31,
          14,
          2,
          25,
          85,
          10,
          10,
          2,
          1
         ]
        }
       ],
       "layout": {
        "height": 700,
        "legend": {
         "tracegroupgap": 0
        },
        "margin": {
         "t": 60
        },
        "template": {
         "data": {
          "bar": [
           {
            "error_x": {
             "color": "#2a3f5f"
            },
            "error_y": {
             "color": "#2a3f5f"
            },
            "marker": {
             "line": {
              "color": "#E5ECF6",
              "width": 0.5
             }
            },
            "type": "bar"
           }
          ],
          "barpolar": [
           {
            "marker": {
             "line": {
              "color": "#E5ECF6",
              "width": 0.5
             }
            },
            "type": "barpolar"
           }
          ],
          "carpet": [
           {
            "aaxis": {
             "endlinecolor": "#2a3f5f",
             "gridcolor": "white",
             "linecolor": "white",
             "minorgridcolor": "white",
             "startlinecolor": "#2a3f5f"
            },
            "baxis": {
             "endlinecolor": "#2a3f5f",
             "gridcolor": "white",
             "linecolor": "white",
             "minorgridcolor": "white",
             "startlinecolor": "#2a3f5f"
            },
            "type": "carpet"
           }
          ],
          "choropleth": [
           {
            "colorbar": {
             "outlinewidth": 0,
             "ticks": ""
            },
            "type": "choropleth"
           }
          ],
          "contour": [
           {
            "colorbar": {
             "outlinewidth": 0,
             "ticks": ""
            },
            "colorscale": [
             [
              0,
              "#0d0887"
             ],
             [
              0.1111111111111111,
              "#46039f"
             ],
             [
              0.2222222222222222,
              "#7201a8"
             ],
             [
              0.3333333333333333,
              "#9c179e"
             ],
             [
              0.4444444444444444,
              "#bd3786"
             ],
             [
              0.5555555555555556,
              "#d8576b"
             ],
             [
              0.6666666666666666,
              "#ed7953"
             ],
             [
              0.7777777777777778,
              "#fb9f3a"
             ],
             [
              0.8888888888888888,
              "#fdca26"
             ],
             [
              1,
              "#f0f921"
             ]
            ],
            "type": "contour"
           }
          ],
          "contourcarpet": [
           {
            "colorbar": {
             "outlinewidth": 0,
             "ticks": ""
            },
            "type": "contourcarpet"
           }
          ],
          "heatmap": [
           {
            "colorbar": {
             "outlinewidth": 0,
             "ticks": ""
            },
            "colorscale": [
             [
              0,
              "#0d0887"
             ],
             [
              0.1111111111111111,
              "#46039f"
             ],
             [
              0.2222222222222222,
              "#7201a8"
             ],
             [
              0.3333333333333333,
              "#9c179e"
             ],
             [
              0.4444444444444444,
              "#bd3786"
             ],
             [
              0.5555555555555556,
              "#d8576b"
             ],
             [
              0.6666666666666666,
              "#ed7953"
             ],
             [
              0.7777777777777778,
              "#fb9f3a"
             ],
             [
              0.8888888888888888,
              "#fdca26"
             ],
             [
              1,
              "#f0f921"
             ]
            ],
            "type": "heatmap"
           }
          ],
          "heatmapgl": [
           {
            "colorbar": {
             "outlinewidth": 0,
             "ticks": ""
            },
            "colorscale": [
             [
              0,
              "#0d0887"
             ],
             [
              0.1111111111111111,
              "#46039f"
             ],
             [
              0.2222222222222222,
              "#7201a8"
             ],
             [
              0.3333333333333333,
              "#9c179e"
             ],
             [
              0.4444444444444444,
              "#bd3786"
             ],
             [
              0.5555555555555556,
              "#d8576b"
             ],
             [
              0.6666666666666666,
              "#ed7953"
             ],
             [
              0.7777777777777778,
              "#fb9f3a"
             ],
             [
              0.8888888888888888,
              "#fdca26"
             ],
             [
              1,
              "#f0f921"
             ]
            ],
            "type": "heatmapgl"
           }
          ],
          "histogram": [
           {
            "marker": {
             "colorbar": {
              "outlinewidth": 0,
              "ticks": ""
             }
            },
            "type": "histogram"
           }
          ],
          "histogram2d": [
           {
            "colorbar": {
             "outlinewidth": 0,
             "ticks": ""
            },
            "colorscale": [
             [
              0,
              "#0d0887"
             ],
             [
              0.1111111111111111,
              "#46039f"
             ],
             [
              0.2222222222222222,
              "#7201a8"
             ],
             [
              0.3333333333333333,
              "#9c179e"
             ],
             [
              0.4444444444444444,
              "#bd3786"
             ],
             [
              0.5555555555555556,
              "#d8576b"
             ],
             [
              0.6666666666666666,
              "#ed7953"
             ],
             [
              0.7777777777777778,
              "#fb9f3a"
             ],
             [
              0.8888888888888888,
              "#fdca26"
             ],
             [
              1,
              "#f0f921"
             ]
            ],
            "type": "histogram2d"
           }
          ],
          "histogram2dcontour": [
           {
            "colorbar": {
             "outlinewidth": 0,
             "ticks": ""
            },
            "colorscale": [
             [
              0,
              "#0d0887"
             ],
             [
              0.1111111111111111,
              "#46039f"
             ],
             [
              0.2222222222222222,
              "#7201a8"
             ],
             [
              0.3333333333333333,
              "#9c179e"
             ],
             [
              0.4444444444444444,
              "#bd3786"
             ],
             [
              0.5555555555555556,
              "#d8576b"
             ],
             [
              0.6666666666666666,
              "#ed7953"
             ],
             [
              0.7777777777777778,
              "#fb9f3a"
             ],
             [
              0.8888888888888888,
              "#fdca26"
             ],
             [
              1,
              "#f0f921"
             ]
            ],
            "type": "histogram2dcontour"
           }
          ],
          "mesh3d": [
           {
            "colorbar": {
             "outlinewidth": 0,
             "ticks": ""
            },
            "type": "mesh3d"
           }
          ],
          "parcoords": [
           {
            "line": {
             "colorbar": {
              "outlinewidth": 0,
              "ticks": ""
             }
            },
            "type": "parcoords"
           }
          ],
          "pie": [
           {
            "automargin": true,
            "type": "pie"
           }
          ],
          "scatter": [
           {
            "marker": {
             "colorbar": {
              "outlinewidth": 0,
              "ticks": ""
             }
            },
            "type": "scatter"
           }
          ],
          "scatter3d": [
           {
            "line": {
             "colorbar": {
              "outlinewidth": 0,
              "ticks": ""
             }
            },
            "marker": {
             "colorbar": {
              "outlinewidth": 0,
              "ticks": ""
             }
            },
            "type": "scatter3d"
           }
          ],
          "scattercarpet": [
           {
            "marker": {
             "colorbar": {
              "outlinewidth": 0,
              "ticks": ""
             }
            },
            "type": "scattercarpet"
           }
          ],
          "scattergeo": [
           {
            "marker": {
             "colorbar": {
              "outlinewidth": 0,
              "ticks": ""
             }
            },
            "type": "scattergeo"
           }
          ],
          "scattergl": [
           {
            "marker": {
             "colorbar": {
              "outlinewidth": 0,
              "ticks": ""
             }
            },
            "type": "scattergl"
           }
          ],
          "scattermapbox": [
           {
            "marker": {
             "colorbar": {
              "outlinewidth": 0,
              "ticks": ""
             }
            },
            "type": "scattermapbox"
           }
          ],
          "scatterpolar": [
           {
            "marker": {
             "colorbar": {
              "outlinewidth": 0,
              "ticks": ""
             }
            },
            "type": "scatterpolar"
           }
          ],
          "scatterpolargl": [
           {
            "marker": {
             "colorbar": {
              "outlinewidth": 0,
              "ticks": ""
             }
            },
            "type": "scatterpolargl"
           }
          ],
          "scatterternary": [
           {
            "marker": {
             "colorbar": {
              "outlinewidth": 0,
              "ticks": ""
             }
            },
            "type": "scatterternary"
           }
          ],
          "surface": [
           {
            "colorbar": {
             "outlinewidth": 0,
             "ticks": ""
            },
            "colorscale": [
             [
              0,
              "#0d0887"
             ],
             [
              0.1111111111111111,
              "#46039f"
             ],
             [
              0.2222222222222222,
              "#7201a8"
             ],
             [
              0.3333333333333333,
              "#9c179e"
             ],
             [
              0.4444444444444444,
              "#bd3786"
             ],
             [
              0.5555555555555556,
              "#d8576b"
             ],
             [
              0.6666666666666666,
              "#ed7953"
             ],
             [
              0.7777777777777778,
              "#fb9f3a"
             ],
             [
              0.8888888888888888,
              "#fdca26"
             ],
             [
              1,
              "#f0f921"
             ]
            ],
            "type": "surface"
           }
          ],
          "table": [
           {
            "cells": {
             "fill": {
              "color": "#EBF0F8"
             },
             "line": {
              "color": "white"
             }
            },
            "header": {
             "fill": {
              "color": "#C8D4E3"
             },
             "line": {
              "color": "white"
             }
            },
            "type": "table"
           }
          ]
         },
         "layout": {
          "annotationdefaults": {
           "arrowcolor": "#2a3f5f",
           "arrowhead": 0,
           "arrowwidth": 1
          },
          "coloraxis": {
           "colorbar": {
            "outlinewidth": 0,
            "ticks": ""
           }
          },
          "colorscale": {
           "diverging": [
            [
             0,
             "#8e0152"
            ],
            [
             0.1,
             "#c51b7d"
            ],
            [
             0.2,
             "#de77ae"
            ],
            [
             0.3,
             "#f1b6da"
            ],
            [
             0.4,
             "#fde0ef"
            ],
            [
             0.5,
             "#f7f7f7"
            ],
            [
             0.6,
             "#e6f5d0"
            ],
            [
             0.7,
             "#b8e186"
            ],
            [
             0.8,
             "#7fbc41"
            ],
            [
             0.9,
             "#4d9221"
            ],
            [
             1,
             "#276419"
            ]
           ],
           "sequential": [
            [
             0,
             "#0d0887"
            ],
            [
             0.1111111111111111,
             "#46039f"
            ],
            [
             0.2222222222222222,
             "#7201a8"
            ],
            [
             0.3333333333333333,
             "#9c179e"
            ],
            [
             0.4444444444444444,
             "#bd3786"
            ],
            [
             0.5555555555555556,
             "#d8576b"
            ],
            [
             0.6666666666666666,
             "#ed7953"
            ],
            [
             0.7777777777777778,
             "#fb9f3a"
            ],
            [
             0.8888888888888888,
             "#fdca26"
            ],
            [
             1,
             "#f0f921"
            ]
           ],
           "sequentialminus": [
            [
             0,
             "#0d0887"
            ],
            [
             0.1111111111111111,
             "#46039f"
            ],
            [
             0.2222222222222222,
             "#7201a8"
            ],
            [
             0.3333333333333333,
             "#9c179e"
            ],
            [
             0.4444444444444444,
             "#bd3786"
            ],
            [
             0.5555555555555556,
             "#d8576b"
            ],
            [
             0.6666666666666666,
             "#ed7953"
            ],
            [
             0.7777777777777778,
             "#fb9f3a"
            ],
            [
             0.8888888888888888,
             "#fdca26"
            ],
            [
             1,
             "#f0f921"
            ]
           ]
          },
          "colorway": [
           "#636efa",
           "#EF553B",
           "#00cc96",
           "#ab63fa",
           "#FFA15A",
           "#19d3f3",
           "#FF6692",
           "#B6E880",
           "#FF97FF",
           "#FECB52"
          ],
          "font": {
           "color": "#2a3f5f"
          },
          "geo": {
           "bgcolor": "white",
           "lakecolor": "white",
           "landcolor": "#E5ECF6",
           "showlakes": true,
           "showland": true,
           "subunitcolor": "white"
          },
          "hoverlabel": {
           "align": "left"
          },
          "hovermode": "closest",
          "mapbox": {
           "style": "light"
          },
          "paper_bgcolor": "white",
          "plot_bgcolor": "#E5ECF6",
          "polar": {
           "angularaxis": {
            "gridcolor": "white",
            "linecolor": "white",
            "ticks": ""
           },
           "bgcolor": "#E5ECF6",
           "radialaxis": {
            "gridcolor": "white",
            "linecolor": "white",
            "ticks": ""
           }
          },
          "scene": {
           "xaxis": {
            "backgroundcolor": "#E5ECF6",
            "gridcolor": "white",
            "gridwidth": 2,
            "linecolor": "white",
            "showbackground": true,
            "ticks": "",
            "zerolinecolor": "white"
           },
           "yaxis": {
            "backgroundcolor": "#E5ECF6",
            "gridcolor": "white",
            "gridwidth": 2,
            "linecolor": "white",
            "showbackground": true,
            "ticks": "",
            "zerolinecolor": "white"
           },
           "zaxis": {
            "backgroundcolor": "#E5ECF6",
            "gridcolor": "white",
            "gridwidth": 2,
            "linecolor": "white",
            "showbackground": true,
            "ticks": "",
            "zerolinecolor": "white"
           }
          },
          "shapedefaults": {
           "line": {
            "color": "#2a3f5f"
           }
          },
          "ternary": {
           "aaxis": {
            "gridcolor": "white",
            "linecolor": "white",
            "ticks": ""
           },
           "baxis": {
            "gridcolor": "white",
            "linecolor": "white",
            "ticks": ""
           },
           "bgcolor": "#E5ECF6",
           "caxis": {
            "gridcolor": "white",
            "linecolor": "white",
            "ticks": ""
           }
          },
          "title": {
           "x": 0.05
          },
          "xaxis": {
           "automargin": true,
           "gridcolor": "white",
           "linecolor": "white",
           "ticks": "",
           "title": {
            "standoff": 15
           },
           "zerolinecolor": "white",
           "zerolinewidth": 2
          },
          "yaxis": {
           "automargin": true,
           "gridcolor": "white",
           "linecolor": "white",
           "ticks": "",
           "title": {
            "standoff": 15
           },
           "zerolinecolor": "white",
           "zerolinewidth": 2
          }
         }
        },
        "width": 900
       }
      },
      "text/html": [
       "<div>\n",
       "        \n",
       "        \n",
       "            <div id=\"47777209-f932-47bd-89d5-310f4e6ba05b\" class=\"plotly-graph-div\" style=\"height:700px; width:900px;\"></div>\n",
       "            <script type=\"text/javascript\">\n",
       "                require([\"plotly\"], function(Plotly) {\n",
       "                    window.PLOTLYENV=window.PLOTLYENV || {};\n",
       "                    \n",
       "                if (document.getElementById(\"47777209-f932-47bd-89d5-310f4e6ba05b\")) {\n",
       "                    Plotly.newPlot(\n",
       "                        '47777209-f932-47bd-89d5-310f4e6ba05b',\n",
       "                        [{\"domain\": {\"x\": [0.0, 1.0], \"y\": [0.0, 1.0]}, \"hole\": 0.2, \"hovertemplate\": \"msg_count=%{value}<extra></extra>\", \"legendgroup\": \"\", \"name\": \"\", \"showlegend\": false, \"type\": \"pie\", \"values\": [27, 3, 11, 36, 34, 16, 97, 49, 57, 8, 33, 17, 35, 7, 12, 31, 14, 2, 25, 85, 10, 10, 2, 1]}],\n",
       "                        {\"height\": 700, \"legend\": {\"tracegroupgap\": 0}, \"margin\": {\"t\": 60}, \"template\": {\"data\": {\"bar\": [{\"error_x\": {\"color\": \"#2a3f5f\"}, \"error_y\": {\"color\": \"#2a3f5f\"}, \"marker\": {\"line\": {\"color\": \"#E5ECF6\", \"width\": 0.5}}, \"type\": \"bar\"}], \"barpolar\": [{\"marker\": {\"line\": {\"color\": \"#E5ECF6\", \"width\": 0.5}}, \"type\": \"barpolar\"}], \"carpet\": [{\"aaxis\": {\"endlinecolor\": \"#2a3f5f\", \"gridcolor\": \"white\", \"linecolor\": \"white\", \"minorgridcolor\": \"white\", \"startlinecolor\": \"#2a3f5f\"}, \"baxis\": {\"endlinecolor\": \"#2a3f5f\", \"gridcolor\": \"white\", \"linecolor\": \"white\", \"minorgridcolor\": \"white\", \"startlinecolor\": \"#2a3f5f\"}, \"type\": \"carpet\"}], \"choropleth\": [{\"colorbar\": {\"outlinewidth\": 0, \"ticks\": \"\"}, \"type\": \"choropleth\"}], \"contour\": [{\"colorbar\": {\"outlinewidth\": 0, \"ticks\": \"\"}, \"colorscale\": [[0.0, \"#0d0887\"], [0.1111111111111111, \"#46039f\"], [0.2222222222222222, \"#7201a8\"], [0.3333333333333333, \"#9c179e\"], [0.4444444444444444, \"#bd3786\"], [0.5555555555555556, \"#d8576b\"], [0.6666666666666666, \"#ed7953\"], [0.7777777777777778, \"#fb9f3a\"], [0.8888888888888888, \"#fdca26\"], [1.0, \"#f0f921\"]], \"type\": \"contour\"}], \"contourcarpet\": [{\"colorbar\": {\"outlinewidth\": 0, \"ticks\": \"\"}, \"type\": \"contourcarpet\"}], \"heatmap\": [{\"colorbar\": {\"outlinewidth\": 0, \"ticks\": \"\"}, \"colorscale\": [[0.0, \"#0d0887\"], [0.1111111111111111, \"#46039f\"], [0.2222222222222222, \"#7201a8\"], [0.3333333333333333, \"#9c179e\"], [0.4444444444444444, \"#bd3786\"], [0.5555555555555556, \"#d8576b\"], [0.6666666666666666, \"#ed7953\"], [0.7777777777777778, \"#fb9f3a\"], [0.8888888888888888, \"#fdca26\"], [1.0, \"#f0f921\"]], \"type\": \"heatmap\"}], \"heatmapgl\": [{\"colorbar\": {\"outlinewidth\": 0, \"ticks\": \"\"}, \"colorscale\": [[0.0, \"#0d0887\"], [0.1111111111111111, \"#46039f\"], [0.2222222222222222, \"#7201a8\"], [0.3333333333333333, \"#9c179e\"], [0.4444444444444444, \"#bd3786\"], [0.5555555555555556, \"#d8576b\"], [0.6666666666666666, \"#ed7953\"], [0.7777777777777778, \"#fb9f3a\"], [0.8888888888888888, \"#fdca26\"], [1.0, \"#f0f921\"]], \"type\": \"heatmapgl\"}], \"histogram\": [{\"marker\": {\"colorbar\": {\"outlinewidth\": 0, \"ticks\": \"\"}}, \"type\": \"histogram\"}], \"histogram2d\": [{\"colorbar\": {\"outlinewidth\": 0, \"ticks\": \"\"}, \"colorscale\": [[0.0, \"#0d0887\"], [0.1111111111111111, \"#46039f\"], [0.2222222222222222, \"#7201a8\"], [0.3333333333333333, \"#9c179e\"], [0.4444444444444444, \"#bd3786\"], [0.5555555555555556, \"#d8576b\"], [0.6666666666666666, \"#ed7953\"], [0.7777777777777778, \"#fb9f3a\"], [0.8888888888888888, \"#fdca26\"], [1.0, \"#f0f921\"]], \"type\": \"histogram2d\"}], \"histogram2dcontour\": [{\"colorbar\": {\"outlinewidth\": 0, \"ticks\": \"\"}, \"colorscale\": [[0.0, \"#0d0887\"], [0.1111111111111111, \"#46039f\"], [0.2222222222222222, \"#7201a8\"], [0.3333333333333333, \"#9c179e\"], [0.4444444444444444, \"#bd3786\"], [0.5555555555555556, \"#d8576b\"], [0.6666666666666666, \"#ed7953\"], [0.7777777777777778, \"#fb9f3a\"], [0.8888888888888888, \"#fdca26\"], [1.0, \"#f0f921\"]], \"type\": \"histogram2dcontour\"}], \"mesh3d\": [{\"colorbar\": {\"outlinewidth\": 0, \"ticks\": \"\"}, \"type\": \"mesh3d\"}], \"parcoords\": [{\"line\": {\"colorbar\": {\"outlinewidth\": 0, \"ticks\": \"\"}}, \"type\": \"parcoords\"}], \"pie\": [{\"automargin\": true, \"type\": \"pie\"}], \"scatter\": [{\"marker\": {\"colorbar\": {\"outlinewidth\": 0, \"ticks\": \"\"}}, \"type\": \"scatter\"}], \"scatter3d\": [{\"line\": {\"colorbar\": {\"outlinewidth\": 0, \"ticks\": \"\"}}, \"marker\": {\"colorbar\": {\"outlinewidth\": 0, \"ticks\": \"\"}}, \"type\": \"scatter3d\"}], \"scattercarpet\": [{\"marker\": {\"colorbar\": {\"outlinewidth\": 0, \"ticks\": \"\"}}, \"type\": \"scattercarpet\"}], \"scattergeo\": [{\"marker\": {\"colorbar\": {\"outlinewidth\": 0, \"ticks\": \"\"}}, \"type\": \"scattergeo\"}], \"scattergl\": [{\"marker\": {\"colorbar\": {\"outlinewidth\": 0, \"ticks\": \"\"}}, \"type\": \"scattergl\"}], \"scattermapbox\": [{\"marker\": {\"colorbar\": {\"outlinewidth\": 0, \"ticks\": \"\"}}, \"type\": \"scattermapbox\"}], \"scatterpolar\": [{\"marker\": {\"colorbar\": {\"outlinewidth\": 0, \"ticks\": \"\"}}, \"type\": \"scatterpolar\"}], \"scatterpolargl\": [{\"marker\": {\"colorbar\": {\"outlinewidth\": 0, \"ticks\": \"\"}}, \"type\": \"scatterpolargl\"}], \"scatterternary\": [{\"marker\": {\"colorbar\": {\"outlinewidth\": 0, \"ticks\": \"\"}}, \"type\": \"scatterternary\"}], \"surface\": [{\"colorbar\": {\"outlinewidth\": 0, \"ticks\": \"\"}, \"colorscale\": [[0.0, \"#0d0887\"], [0.1111111111111111, \"#46039f\"], [0.2222222222222222, \"#7201a8\"], [0.3333333333333333, \"#9c179e\"], [0.4444444444444444, \"#bd3786\"], [0.5555555555555556, \"#d8576b\"], [0.6666666666666666, \"#ed7953\"], [0.7777777777777778, \"#fb9f3a\"], [0.8888888888888888, \"#fdca26\"], [1.0, \"#f0f921\"]], \"type\": \"surface\"}], \"table\": [{\"cells\": {\"fill\": {\"color\": \"#EBF0F8\"}, \"line\": {\"color\": \"white\"}}, \"header\": {\"fill\": {\"color\": \"#C8D4E3\"}, \"line\": {\"color\": \"white\"}}, \"type\": \"table\"}]}, \"layout\": {\"annotationdefaults\": {\"arrowcolor\": \"#2a3f5f\", \"arrowhead\": 0, \"arrowwidth\": 1}, \"coloraxis\": {\"colorbar\": {\"outlinewidth\": 0, \"ticks\": \"\"}}, \"colorscale\": {\"diverging\": [[0, \"#8e0152\"], [0.1, \"#c51b7d\"], [0.2, \"#de77ae\"], [0.3, \"#f1b6da\"], [0.4, \"#fde0ef\"], [0.5, \"#f7f7f7\"], [0.6, \"#e6f5d0\"], [0.7, \"#b8e186\"], [0.8, \"#7fbc41\"], [0.9, \"#4d9221\"], [1, \"#276419\"]], \"sequential\": [[0.0, \"#0d0887\"], [0.1111111111111111, \"#46039f\"], [0.2222222222222222, \"#7201a8\"], [0.3333333333333333, \"#9c179e\"], [0.4444444444444444, \"#bd3786\"], [0.5555555555555556, \"#d8576b\"], [0.6666666666666666, \"#ed7953\"], [0.7777777777777778, \"#fb9f3a\"], [0.8888888888888888, \"#fdca26\"], [1.0, \"#f0f921\"]], \"sequentialminus\": [[0.0, \"#0d0887\"], [0.1111111111111111, \"#46039f\"], [0.2222222222222222, \"#7201a8\"], [0.3333333333333333, \"#9c179e\"], [0.4444444444444444, \"#bd3786\"], [0.5555555555555556, \"#d8576b\"], [0.6666666666666666, \"#ed7953\"], [0.7777777777777778, \"#fb9f3a\"], [0.8888888888888888, \"#fdca26\"], [1.0, \"#f0f921\"]]}, \"colorway\": [\"#636efa\", \"#EF553B\", \"#00cc96\", \"#ab63fa\", \"#FFA15A\", \"#19d3f3\", \"#FF6692\", \"#B6E880\", \"#FF97FF\", \"#FECB52\"], \"font\": {\"color\": \"#2a3f5f\"}, \"geo\": {\"bgcolor\": \"white\", \"lakecolor\": \"white\", \"landcolor\": \"#E5ECF6\", \"showlakes\": true, \"showland\": true, \"subunitcolor\": \"white\"}, \"hoverlabel\": {\"align\": \"left\"}, \"hovermode\": \"closest\", \"mapbox\": {\"style\": \"light\"}, \"paper_bgcolor\": \"white\", \"plot_bgcolor\": \"#E5ECF6\", \"polar\": {\"angularaxis\": {\"gridcolor\": \"white\", \"linecolor\": \"white\", \"ticks\": \"\"}, \"bgcolor\": \"#E5ECF6\", \"radialaxis\": {\"gridcolor\": \"white\", \"linecolor\": \"white\", \"ticks\": \"\"}}, \"scene\": {\"xaxis\": {\"backgroundcolor\": \"#E5ECF6\", \"gridcolor\": \"white\", \"gridwidth\": 2, \"linecolor\": \"white\", \"showbackground\": true, \"ticks\": \"\", \"zerolinecolor\": \"white\"}, \"yaxis\": {\"backgroundcolor\": \"#E5ECF6\", \"gridcolor\": \"white\", \"gridwidth\": 2, \"linecolor\": \"white\", \"showbackground\": true, \"ticks\": \"\", \"zerolinecolor\": \"white\"}, \"zaxis\": {\"backgroundcolor\": \"#E5ECF6\", \"gridcolor\": \"white\", \"gridwidth\": 2, \"linecolor\": \"white\", \"showbackground\": true, \"ticks\": \"\", \"zerolinecolor\": \"white\"}}, \"shapedefaults\": {\"line\": {\"color\": \"#2a3f5f\"}}, \"ternary\": {\"aaxis\": {\"gridcolor\": \"white\", \"linecolor\": \"white\", \"ticks\": \"\"}, \"baxis\": {\"gridcolor\": \"white\", \"linecolor\": \"white\", \"ticks\": \"\"}, \"bgcolor\": \"#E5ECF6\", \"caxis\": {\"gridcolor\": \"white\", \"linecolor\": \"white\", \"ticks\": \"\"}}, \"title\": {\"x\": 0.05}, \"xaxis\": {\"automargin\": true, \"gridcolor\": \"white\", \"linecolor\": \"white\", \"ticks\": \"\", \"title\": {\"standoff\": 15}, \"zerolinecolor\": \"white\", \"zerolinewidth\": 2}, \"yaxis\": {\"automargin\": true, \"gridcolor\": \"white\", \"linecolor\": \"white\", \"ticks\": \"\", \"title\": {\"standoff\": 15}, \"zerolinecolor\": \"white\", \"zerolinewidth\": 2}}}, \"width\": 900},\n",
       "                        {\"responsive\": true}\n",
       "                    ).then(function(){\n",
       "                            \n",
       "var gd = document.getElementById('47777209-f932-47bd-89d5-310f4e6ba05b');\n",
       "var x = new MutationObserver(function (mutations, observer) {{\n",
       "        var display = window.getComputedStyle(gd).display;\n",
       "        if (!display || display === 'none') {{\n",
       "            console.log([gd, 'removed!']);\n",
       "            Plotly.purge(gd);\n",
       "            observer.disconnect();\n",
       "        }}\n",
       "}});\n",
       "\n",
       "// Listen for the removal of the full notebook cells\n",
       "var notebookContainer = gd.closest('#notebook-container');\n",
       "if (notebookContainer) {{\n",
       "    x.observe(notebookContainer, {childList: true});\n",
       "}}\n",
       "\n",
       "// Listen for the clearing of the current output cell\n",
       "var outputEl = gd.closest('.output');\n",
       "if (outputEl) {{\n",
       "    x.observe(outputEl, {childList: true});\n",
       "}}\n",
       "\n",
       "                        })\n",
       "                };\n",
       "                });\n",
       "            </script>\n",
       "        </div>"
      ]
     },
     "metadata": {},
     "output_type": "display_data"
    }
   ],
   "source": [
    "fig = px.pie(active_hr, values='msg_count', labels='day', width=900, height=700, hole=.2)\n",
    "fig.show()"
   ]
  },
  {
   "cell_type": "code",
   "execution_count": 223,
   "metadata": {},
   "outputs": [
    {
     "data": {
      "application/vnd.plotly.v1+json": {
       "config": {
        "plotlyServerURL": "https://plot.ly"
       },
       "data": [
        {
         "hole": 0.3,
         "labels": [
          1,
          5,
          6,
          7,
          8,
          9,
          10,
          11,
          12,
          13,
          14,
          15,
          16,
          19,
          21,
          22,
          23,
          24,
          25,
          26,
          27,
          28,
          30,
          31
         ],
         "type": "pie",
         "values": [
          27,
          3,
          11,
          36,
          34,
          16,
          97,
          49,
          57,
          8,
          33,
          17,
          35,
          7,
          12,
          31,
          14,
          2,
          25,
          85,
          10,
          10,
          2,
          1
         ]
        }
       ],
       "layout": {
        "showlegend": false,
        "template": {
         "data": {
          "bar": [
           {
            "error_x": {
             "color": "#2a3f5f"
            },
            "error_y": {
             "color": "#2a3f5f"
            },
            "marker": {
             "line": {
              "color": "#E5ECF6",
              "width": 0.5
             }
            },
            "type": "bar"
           }
          ],
          "barpolar": [
           {
            "marker": {
             "line": {
              "color": "#E5ECF6",
              "width": 0.5
             }
            },
            "type": "barpolar"
           }
          ],
          "carpet": [
           {
            "aaxis": {
             "endlinecolor": "#2a3f5f",
             "gridcolor": "white",
             "linecolor": "white",
             "minorgridcolor": "white",
             "startlinecolor": "#2a3f5f"
            },
            "baxis": {
             "endlinecolor": "#2a3f5f",
             "gridcolor": "white",
             "linecolor": "white",
             "minorgridcolor": "white",
             "startlinecolor": "#2a3f5f"
            },
            "type": "carpet"
           }
          ],
          "choropleth": [
           {
            "colorbar": {
             "outlinewidth": 0,
             "ticks": ""
            },
            "type": "choropleth"
           }
          ],
          "contour": [
           {
            "colorbar": {
             "outlinewidth": 0,
             "ticks": ""
            },
            "colorscale": [
             [
              0,
              "#0d0887"
             ],
             [
              0.1111111111111111,
              "#46039f"
             ],
             [
              0.2222222222222222,
              "#7201a8"
             ],
             [
              0.3333333333333333,
              "#9c179e"
             ],
             [
              0.4444444444444444,
              "#bd3786"
             ],
             [
              0.5555555555555556,
              "#d8576b"
             ],
             [
              0.6666666666666666,
              "#ed7953"
             ],
             [
              0.7777777777777778,
              "#fb9f3a"
             ],
             [
              0.8888888888888888,
              "#fdca26"
             ],
             [
              1,
              "#f0f921"
             ]
            ],
            "type": "contour"
           }
          ],
          "contourcarpet": [
           {
            "colorbar": {
             "outlinewidth": 0,
             "ticks": ""
            },
            "type": "contourcarpet"
           }
          ],
          "heatmap": [
           {
            "colorbar": {
             "outlinewidth": 0,
             "ticks": ""
            },
            "colorscale": [
             [
              0,
              "#0d0887"
             ],
             [
              0.1111111111111111,
              "#46039f"
             ],
             [
              0.2222222222222222,
              "#7201a8"
             ],
             [
              0.3333333333333333,
              "#9c179e"
             ],
             [
              0.4444444444444444,
              "#bd3786"
             ],
             [
              0.5555555555555556,
              "#d8576b"
             ],
             [
              0.6666666666666666,
              "#ed7953"
             ],
             [
              0.7777777777777778,
              "#fb9f3a"
             ],
             [
              0.8888888888888888,
              "#fdca26"
             ],
             [
              1,
              "#f0f921"
             ]
            ],
            "type": "heatmap"
           }
          ],
          "heatmapgl": [
           {
            "colorbar": {
             "outlinewidth": 0,
             "ticks": ""
            },
            "colorscale": [
             [
              0,
              "#0d0887"
             ],
             [
              0.1111111111111111,
              "#46039f"
             ],
             [
              0.2222222222222222,
              "#7201a8"
             ],
             [
              0.3333333333333333,
              "#9c179e"
             ],
             [
              0.4444444444444444,
              "#bd3786"
             ],
             [
              0.5555555555555556,
              "#d8576b"
             ],
             [
              0.6666666666666666,
              "#ed7953"
             ],
             [
              0.7777777777777778,
              "#fb9f3a"
             ],
             [
              0.8888888888888888,
              "#fdca26"
             ],
             [
              1,
              "#f0f921"
             ]
            ],
            "type": "heatmapgl"
           }
          ],
          "histogram": [
           {
            "marker": {
             "colorbar": {
              "outlinewidth": 0,
              "ticks": ""
             }
            },
            "type": "histogram"
           }
          ],
          "histogram2d": [
           {
            "colorbar": {
             "outlinewidth": 0,
             "ticks": ""
            },
            "colorscale": [
             [
              0,
              "#0d0887"
             ],
             [
              0.1111111111111111,
              "#46039f"
             ],
             [
              0.2222222222222222,
              "#7201a8"
             ],
             [
              0.3333333333333333,
              "#9c179e"
             ],
             [
              0.4444444444444444,
              "#bd3786"
             ],
             [
              0.5555555555555556,
              "#d8576b"
             ],
             [
              0.6666666666666666,
              "#ed7953"
             ],
             [
              0.7777777777777778,
              "#fb9f3a"
             ],
             [
              0.8888888888888888,
              "#fdca26"
             ],
             [
              1,
              "#f0f921"
             ]
            ],
            "type": "histogram2d"
           }
          ],
          "histogram2dcontour": [
           {
            "colorbar": {
             "outlinewidth": 0,
             "ticks": ""
            },
            "colorscale": [
             [
              0,
              "#0d0887"
             ],
             [
              0.1111111111111111,
              "#46039f"
             ],
             [
              0.2222222222222222,
              "#7201a8"
             ],
             [
              0.3333333333333333,
              "#9c179e"
             ],
             [
              0.4444444444444444,
              "#bd3786"
             ],
             [
              0.5555555555555556,
              "#d8576b"
             ],
             [
              0.6666666666666666,
              "#ed7953"
             ],
             [
              0.7777777777777778,
              "#fb9f3a"
             ],
             [
              0.8888888888888888,
              "#fdca26"
             ],
             [
              1,
              "#f0f921"
             ]
            ],
            "type": "histogram2dcontour"
           }
          ],
          "mesh3d": [
           {
            "colorbar": {
             "outlinewidth": 0,
             "ticks": ""
            },
            "type": "mesh3d"
           }
          ],
          "parcoords": [
           {
            "line": {
             "colorbar": {
              "outlinewidth": 0,
              "ticks": ""
             }
            },
            "type": "parcoords"
           }
          ],
          "pie": [
           {
            "automargin": true,
            "type": "pie"
           }
          ],
          "scatter": [
           {
            "marker": {
             "colorbar": {
              "outlinewidth": 0,
              "ticks": ""
             }
            },
            "type": "scatter"
           }
          ],
          "scatter3d": [
           {
            "line": {
             "colorbar": {
              "outlinewidth": 0,
              "ticks": ""
             }
            },
            "marker": {
             "colorbar": {
              "outlinewidth": 0,
              "ticks": ""
             }
            },
            "type": "scatter3d"
           }
          ],
          "scattercarpet": [
           {
            "marker": {
             "colorbar": {
              "outlinewidth": 0,
              "ticks": ""
             }
            },
            "type": "scattercarpet"
           }
          ],
          "scattergeo": [
           {
            "marker": {
             "colorbar": {
              "outlinewidth": 0,
              "ticks": ""
             }
            },
            "type": "scattergeo"
           }
          ],
          "scattergl": [
           {
            "marker": {
             "colorbar": {
              "outlinewidth": 0,
              "ticks": ""
             }
            },
            "type": "scattergl"
           }
          ],
          "scattermapbox": [
           {
            "marker": {
             "colorbar": {
              "outlinewidth": 0,
              "ticks": ""
             }
            },
            "type": "scattermapbox"
           }
          ],
          "scatterpolar": [
           {
            "marker": {
             "colorbar": {
              "outlinewidth": 0,
              "ticks": ""
             }
            },
            "type": "scatterpolar"
           }
          ],
          "scatterpolargl": [
           {
            "marker": {
             "colorbar": {
              "outlinewidth": 0,
              "ticks": ""
             }
            },
            "type": "scatterpolargl"
           }
          ],
          "scatterternary": [
           {
            "marker": {
             "colorbar": {
              "outlinewidth": 0,
              "ticks": ""
             }
            },
            "type": "scatterternary"
           }
          ],
          "surface": [
           {
            "colorbar": {
             "outlinewidth": 0,
             "ticks": ""
            },
            "colorscale": [
             [
              0,
              "#0d0887"
             ],
             [
              0.1111111111111111,
              "#46039f"
             ],
             [
              0.2222222222222222,
              "#7201a8"
             ],
             [
              0.3333333333333333,
              "#9c179e"
             ],
             [
              0.4444444444444444,
              "#bd3786"
             ],
             [
              0.5555555555555556,
              "#d8576b"
             ],
             [
              0.6666666666666666,
              "#ed7953"
             ],
             [
              0.7777777777777778,
              "#fb9f3a"
             ],
             [
              0.8888888888888888,
              "#fdca26"
             ],
             [
              1,
              "#f0f921"
             ]
            ],
            "type": "surface"
           }
          ],
          "table": [
           {
            "cells": {
             "fill": {
              "color": "#EBF0F8"
             },
             "line": {
              "color": "white"
             }
            },
            "header": {
             "fill": {
              "color": "#C8D4E3"
             },
             "line": {
              "color": "white"
             }
            },
            "type": "table"
           }
          ]
         },
         "layout": {
          "annotationdefaults": {
           "arrowcolor": "#2a3f5f",
           "arrowhead": 0,
           "arrowwidth": 1
          },
          "coloraxis": {
           "colorbar": {
            "outlinewidth": 0,
            "ticks": ""
           }
          },
          "colorscale": {
           "diverging": [
            [
             0,
             "#8e0152"
            ],
            [
             0.1,
             "#c51b7d"
            ],
            [
             0.2,
             "#de77ae"
            ],
            [
             0.3,
             "#f1b6da"
            ],
            [
             0.4,
             "#fde0ef"
            ],
            [
             0.5,
             "#f7f7f7"
            ],
            [
             0.6,
             "#e6f5d0"
            ],
            [
             0.7,
             "#b8e186"
            ],
            [
             0.8,
             "#7fbc41"
            ],
            [
             0.9,
             "#4d9221"
            ],
            [
             1,
             "#276419"
            ]
           ],
           "sequential": [
            [
             0,
             "#0d0887"
            ],
            [
             0.1111111111111111,
             "#46039f"
            ],
            [
             0.2222222222222222,
             "#7201a8"
            ],
            [
             0.3333333333333333,
             "#9c179e"
            ],
            [
             0.4444444444444444,
             "#bd3786"
            ],
            [
             0.5555555555555556,
             "#d8576b"
            ],
            [
             0.6666666666666666,
             "#ed7953"
            ],
            [
             0.7777777777777778,
             "#fb9f3a"
            ],
            [
             0.8888888888888888,
             "#fdca26"
            ],
            [
             1,
             "#f0f921"
            ]
           ],
           "sequentialminus": [
            [
             0,
             "#0d0887"
            ],
            [
             0.1111111111111111,
             "#46039f"
            ],
            [
             0.2222222222222222,
             "#7201a8"
            ],
            [
             0.3333333333333333,
             "#9c179e"
            ],
            [
             0.4444444444444444,
             "#bd3786"
            ],
            [
             0.5555555555555556,
             "#d8576b"
            ],
            [
             0.6666666666666666,
             "#ed7953"
            ],
            [
             0.7777777777777778,
             "#fb9f3a"
            ],
            [
             0.8888888888888888,
             "#fdca26"
            ],
            [
             1,
             "#f0f921"
            ]
           ]
          },
          "colorway": [
           "#636efa",
           "#EF553B",
           "#00cc96",
           "#ab63fa",
           "#FFA15A",
           "#19d3f3",
           "#FF6692",
           "#B6E880",
           "#FF97FF",
           "#FECB52"
          ],
          "font": {
           "color": "#2a3f5f"
          },
          "geo": {
           "bgcolor": "white",
           "lakecolor": "white",
           "landcolor": "#E5ECF6",
           "showlakes": true,
           "showland": true,
           "subunitcolor": "white"
          },
          "hoverlabel": {
           "align": "left"
          },
          "hovermode": "closest",
          "mapbox": {
           "style": "light"
          },
          "paper_bgcolor": "white",
          "plot_bgcolor": "#E5ECF6",
          "polar": {
           "angularaxis": {
            "gridcolor": "white",
            "linecolor": "white",
            "ticks": ""
           },
           "bgcolor": "#E5ECF6",
           "radialaxis": {
            "gridcolor": "white",
            "linecolor": "white",
            "ticks": ""
           }
          },
          "scene": {
           "xaxis": {
            "backgroundcolor": "#E5ECF6",
            "gridcolor": "white",
            "gridwidth": 2,
            "linecolor": "white",
            "showbackground": true,
            "ticks": "",
            "zerolinecolor": "white"
           },
           "yaxis": {
            "backgroundcolor": "#E5ECF6",
            "gridcolor": "white",
            "gridwidth": 2,
            "linecolor": "white",
            "showbackground": true,
            "ticks": "",
            "zerolinecolor": "white"
           },
           "zaxis": {
            "backgroundcolor": "#E5ECF6",
            "gridcolor": "white",
            "gridwidth": 2,
            "linecolor": "white",
            "showbackground": true,
            "ticks": "",
            "zerolinecolor": "white"
           }
          },
          "shapedefaults": {
           "line": {
            "color": "#2a3f5f"
           }
          },
          "ternary": {
           "aaxis": {
            "gridcolor": "white",
            "linecolor": "white",
            "ticks": ""
           },
           "baxis": {
            "gridcolor": "white",
            "linecolor": "white",
            "ticks": ""
           },
           "bgcolor": "#E5ECF6",
           "caxis": {
            "gridcolor": "white",
            "linecolor": "white",
            "ticks": ""
           }
          },
          "title": {
           "x": 0.05
          },
          "xaxis": {
           "automargin": true,
           "gridcolor": "white",
           "linecolor": "white",
           "ticks": "",
           "title": {
            "standoff": 15
           },
           "zerolinecolor": "white",
           "zerolinewidth": 2
          },
          "yaxis": {
           "automargin": true,
           "gridcolor": "white",
           "linecolor": "white",
           "ticks": "",
           "title": {
            "standoff": 15
           },
           "zerolinecolor": "white",
           "zerolinewidth": 2
          }
         }
        },
        "title": {
         "text": "Distribution of Users chat for days"
        },
        "yaxis": {
         "visible": false
        }
       }
      },
      "text/html": [
       "<div>\n",
       "        \n",
       "        \n",
       "            <div id=\"cf14e045-160d-45b9-a788-380f1de4cea2\" class=\"plotly-graph-div\" style=\"height:525px; width:100%;\"></div>\n",
       "            <script type=\"text/javascript\">\n",
       "                require([\"plotly\"], function(Plotly) {\n",
       "                    window.PLOTLYENV=window.PLOTLYENV || {};\n",
       "                    \n",
       "                if (document.getElementById(\"cf14e045-160d-45b9-a788-380f1de4cea2\")) {\n",
       "                    Plotly.newPlot(\n",
       "                        'cf14e045-160d-45b9-a788-380f1de4cea2',\n",
       "                        [{\"hole\": 0.3, \"labels\": [1, 5, 6, 7, 8, 9, 10, 11, 12, 13, 14, 15, 16, 19, 21, 22, 23, 24, 25, 26, 27, 28, 30, 31], \"type\": \"pie\", \"values\": [27, 3, 11, 36, 34, 16, 97, 49, 57, 8, 33, 17, 35, 7, 12, 31, 14, 2, 25, 85, 10, 10, 2, 1]}],\n",
       "                        {\"showlegend\": false, \"template\": {\"data\": {\"bar\": [{\"error_x\": {\"color\": \"#2a3f5f\"}, \"error_y\": {\"color\": \"#2a3f5f\"}, \"marker\": {\"line\": {\"color\": \"#E5ECF6\", \"width\": 0.5}}, \"type\": \"bar\"}], \"barpolar\": [{\"marker\": {\"line\": {\"color\": \"#E5ECF6\", \"width\": 0.5}}, \"type\": \"barpolar\"}], \"carpet\": [{\"aaxis\": {\"endlinecolor\": \"#2a3f5f\", \"gridcolor\": \"white\", \"linecolor\": \"white\", \"minorgridcolor\": \"white\", \"startlinecolor\": \"#2a3f5f\"}, \"baxis\": {\"endlinecolor\": \"#2a3f5f\", \"gridcolor\": \"white\", \"linecolor\": \"white\", \"minorgridcolor\": \"white\", \"startlinecolor\": \"#2a3f5f\"}, \"type\": \"carpet\"}], \"choropleth\": [{\"colorbar\": {\"outlinewidth\": 0, \"ticks\": \"\"}, \"type\": \"choropleth\"}], \"contour\": [{\"colorbar\": {\"outlinewidth\": 0, \"ticks\": \"\"}, \"colorscale\": [[0.0, \"#0d0887\"], [0.1111111111111111, \"#46039f\"], [0.2222222222222222, \"#7201a8\"], [0.3333333333333333, \"#9c179e\"], [0.4444444444444444, \"#bd3786\"], [0.5555555555555556, \"#d8576b\"], [0.6666666666666666, \"#ed7953\"], [0.7777777777777778, \"#fb9f3a\"], [0.8888888888888888, \"#fdca26\"], [1.0, \"#f0f921\"]], \"type\": \"contour\"}], \"contourcarpet\": [{\"colorbar\": {\"outlinewidth\": 0, \"ticks\": \"\"}, \"type\": \"contourcarpet\"}], \"heatmap\": [{\"colorbar\": {\"outlinewidth\": 0, \"ticks\": \"\"}, \"colorscale\": [[0.0, \"#0d0887\"], [0.1111111111111111, \"#46039f\"], [0.2222222222222222, \"#7201a8\"], [0.3333333333333333, \"#9c179e\"], [0.4444444444444444, \"#bd3786\"], [0.5555555555555556, \"#d8576b\"], [0.6666666666666666, \"#ed7953\"], [0.7777777777777778, \"#fb9f3a\"], [0.8888888888888888, \"#fdca26\"], [1.0, \"#f0f921\"]], \"type\": \"heatmap\"}], \"heatmapgl\": [{\"colorbar\": {\"outlinewidth\": 0, \"ticks\": \"\"}, \"colorscale\": [[0.0, \"#0d0887\"], [0.1111111111111111, \"#46039f\"], [0.2222222222222222, \"#7201a8\"], [0.3333333333333333, \"#9c179e\"], [0.4444444444444444, \"#bd3786\"], [0.5555555555555556, \"#d8576b\"], [0.6666666666666666, \"#ed7953\"], [0.7777777777777778, \"#fb9f3a\"], [0.8888888888888888, \"#fdca26\"], [1.0, \"#f0f921\"]], \"type\": \"heatmapgl\"}], \"histogram\": [{\"marker\": {\"colorbar\": {\"outlinewidth\": 0, \"ticks\": \"\"}}, \"type\": \"histogram\"}], \"histogram2d\": [{\"colorbar\": {\"outlinewidth\": 0, \"ticks\": \"\"}, \"colorscale\": [[0.0, \"#0d0887\"], [0.1111111111111111, \"#46039f\"], [0.2222222222222222, \"#7201a8\"], [0.3333333333333333, \"#9c179e\"], [0.4444444444444444, \"#bd3786\"], [0.5555555555555556, \"#d8576b\"], [0.6666666666666666, \"#ed7953\"], [0.7777777777777778, \"#fb9f3a\"], [0.8888888888888888, \"#fdca26\"], [1.0, \"#f0f921\"]], \"type\": \"histogram2d\"}], \"histogram2dcontour\": [{\"colorbar\": {\"outlinewidth\": 0, \"ticks\": \"\"}, \"colorscale\": [[0.0, \"#0d0887\"], [0.1111111111111111, \"#46039f\"], [0.2222222222222222, \"#7201a8\"], [0.3333333333333333, \"#9c179e\"], [0.4444444444444444, \"#bd3786\"], [0.5555555555555556, \"#d8576b\"], [0.6666666666666666, \"#ed7953\"], [0.7777777777777778, \"#fb9f3a\"], [0.8888888888888888, \"#fdca26\"], [1.0, \"#f0f921\"]], \"type\": \"histogram2dcontour\"}], \"mesh3d\": [{\"colorbar\": {\"outlinewidth\": 0, \"ticks\": \"\"}, \"type\": \"mesh3d\"}], \"parcoords\": [{\"line\": {\"colorbar\": {\"outlinewidth\": 0, \"ticks\": \"\"}}, \"type\": \"parcoords\"}], \"pie\": [{\"automargin\": true, \"type\": \"pie\"}], \"scatter\": [{\"marker\": {\"colorbar\": {\"outlinewidth\": 0, \"ticks\": \"\"}}, \"type\": \"scatter\"}], \"scatter3d\": [{\"line\": {\"colorbar\": {\"outlinewidth\": 0, \"ticks\": \"\"}}, \"marker\": {\"colorbar\": {\"outlinewidth\": 0, \"ticks\": \"\"}}, \"type\": \"scatter3d\"}], \"scattercarpet\": [{\"marker\": {\"colorbar\": {\"outlinewidth\": 0, \"ticks\": \"\"}}, \"type\": \"scattercarpet\"}], \"scattergeo\": [{\"marker\": {\"colorbar\": {\"outlinewidth\": 0, \"ticks\": \"\"}}, \"type\": \"scattergeo\"}], \"scattergl\": [{\"marker\": {\"colorbar\": {\"outlinewidth\": 0, \"ticks\": \"\"}}, \"type\": \"scattergl\"}], \"scattermapbox\": [{\"marker\": {\"colorbar\": {\"outlinewidth\": 0, \"ticks\": \"\"}}, \"type\": \"scattermapbox\"}], \"scatterpolar\": [{\"marker\": {\"colorbar\": {\"outlinewidth\": 0, \"ticks\": \"\"}}, \"type\": \"scatterpolar\"}], \"scatterpolargl\": [{\"marker\": {\"colorbar\": {\"outlinewidth\": 0, \"ticks\": \"\"}}, \"type\": \"scatterpolargl\"}], \"scatterternary\": [{\"marker\": {\"colorbar\": {\"outlinewidth\": 0, \"ticks\": \"\"}}, \"type\": \"scatterternary\"}], \"surface\": [{\"colorbar\": {\"outlinewidth\": 0, \"ticks\": \"\"}, \"colorscale\": [[0.0, \"#0d0887\"], [0.1111111111111111, \"#46039f\"], [0.2222222222222222, \"#7201a8\"], [0.3333333333333333, \"#9c179e\"], [0.4444444444444444, \"#bd3786\"], [0.5555555555555556, \"#d8576b\"], [0.6666666666666666, \"#ed7953\"], [0.7777777777777778, \"#fb9f3a\"], [0.8888888888888888, \"#fdca26\"], [1.0, \"#f0f921\"]], \"type\": \"surface\"}], \"table\": [{\"cells\": {\"fill\": {\"color\": \"#EBF0F8\"}, \"line\": {\"color\": \"white\"}}, \"header\": {\"fill\": {\"color\": \"#C8D4E3\"}, \"line\": {\"color\": \"white\"}}, \"type\": \"table\"}]}, \"layout\": {\"annotationdefaults\": {\"arrowcolor\": \"#2a3f5f\", \"arrowhead\": 0, \"arrowwidth\": 1}, \"coloraxis\": {\"colorbar\": {\"outlinewidth\": 0, \"ticks\": \"\"}}, \"colorscale\": {\"diverging\": [[0, \"#8e0152\"], [0.1, \"#c51b7d\"], [0.2, \"#de77ae\"], [0.3, \"#f1b6da\"], [0.4, \"#fde0ef\"], [0.5, \"#f7f7f7\"], [0.6, \"#e6f5d0\"], [0.7, \"#b8e186\"], [0.8, \"#7fbc41\"], [0.9, \"#4d9221\"], [1, \"#276419\"]], \"sequential\": [[0.0, \"#0d0887\"], [0.1111111111111111, \"#46039f\"], [0.2222222222222222, \"#7201a8\"], [0.3333333333333333, \"#9c179e\"], [0.4444444444444444, \"#bd3786\"], [0.5555555555555556, \"#d8576b\"], [0.6666666666666666, \"#ed7953\"], [0.7777777777777778, \"#fb9f3a\"], [0.8888888888888888, \"#fdca26\"], [1.0, \"#f0f921\"]], \"sequentialminus\": [[0.0, \"#0d0887\"], [0.1111111111111111, \"#46039f\"], [0.2222222222222222, \"#7201a8\"], [0.3333333333333333, \"#9c179e\"], [0.4444444444444444, \"#bd3786\"], [0.5555555555555556, \"#d8576b\"], [0.6666666666666666, \"#ed7953\"], [0.7777777777777778, \"#fb9f3a\"], [0.8888888888888888, \"#fdca26\"], [1.0, \"#f0f921\"]]}, \"colorway\": [\"#636efa\", \"#EF553B\", \"#00cc96\", \"#ab63fa\", \"#FFA15A\", \"#19d3f3\", \"#FF6692\", \"#B6E880\", \"#FF97FF\", \"#FECB52\"], \"font\": {\"color\": \"#2a3f5f\"}, \"geo\": {\"bgcolor\": \"white\", \"lakecolor\": \"white\", \"landcolor\": \"#E5ECF6\", \"showlakes\": true, \"showland\": true, \"subunitcolor\": \"white\"}, \"hoverlabel\": {\"align\": \"left\"}, \"hovermode\": \"closest\", \"mapbox\": {\"style\": \"light\"}, \"paper_bgcolor\": \"white\", \"plot_bgcolor\": \"#E5ECF6\", \"polar\": {\"angularaxis\": {\"gridcolor\": \"white\", \"linecolor\": \"white\", \"ticks\": \"\"}, \"bgcolor\": \"#E5ECF6\", \"radialaxis\": {\"gridcolor\": \"white\", \"linecolor\": \"white\", \"ticks\": \"\"}}, \"scene\": {\"xaxis\": {\"backgroundcolor\": \"#E5ECF6\", \"gridcolor\": \"white\", \"gridwidth\": 2, \"linecolor\": \"white\", \"showbackground\": true, \"ticks\": \"\", \"zerolinecolor\": \"white\"}, \"yaxis\": {\"backgroundcolor\": \"#E5ECF6\", \"gridcolor\": \"white\", \"gridwidth\": 2, \"linecolor\": \"white\", \"showbackground\": true, \"ticks\": \"\", \"zerolinecolor\": \"white\"}, \"zaxis\": {\"backgroundcolor\": \"#E5ECF6\", \"gridcolor\": \"white\", \"gridwidth\": 2, \"linecolor\": \"white\", \"showbackground\": true, \"ticks\": \"\", \"zerolinecolor\": \"white\"}}, \"shapedefaults\": {\"line\": {\"color\": \"#2a3f5f\"}}, \"ternary\": {\"aaxis\": {\"gridcolor\": \"white\", \"linecolor\": \"white\", \"ticks\": \"\"}, \"baxis\": {\"gridcolor\": \"white\", \"linecolor\": \"white\", \"ticks\": \"\"}, \"bgcolor\": \"#E5ECF6\", \"caxis\": {\"gridcolor\": \"white\", \"linecolor\": \"white\", \"ticks\": \"\"}}, \"title\": {\"x\": 0.05}, \"xaxis\": {\"automargin\": true, \"gridcolor\": \"white\", \"linecolor\": \"white\", \"ticks\": \"\", \"title\": {\"standoff\": 15}, \"zerolinecolor\": \"white\", \"zerolinewidth\": 2}, \"yaxis\": {\"automargin\": true, \"gridcolor\": \"white\", \"linecolor\": \"white\", \"ticks\": \"\", \"title\": {\"standoff\": 15}, \"zerolinecolor\": \"white\", \"zerolinewidth\": 2}}}, \"title\": {\"text\": \"Distribution of Users chat for days\"}, \"yaxis\": {\"visible\": false}},\n",
       "                        {\"responsive\": true}\n",
       "                    ).then(function(){\n",
       "                            \n",
       "var gd = document.getElementById('cf14e045-160d-45b9-a788-380f1de4cea2');\n",
       "var x = new MutationObserver(function (mutations, observer) {{\n",
       "        var display = window.getComputedStyle(gd).display;\n",
       "        if (!display || display === 'none') {{\n",
       "            console.log([gd, 'removed!']);\n",
       "            Plotly.purge(gd);\n",
       "            observer.disconnect();\n",
       "        }}\n",
       "}});\n",
       "\n",
       "// Listen for the removal of the full notebook cells\n",
       "var notebookContainer = gd.closest('#notebook-container');\n",
       "if (notebookContainer) {{\n",
       "    x.observe(notebookContainer, {childList: true});\n",
       "}}\n",
       "\n",
       "// Listen for the clearing of the current output cell\n",
       "var outputEl = gd.closest('.output');\n",
       "if (outputEl) {{\n",
       "    x.observe(outputEl, {childList: true});\n",
       "}}\n",
       "\n",
       "                        })\n",
       "                };\n",
       "                });\n",
       "            </script>\n",
       "        </div>"
      ]
     },
     "metadata": {},
     "output_type": "display_data"
    }
   ],
   "source": [
    "\n",
    "active_hr = df.groupby('day')['day'].count().reset_index(name='msg_count')\n",
    "fig = go.Figure(data=[go.Pie(labels=active_hr['day'], values=active_hr['msg_count'], hole=.3,\n",
    "                             )])\n",
    "# fig.update_traces(textposition='inside', textinfo='percent+label')\n",
    "fig.update_layout(showlegend=False, yaxis={'visible':False}, title='Distribution of Users chat for days')\n",
    "fig.show()"
   ]
  },
  {
   "cell_type": "code",
   "execution_count": null,
   "metadata": {},
   "outputs": [],
   "source": []
  },
  {
   "cell_type": "code",
   "execution_count": null,
   "metadata": {},
   "outputs": [],
   "source": []
  },
  {
   "cell_type": "code",
   "execution_count": null,
   "metadata": {},
   "outputs": [],
   "source": []
  },
  {
   "cell_type": "code",
   "execution_count": null,
   "metadata": {},
   "outputs": [],
   "source": []
  },
  {
   "cell_type": "markdown",
   "metadata": {},
   "source": [
    "## Text Preprocessing"
   ]
  },
  {
   "cell_type": "code",
   "execution_count": 114,
   "metadata": {},
   "outputs": [],
   "source": [
    "import string\n",
    "def text_process(mess):\n",
    "    \"\"\"\n",
    "    Takes in a string of text, then performs the following:\n",
    "    1. Remove all punctuation\n",
    "    2. Remove all stopwords\n",
    "    3. Returns a list of the cleaned text\n",
    "    \"\"\"\n",
    "    # Check characters to see if they are in punctuation\n",
    "    nopunc = [char for char in mess if char not in string.punctuation]\n",
    "\n",
    "    # Join the characters again to form the string.\n",
    "    nopunc = ''.join(nopunc)\n",
    "    \n",
    "    # Now just remove any stopwords\n",
    "    clean_message = [word.lower() for word in nopunc.split() if word.lower() not in stopwords.words('english')]\n",
    "    return ' '.join(clean_message)"
   ]
  },
  {
   "cell_type": "code",
   "execution_count": 115,
   "metadata": {},
   "outputs": [],
   "source": [
    "# This will take a while to complete, you can go grab some snack or do some chores\n",
    "df['clean_content'] = df['Content'].apply(text_process)"
   ]
  },
  {
   "cell_type": "code",
   "execution_count": 116,
   "metadata": {},
   "outputs": [
    {
     "data": {
      "text/html": [
       "<div>\n",
       "<style scoped>\n",
       "    .dataframe tbody tr th:only-of-type {\n",
       "        vertical-align: middle;\n",
       "    }\n",
       "\n",
       "    .dataframe tbody tr th {\n",
       "        vertical-align: top;\n",
       "    }\n",
       "\n",
       "    .dataframe thead th {\n",
       "        text-align: right;\n",
       "    }\n",
       "</style>\n",
       "<table border=\"1\" class=\"dataframe\">\n",
       "  <thead>\n",
       "    <tr style=\"text-align: right;\">\n",
       "      <th></th>\n",
       "      <th>Date</th>\n",
       "      <th>Time</th>\n",
       "      <th>Name</th>\n",
       "      <th>Content</th>\n",
       "      <th>chat_length</th>\n",
       "      <th>word_count</th>\n",
       "      <th>date_time</th>\n",
       "      <th>clean_content</th>\n",
       "    </tr>\n",
       "  </thead>\n",
       "  <tbody>\n",
       "    <tr>\n",
       "      <th>1</th>\n",
       "      <td>7/7/19</td>\n",
       "      <td>03:14</td>\n",
       "      <td>AAO</td>\n",
       "      <td>Asalam alaikum bro</td>\n",
       "      <td>19</td>\n",
       "      <td>3</td>\n",
       "      <td>7/7/19 03:14</td>\n",
       "      <td>asalam alaikum bro</td>\n",
       "    </tr>\n",
       "    <tr>\n",
       "      <th>2</th>\n",
       "      <td>7/7/19</td>\n",
       "      <td>03:15</td>\n",
       "      <td>AAO</td>\n",
       "      <td>Abeg help me send the time table and mobile c...</td>\n",
       "      <td>71</td>\n",
       "      <td>13</td>\n",
       "      <td>7/7/19 03:15</td>\n",
       "      <td>abeg help send time table mobile computing mat...</td>\n",
       "    </tr>\n",
       "    <tr>\n",
       "      <th>3</th>\n",
       "      <td>7/7/19</td>\n",
       "      <td>03:15</td>\n",
       "      <td>AAO</td>\n",
       "      <td>Jazakallahu khairan</td>\n",
       "      <td>20</td>\n",
       "      <td>2</td>\n",
       "      <td>7/7/19 03:15</td>\n",
       "      <td>jazakallahu khairan</td>\n",
       "    </tr>\n",
       "    <tr>\n",
       "      <th>4</th>\n",
       "      <td>7/7/19</td>\n",
       "      <td>04:21</td>\n",
       "      <td>AbdulAzeez</td>\n",
       "      <td>Walealun. Salam.The time table is no longer o...</td>\n",
       "      <td>60</td>\n",
       "      <td>11</td>\n",
       "      <td>7/7/19 04:21</td>\n",
       "      <td>walealun salamthe time table longer phone sir</td>\n",
       "    </tr>\n",
       "    <tr>\n",
       "      <th>5</th>\n",
       "      <td>7/7/19</td>\n",
       "      <td>07:18</td>\n",
       "      <td>AAO</td>\n",
       "      <td>Alright nah</td>\n",
       "      <td>12</td>\n",
       "      <td>2</td>\n",
       "      <td>7/7/19 07:18</td>\n",
       "      <td>alright nah</td>\n",
       "    </tr>\n",
       "  </tbody>\n",
       "</table>\n",
       "</div>"
      ],
      "text/plain": [
       "     Date   Time        Name  \\\n",
       "1  7/7/19  03:14         AAO   \n",
       "2  7/7/19  03:15         AAO   \n",
       "3  7/7/19  03:15         AAO   \n",
       "4  7/7/19  04:21  AbdulAzeez   \n",
       "5  7/7/19  07:18         AAO   \n",
       "\n",
       "                                             Content  chat_length  word_count  \\\n",
       "1                                 Asalam alaikum bro           19           3   \n",
       "2   Abeg help me send the time table and mobile c...           71          13   \n",
       "3                                Jazakallahu khairan           20           2   \n",
       "4   Walealun. Salam.The time table is no longer o...           60          11   \n",
       "5                                        Alright nah           12           2   \n",
       "\n",
       "      date_time                                      clean_content  \n",
       "1  7/7/19 03:14                                 asalam alaikum bro  \n",
       "2  7/7/19 03:15  abeg help send time table mobile computing mat...  \n",
       "3  7/7/19 03:15                                jazakallahu khairan  \n",
       "4  7/7/19 04:21      walealun salamthe time table longer phone sir  \n",
       "5  7/7/19 07:18                                        alright nah  "
      ]
     },
     "execution_count": 116,
     "metadata": {},
     "output_type": "execute_result"
    }
   ],
   "source": [
    "# Show transformed dataframe and we can compare columns\n",
    "df.head()"
   ]
  },
  {
   "cell_type": "code",
   "execution_count": 252,
   "metadata": {},
   "outputs": [
    {
     "name": "stdout",
     "output_type": "stream",
     "text": [
      "['i', 'me', 'my', 'myself', 'we', 'our', 'ours', 'ourselves', 'you', \"you're\", \"you've\", \"you'll\", \"you'd\", 'your', 'yours', 'yourself', 'yourselves', 'he', 'him', 'his', 'himself', 'she', \"she's\", 'her', 'hers', 'herself', 'it', \"it's\", 'its', 'itself', 'they', 'them', 'their', 'theirs', 'themselves', 'what', 'which', 'who', 'whom', 'this', 'that', \"that'll\", 'these', 'those', 'am', 'is', 'are', 'was', 'were', 'be', 'been', 'being', 'have', 'has', 'had', 'having', 'do', 'does', 'did', 'doing', 'a', 'an', 'the', 'and', 'but', 'if', 'or', 'because', 'as', 'until', 'while', 'of', 'at', 'by', 'for', 'with', 'about', 'against', 'between', 'into', 'through', 'during', 'before', 'after', 'above', 'below', 'to', 'from', 'up', 'down', 'in', 'out', 'on', 'off', 'over', 'under', 'again', 'further', 'then', 'once', 'here', 'there', 'when', 'where', 'why', 'how', 'all', 'any', 'both', 'each', 'few', 'more', 'most', 'other', 'some', 'such', 'no', 'nor', 'not', 'only', 'own', 'same', 'so', 'than', 'too', 'very', 's', 't', 'can', 'will', 'just', 'don', \"don't\", 'should', \"should've\", 'now', 'd', 'll', 'm', 'o', 're', 've', 'y', 'ain', 'aren', \"aren't\", 'couldn', \"couldn't\", 'didn', \"didn't\", 'doesn', \"doesn't\", 'hadn', \"hadn't\", 'hasn', \"hasn't\", 'haven', \"haven't\", 'isn', \"isn't\", 'ma', 'mightn', \"mightn't\", 'mustn', \"mustn't\", 'needn', \"needn't\", 'shan', \"shan't\", 'shouldn', \"shouldn't\", 'wasn', \"wasn't\", 'weren', \"weren't\", 'won', \"won't\", 'wouldn', \"wouldn't\"]\n"
     ]
    }
   ],
   "source": [
    "print(stopwords.words('english'))"
   ]
  },
  {
   "cell_type": "code",
   "execution_count": 125,
   "metadata": {},
   "outputs": [
    {
     "data": {
      "image/png": "[encoded data removed]",
      "text/plain": [
       "<Figure size 1080x648 with 1 Axes>"
      ]
     },
     "metadata": {},
     "output_type": "display_data"
    },
    {
     "data": {
      "text/plain": [
       "<Figure size 432x288 with 0 Axes>"
      ]
     },
     "metadata": {},
     "output_type": "display_data"
    }
   ],
   "source": [
    "from wordcloud import WordCloud\n",
    "def draw_wordcloud(msgs):\n",
    "# word cloud visualization\n",
    "\n",
    "    allWords = ' '.join([twts for twts in msgs])\n",
    "    wordCloud = WordCloud(width=300, height=150, random_state=21, max_words=200, mode='RGBA',\n",
    "                        max_font_size=140, stopwords=stopwords.words('english'), scale=9,\n",
    "                          min_word_length=4).generate(allWords)\n",
    "    plt.figure(figsize=(15, 9))\n",
    "    plt.imshow(wordCloud, interpolation=\"bilinear\")\n",
    "    plt.axis('off')\n",
    "    plt.tight_layout(); plt.title('most used words', size=20)\n",
    "    plt.show()\n",
    "    plt.savefig('masked_wordcloud.jpg')\n",
    "    \n",
    "draw_wordcloud(df['clean_content'])"
   ]
  },
  {
   "cell_type": "code",
   "execution_count": 268,
   "metadata": {},
   "outputs": [
    {
     "data": {
      "text/plain": [
       "list"
      ]
     },
     "execution_count": 268,
     "metadata": {},
     "output_type": "execute_result"
    }
   ],
   "source": [
    "d = pd.read_fwf('WhatsApp Chat with Abdul-Azeez.txt', sep = ' ', header=None)[0].tolist()\n",
    "type(d)"
   ]
  },
  {
   "cell_type": "code",
   "execution_count": 281,
   "metadata": {},
   "outputs": [
    {
     "data": {
      "text/plain": [
       "['7/7/19, 03:14 - Messages and calls are end-to-end encrypted. No one outside of this chat, not even WhatsApp, can read or listen to them. Tap to learn more.',\n",
       " '7/7/19, 03:14 - AAO: Asalam alaikum bro',\n",
       " '7/7/19, 03:15 - AAO: Abeg help me send the time table and mobile computing materials if any',\n",
       " '7/7/19, 03:15 - AAO: Jazakallahu khairan',\n",
       " '7/7/19, 04:21 - Abdul-Azeez: Walealun. Salam.The time table is no longer on my phone sir',\n",
       " '7/7/19, 07:18 - AAO: Alright nah',\n",
       " '7/8/19, 17:47 - AAO: Asalam alaikum bro',\n",
       " 'Please share me muiz contact',\n",
       " '7/8/19, 17:47 - Abdul-Azeez: Muiz.vcf (file attached)',\n",
       " '7/8/19, 17:47 - Abdul-Azeez: Waleakun salam',\n",
       " '7/8/19, 17:50 - AAO: Jazakallahu khairan',\n",
       " '7/8/19, 18:00 - Abdul-Azeez: Waiyakum',\n",
       " '7/9/19, 07:12 - AAO: <Media omitted>',\n",
       " '7/9/19, 07:12 - AAO: <Media omitted>',\n",
       " '7/9/19, 07:13 - Abdul-Azeez: Thanks you sir',\n",
       " '7/9/19, 07:13 - Abdul-Azeez: Na wetin me sef go read b this',\n",
       " '7/9/19, 07:13 - Abdul-Azeez: Just wake up since last night',\n",
       " '7/9/19, 07:14 - AAO: Tor but I dey think say it is small',\n",
       " '7/9/19, 07:15 - Abdul-Azeez: When testbook did not come out any test in nko',\n",
       " '7/9/19, 07:17 - AAO: Yes that true sha',\n",
       " '7/9/19, 07:22 - Abdul-Azeez: Yh',\n",
       " '7/10/19, 07:15 - AAO: <Media omitted>',\n",
       " '7/10/19, 07:15 - AAO: <Media omitted>',\n",
       " '7/10/19, 07:15 - AAO: <Media omitted>',\n",
       " '7/10/19, 07:15 - AAO: <Media omitted>',\n",
       " '7/10/19, 07:15 - AAO: <Media omitted>',\n",
       " '7/10/19, 07:16 - AAO: Asalam alaikum waramatullah',\n",
       " 'Bro Iss a good Morning sir',\n",
       " '7/10/19, 07:17 - Abdul-Azeez: Waleakun salam',\n",
       " '7/10/19, 07:17 - Abdul-Azeez: How was your night',\n",
       " '7/10/19, 07:17 - Abdul-Azeez: Is that all the slides',\n",
       " '7/10/19, 07:17 - AAO: Alhamdullilah it was short',\n",
       " '7/10/19, 07:18 - AAO: For now read those and some that salkarb sent last night',\n",
       " '7/10/19, 07:18 - Abdul-Azeez: Thanks for the slides oo',\n",
       " \"7/10/19, 07:18 - AAO: Na'am it will cost you 150,000 only\",\n",
       " '7/10/19, 07:18 - AAO: Happy jacking',\n",
       " \"7/10/19, 07:19 - Abdul-Azeez: Salkarb didn't send anything na\",\n",
       " '7/10/19, 07:19 - Abdul-Azeez: 😳',\n",
       " '7/10/19, 07:20 - AAO: He send at least 2 last night',\n",
       " '7/10/19, 07:20 - AAO: Pay bro no time',\n",
       " '7/10/19, 07:20 - Abdul-Azeez: Lol..',\n",
       " '7/10/19, 07:21 - Abdul-Azeez: Okay sir',\n",
       " '7/10/19, 07:27 - Abdul-Azeez: <Media omitted>',\n",
       " '7/10/19, 08:40 - Abdul-Azeez: <Media omitted>',\n",
       " '7/10/19, 08:40 - Abdul-Azeez: <Media omitted>',\n",
       " '7/10/19, 08:40 - Abdul-Azeez: <Media omitted>',\n",
       " '7/10/19, 08:40 - Abdul-Azeez: <Media omitted>',\n",
       " '7/10/19, 08:40 - Abdul-Azeez: <Media omitted>',\n",
       " '7/10/19, 08:40 - Abdul-Azeez: <Media omitted>',\n",
       " '7/10/19, 08:44 - AAO: Jazakallahu khairan',\n",
       " '7/10/19, 08:44 - Abdul-Azeez: Waiyakun',\n",
       " '7/10/19, 09:30 - AAO: <Media omitted>',\n",
       " '7/10/19, 09:30 - Abdul-Azeez: ✌',\n",
       " '7/10/19, 09:30 - Abdul-Azeez: You still dey house',\n",
       " '7/10/19, 09:30 - AAO: Yes but will leave soon',\n",
       " \"7/10/19, 09:31 - Abdul-Azeez: Alright sir. Let me know when you're about leaving\",\n",
       " '7/10/19, 09:31 - Abdul-Azeez: Venue??',\n",
       " '7/10/19, 09:38 - AAO: Jci noni',\n",
       " '7/10/19, 09:50 - AAO: Bro I Don comot',\n",
       " '7/10/19, 09:51 - Abdul-Azeez: Alright. We meet for jci then',\n",
       " '7/10/19, 14:48 - AAO: Scam scam',\n",
       " '7/10/19, 14:49 - Abdul-Azeez: Lol. No be sooo',\n",
       " \"7/10/19, 14:50 - Abdul-Azeez: I waited 2 long for you and I didn't see you\",\n",
       " '7/10/19, 14:50 - AAO: Of course',\n",
       " 'I saw you when you were coming to cbt center I was already seated',\n",
       " '7/10/19, 14:50 - AAO: Ready to be pass in for exam',\n",
       " '7/10/19, 14:50 - AAO: How was it?',\n",
       " '7/10/19, 14:51 - Abdul-Azeez: Toor',\n",
       " '7/10/19, 14:51 - Abdul-Azeez: Alhamdulilah 😢',\n",
       " '7/10/19, 14:51 - AAO: Lol it was good nah',\n",
       " '7/10/19, 14:52 - Abdul-Azeez: To you abi',\n",
       " '7/10/19, 14:52 - Abdul-Azeez: My own questions is from heaven',\n",
       " '7/10/19, 14:52 - Abdul-Azeez: Which hall u use',\n",
       " '7/10/19, 14:53 - AAO: Hall C',\n",
       " '7/10/19, 14:53 - AAO: Maybe',\n",
       " '7/10/19, 14:53 - Abdul-Azeez: I used D',\n",
       " '7/10/19, 14:54 - AAO: All I. All God will crown our efforts with success in sha Allah',\n",
       " '7/10/19, 14:54 - AAO: Start prep for data comm',\n",
       " '7/10/19, 14:55 - Abdul-Azeez: Amin',\n",
       " '7/10/19, 14:55 - Abdul-Azeez: Okay oo',\n",
       " '7/10/19, 15:07 - AAO: <Media omitted>',\n",
       " '7/10/19, 15:07 - AAO: <Media omitted>',\n",
       " '7/10/19, 16:13 - Abdul-Azeez: Thanks',\n",
       " '7/11/19, 19:29 - Abdul-Azeez: <Media omitted>',\n",
       " '7/11/19, 19:54 - AAO: Jazakallahu khairan',\n",
       " '7/11/19, 19:54 - Abdul-Azeez: Waiyakun',\n",
       " '7/12/19, 01:34 - AAO: Salaam alaikum bhai',\n",
       " '7/12/19, 01:34 - AAO: You do finish reading',\n",
       " '7/12/19, 01:35 - Abdul-Azeez: 😢',\n",
       " '7/12/19, 01:35 - Abdul-Azeez: Us no see what to read from the material fah',\n",
       " '7/12/19, 01:35 - Abdul-Azeez: I mean the new material',\n",
       " \"7/12/19, 01:35 - Abdul-Azeez: I'm off, wan sleep\",\n",
       " '7/12/19, 01:35 - AAO: Ohh okay I never start that one self',\n",
       " '7/12/19, 01:36 - AAO: Alright will join . You soon',\n",
       " '7/12/19, 01:36 - Abdul-Azeez: Ok',\n",
       " '7/12/19, 01:36 - Abdul-Azeez: Ok',\n",
       " '7/12/19, 06:12 - Abdul-Azeez: Salam Aleakun',\n",
       " '7/12/19, 11:54 - AAO: Wa alaikum Salaam',\n",
       " '7/12/19, 12:33 - Abdul-Azeez: How are you',\n",
       " '7/12/19, 21:53 - AAO: Alhamdullilah',\n",
       " '7/21/19, 08:47 - AAO: Asalam alaikum bro',\n",
       " 'How are you?',\n",
       " 'Do you know where I can get mtn welcome back sim',\n",
       " '7/21/19, 09:10 - Abdul-Azeez: Waleakun salam',\n",
       " '7/21/19, 09:10 - AAO: I be dey wait for your msg since',\n",
       " ' I no get data',\n",
       " '7/21/19, 09:10 - Abdul-Azeez: Mtn office sir',\n",
       " '7/21/19, 09:12 - AAO: Thanks catch you later I am managing my data',\n",
       " 'Happy reading',\n",
       " 'We get test tomorrow oo 8 am',\n",
       " '7/21/19, 09:12 - Abdul-Azeez: I was sleeping nio',\n",
       " '7/21/19, 09:12 - Abdul-Azeez: How are you',\n",
       " '7/21/19, 09:13 - Abdul-Azeez: Exam 🤪',\n",
       " '7/21/19, 09:14 - AAO: Am good',\n",
       " 'Sha bring my own btc money tomorrow I no want stories o',\n",
       " '7/21/19, 09:14 - AAO: Beta wake up and read',\n",
       " '7/21/19, 09:14 - Abdul-Azeez: 😂😂',\n",
       " '7/21/19, 09:14 - Abdul-Azeez: 🙌🙌',\n",
       " '7/22/19, 05:22 - Abdul-Azeez: Salam aleakun',\n",
       " '7/22/19, 10:13 - AAO: Wa alaikum Salaam waramatullah',\n",
       " '7/22/19, 10:14 - Abdul-Azeez: Where are you',\n",
       " '7/22/19, 10:15 - AAO: E library',\n",
       " '7/22/19, 10:15 - Abdul-Azeez: Scholar',\n",
       " '7/22/19, 10:15 - Abdul-Azeez: Doing what oo',\n",
       " '7/22/19, 10:16 - Abdul-Azeez: ??',\n",
       " '7/22/19, 10:17 - AAO: Helping a friend to finish his project',\n",
       " '7/22/19, 10:18 - Abdul-Azeez: Ok',\n",
       " '7/22/19, 10:18 - AAO: U nko?',\n",
       " '7/22/19, 10:19 - Abdul-Azeez: Gtb',\n",
       " '7/22/19, 10:19 - Abdul-Azeez: My acc was locked yesterday',\n",
       " '7/22/19, 10:19 - AAO: Haa why abi the money is tooooooo mucccchhh',\n",
       " '7/22/19, 10:20 - AAO: 😆',\n",
       " '7/22/19, 10:20 - Abdul-Azeez: 🙄🙄',\n",
       " \"7/22/19, 10:20 - Abdul-Azeez: I was told I received an amount of money I wasn't meant to receive\",\n",
       " '7/22/19, 10:21 - AAO: Haa okay',\n",
       " '7/22/19, 10:21 - AAO: How much',\n",
       " '7/22/19, 10:21 - Abdul-Azeez: Just a token jare',\n",
       " '7/22/19, 10:27 - AAO: 1mil abi',\n",
       " '7/25/19, 12:15 - AAO: <Media omitted>',\n",
       " '7/26/19, 04:45 - Abdul-Azeez: Jazakah Allah kaeran',\n",
       " '7/26/19, 04:45 - Abdul-Azeez: Good morning sir',\n",
       " '7/26/19, 06:46 - AAO: Good Morning',\n",
       " \"Jumm'ah Mubarak\",\n",
       " 'Asalam alaikum waramatullah',\n",
       " '7/26/19, 06:47 - Abdul-Azeez: Thanks',\n",
       " '7/26/19, 06:47 - Abdul-Azeez: How was your night',\n",
       " '7/26/19, 06:50 - AAO: Alhamdullilah it was short and stressful',\n",
       " '7/26/19, 06:50 - AAO: Am coming to school this morning for payment of binding stuff',\n",
       " '7/26/19, 06:50 - AAO: And clearance form',\n",
       " '7/26/19, 06:50 - Abdul-Azeez: Stressfull😳',\n",
       " '7/26/19, 06:51 - Abdul-Azeez: 🙌',\n",
       " '7/26/19, 06:52 - Abdul-Azeez: When are you entering school',\n",
       " '7/26/19, 06:53 - AAO: 8 8.30am',\n",
       " '7/26/19, 06:53 - Abdul-Azeez: You just made photocopy for the clearance form ni and sign it at the faculty',\n",
       " '7/26/19, 06:53 - AAO: Yea a close somebody was sick',\n",
       " '7/26/19, 06:53 - AAO: Okay with passport abi',\n",
       " '7/26/19, 06:54 - AAO: Have you paid',\n",
       " \"7/26/19, 06:54 - Abdul-Azeez: It need passport and I don't have\",\n",
       " '7/26/19, 06:54 - Abdul-Azeez: Nop',\n",
       " '7/26/19, 06:54 - Abdul-Azeez: Probably by next week',\n",
       " '7/26/19, 06:54 - AAO: I thought it will close or end tomorrow',\n",
       " '7/26/19, 06:55 - AAO: You will have to get faa',\n",
       " '7/26/19, 06:55 - Abdul-Azeez: Na 31st I hear o',\n",
       " \"7/26/19, 06:55 - Abdul-Azeez: Don't know where they get tomorrow on our group o\",\n",
       " \"7/26/19, 06:56 - AAO: Tor that why I don't want to mess with it\",\n",
       " '7/26/19, 06:56 - Abdul-Azeez: Ok',\n",
       " '7/26/19, 06:56 - Abdul-Azeez: I have the receipt for making payment already sha',\n",
       " '7/26/19, 06:57 - AAO: Haa and you have not paid',\n",
       " '7/26/19, 06:57 - Abdul-Azeez: Yh',\n",
       " '7/26/19, 06:58 - AAO: Scam',\n",
       " '7/26/19, 06:59 - Abdul-Azeez: Lol',\n",
       " '7/26/19, 06:59 - AAO: I am suspecting you',\n",
       " \"7/26/19, 06:59 - Abdul-Azeez: Will be paying when we have the time, we sha can't spill because of 2k\",\n",
       " '7/26/19, 06:59 - AAO: Of course',\n",
       " '7/26/19, 06:59 - Abdul-Azeez: That what oo',\n",
       " '7/26/19, 07:00 - Abdul-Azeez: Last last make then make it 3k',\n",
       " '7/26/19, 07:00 - AAO: Gc and BBC or btc will bring the money sha',\n",
       " '7/26/19, 07:00 - Abdul-Azeez: Scam',\n",
       " '7/26/19, 07:00 - AAO: How you get receipt without payment',\n",
       " '7/26/19, 07:00 - AAO: We gather dey',\n",
       " '7/26/19, 07:01 - Abdul-Azeez: I sent someone to collect it for me at the faculty',\n",
       " '7/26/19, 07:01 - AAO: Ohh okay',\n",
       " '7/26/19, 07:02 - AAO: When are you coming?',\n",
       " '7/26/19, 07:02 - Abdul-Azeez: Earlier',\n",
       " '7/26/19, 07:02 - Abdul-Azeez: Ha never read jare',\n",
       " '7/26/19, 07:03 - AAO: Alright when you arrive abeg call me',\n",
       " 'I wnt to finish prayer may God almighty accept and bless us all',\n",
       " '7/26/19, 07:03 - Abdul-Azeez: Amin',\n",
       " '7/26/19, 07:04 - Abdul-Azeez: Are u coming with phone',\n",
       " '7/26/19, 07:06 - Abdul-Azeez: Na 31st ooo',\n",
       " '7/26/19, 07:07 - Abdul-Azeez: <Media omitted>',\n",
       " '7/26/19, 07:32 - AAO: Yes and laptop self',\n",
       " '7/26/19, 07:33 - AAO: Alright maybe It trcn that is closing todah',\n",
       " '7/26/19, 07:44 - Abdul-Azeez: Where are you now',\n",
       " '7/26/19, 07:44 - Abdul-Azeez: About leaving here',\n",
       " '7/26/19, 07:49 - AAO: 20min from now but will have to visit the faculty before bank then settle to revise',\n",
       " '7/26/19, 07:57 - Abdul-Azeez: Scholar still dey revise',\n",
       " '7/26/19, 08:45 - AAO: I want to be like you nio',\n",
       " '7/26/19, 09:00 - Abdul-Azeez: Scam',\n",
       " '7/26/19, 09:00 - Abdul-Azeez: I dey e library',\n",
       " '7/26/19, 09:16 - AAO: Alright nah',\n",
       " '7/26/19, 09:20 - Abdul-Azeez: Where are you now',\n",
       " '7/26/19, 19:29 - AAO: In a car going home',\n",
       " '7/26/19, 20:05 - Abdul-Azeez: Lol',\n",
       " '7/26/19, 20:06 - Abdul-Azeez: Have sent this since morning na',\n",
       " '7/26/19, 20:37 - AAO: I no nah I dey pull your leg',\n",
       " 'Thanks for today',\n",
       " '7/26/19, 21:11 - Abdul-Azeez: Scam',\n",
       " '7/26/19, 21:12 - AAO: Sha send btc money abeg',\n",
       " '7/26/19, 21:15 - Abdul-Azeez: 😂',\n",
       " '7/26/19, 21:26 - AAO: Hello, excited to receive this message? Join us for another remarkable moment. ',\n",
       " \"Want to get started with Kotlin, but don't know where to begin? Join us for our Kotlin/Everywhere event.\",\n",
       " \"Together we'll work through several Android / Google Cloud / multi-platform labs. You will get hands-on experience with Kotlin in Android, multi-platform with Kotlin/Native, Google Cloud Platform and Kotlin/JS.\",\n",
       " 'Bring a laptop (PC, Mac or Chromebook). The labs will run on all of the latest versions of the popular browsers. For the best experience, make sure your laptop has Chrome or Firefox installed. Don’t forget your charger!',\n",
       " 'We have swags and refreshments for attendees. ',\n",
       " 'Venue: Malhub, House 6, Agbadam Link Road, Along Water View Junction, GRA Ilorin (Call Raheemat for description +2348161766376) ',\n",
       " 'Time: 10am prompt (Labs session start immediately after accreditation) ',\n",
       " 'Date: Saturday 27th, July 2019 ',\n",
       " '#GDGIlorin #KotlinEverywhere',\n",
       " '7/26/19, 21:26 - AAO: You go attend',\n",
       " '7/26/19, 21:27 - Abdul-Azeez: Lol',\n",
       " '7/26/19, 21:27 - Abdul-Azeez: Will try sir',\n",
       " '7/26/19, 21:27 - AAO: Alright me too wants to try sha',\n",
       " '7/27/19, 08:08 - Abdul-Azeez: Ok',\n",
       " '7/27/19, 08:08 - Abdul-Azeez: <Media omitted>',\n",
       " '7/27/19, 08:08 - Abdul-Azeez: <Media omitted>',\n",
       " '7/27/19, 08:08 - Abdul-Azeez: <Media omitted>',\n",
       " '7/27/19, 08:08 - Abdul-Azeez: <Media omitted>',\n",
       " '7/27/19, 08:08 - Abdul-Azeez: <Media omitted>',\n",
       " '7/27/19, 08:08 - Abdul-Azeez: <Media omitted>',\n",
       " '7/27/19, 08:08 - Abdul-Azeez: <Media omitted>',\n",
       " '7/27/19, 08:08 - Abdul-Azeez: <Media omitted>',\n",
       " '7/27/19, 08:08 - Abdul-Azeez: <Media omitted>',\n",
       " '7/27/19, 08:08 - Abdul-Azeez: <Media omitted>',\n",
       " '7/27/19, 08:10 - AAO: <Media omitted>',\n",
       " '7/27/19, 08:10 - AAO: Eshe o',\n",
       " '7/27/19, 08:11 - AAO: Just board a cab going to challenge after you alight at the bus stop, take a cap going to GRA then alight at Agba-dam link road water view Junction. You can beep me or after alighting at the Junction just walk a bit down you will see a mosque by the left hand side of the road. You will see a notice board in which mustapha Akanbi library is written on',\n",
       " \"7/27/19, 08:11 - AAO: That's how you get to\",\n",
       " '7/27/19, 08:12 - Abdul-Azeez: Ok sir',\n",
       " \"7/27/19, 08:14 - Abdul-Azeez: So it's today\",\n",
       " '7/27/19, 08:18 - AAO: Yes nah',\n",
       " '7/27/19, 08:19 - AAO: 10 after environmental sanitation',\n",
       " '7/27/19, 08:47 - Abdul-Azeez: Ok',\n",
       " '7/27/19, 14:48 - Abdul-Azeez: <Media omitted>',\n",
       " '7/27/19, 14:48 - Abdul-Azeez: <Media omitted>',\n",
       " '7/27/19, 14:48 - Abdul-Azeez: <Media omitted>',\n",
       " '7/27/19, 14:48 - Abdul-Azeez: <Media omitted>',\n",
       " '7/27/19, 14:48 - Abdul-Azeez: <Media omitted>',\n",
       " '7/27/19, 14:48 - Abdul-Azeez: <Media omitted>',\n",
       " '7/27/19, 14:48 - Abdul-Azeez: <Media omitted>',\n",
       " '7/27/19, 14:48 - Abdul-Azeez: <Media omitted>',\n",
       " '7/27/19, 14:48 - Abdul-Azeez: <Media omitted>',\n",
       " '7/27/19, 18:34 - AAO: Thanks man for everything',\n",
       " '7/28/19, 07:44 - Abdul-Azeez: Lol',\n",
       " '8/5/19, 19:56 - AAO: Asalam alaikum bro',\n",
       " 'Please can you send me the chapter 4 you are using to do your own',\n",
       " '8/5/19, 20:25 - Abdul-Azeez: Maybe when I get home sha',\n",
       " '8/5/19, 20:49 - AAO: Okay',\n",
       " '9/13/19, 12:55 - AAO: Asalam alaikum bro',\n",
       " 'Congratulations more blessings in sha Allah',\n",
       " '9/13/19, 13:10 - Abdul-Azeez: Amin oo',\n",
       " '9/13/19, 13:10 - Abdul-Azeez: How are u',\n",
       " \"9/13/19, 15:39 - AAO: Alhamdullilah am fine jumm'ah Mubarak\",\n",
       " 'How are you too',\n",
       " \"9/13/19, 15:47 - Abdul-Azeez: I'm good o\",\n",
       " '9/13/19, 16:20 - AAO: How is business?',\n",
       " '9/13/19, 16:34 - Abdul-Azeez: Alhamdulilah. We thanks God',\n",
       " \"9/13/19, 17:10 - AAO: Na'am\",\n",
       " '9/23/19, 16:24 - AAO: Mr. Money Alh money Prof Money',\n",
       " 'Give me money nah',\n",
       " '9/23/19, 17:00 - Abdul-Azeez: Na you o🙌',\n",
       " '9/23/19, 17:04 - AAO: Be boboing me o',\n",
       " '9/23/19, 17:07 - Abdul-Azeez: Me keh',\n",
       " '9/23/19, 17:07 - Abdul-Azeez: 🙌🙌',\n",
       " '9/23/19, 17:09 - AAO: Issokay oo',\n",
       " 'Accountant never start signing you can still be chilling where you are',\n",
       " '9/23/19, 17:11 - Abdul-Azeez: Which accountant',\n",
       " '9/23/19, 17:11 - AAO: Ohh faculty',\n",
       " '9/23/19, 17:12 - Abdul-Azeez: Ok. Thanks',\n",
       " '9/27/19, 07:27 - AAO: *Suratul Faatiha* protects one from the anger of *Allah.*',\n",
       " '*Surah Yaseen* protects one from the thirst of the Day of Judgment',\n",
       " \"*Suratul Waaqi'ah* protects one from poverty and starvation.\",\n",
       " '*Surah Mulk* protects one from the punishment of the grave.',\n",
       " '*Suratul Kauthar* protects one from the enmity of the enemy.',\n",
       " '*Suratul Kaafiroon* protects one from kufr at the time of death.',\n",
       " '*Suratul Ikhlaas* protects one from hypocrisy',\n",
       " '*Suratul Falaq* protects one from calamities.',\n",
       " '*Suratul Naas* protects one from evil thoughts.',\n",
       " '*Advice*',\n",
       " 'Do not share later. Share it now.',\n",
       " 'May Allah grant success to every one who reads it and sends it. *Ameen*',\n",
       " '9/28/19, 19:21 - AAO: You deleted this message',\n",
       " '9/30/19, 15:25 - AAO: Asalam alaikum waramatullah bro',\n",
       " 'How far you don return',\n",
       " '9/30/19, 15:26 - AAO: I want to ask about bitcoin nio',\n",
       " 'How far the money dey come',\n",
       " '10/1/19, 08:18 - AAO: Bro Good Morning',\n",
       " 'Asalam alaikum waramatullah',\n",
       " '10/1/19, 09:09 - Abdul-Azeez: Yes',\n",
       " '10/1/19, 09:09 - Abdul-Azeez: Waleakun salam',\n",
       " '10/1/19, 09:10 - AAO: How far with bitcoin',\n",
       " 'I was thinking maybe you can fill me in on how things are',\n",
       " \"10/1/19, 09:10 - AAO: I want to do bitcoin I don't market sells I don't know\",\n",
       " \"10/1/19, 09:10 - Abdul-Azeez: Ok. That's when we see o\",\n",
       " '10/1/19, 09:20 - AAO: Aight no problem',\n",
       " '10/1/19, 09:20 - AAO: When are you coming to school',\n",
       " '10/1/19, 09:20 - Abdul-Azeez: Yh',\n",
       " '10/1/19, 09:20 - Abdul-Azeez: Till next week',\n",
       " '10/1/19, 09:21 - Abdul-Azeez: I came to submit to hods office yesterday and the asked me to come next week for it',\n",
       " '10/1/19, 09:21 - AAO: Ohh okay no problems then',\n",
       " '10/1/19, 09:22 - Abdul-Azeez: Yh',\n",
       " '10/10/19, 09:02 - AAO: Asalam alaikum bro',\n",
       " 'You coming to school today',\n",
       " '10/10/19, 09:02 - Abdul-Azeez: Waleakun Salam bruh',\n",
       " '10/10/19, 09:03 - AAO: This',\n",
       " '10/10/19, 09:05 - Abdul-Azeez: I should bruh',\n",
       " '10/10/19, 09:06 - AAO: Okay see you then',\n",
       " '10/10/19, 09:07 - AAO: Will text you when I arrive',\n",
       " '10/10/19, 09:08 - Abdul-Azeez: What time are you coming',\n",
       " '10/10/19, 12:01 - Abdul-Azeez: Missed voice call',\n",
       " '10/10/19, 15:43 - AAO: I no later see you',\n",
       " '10/10/19, 12:01 - Abdul-Azeez: Missed voice call',\n",
       " '10/10/19, 12:01 - Abdul-Azeez: Where are you',\n",
       " '10/10/19, 16:55 - Abdul-Azeez: <Media omitted>',\n",
       " '10/10/19, 16:55 - Abdul-Azeez: Don make me vex fah',\n",
       " \"10/10/19, 16:56 - Abdul-Azeez: I check the entire nedlt, department, workshop, even faculty canopy I couldn't find you\",\n",
       " '10/10/19, 16:57 - Abdul-Azeez: I waited at the department alot under the canopy and also the place where we do use wifi inside the department',\n",
       " '10/11/19, 15:30 - AAO: Ohh sorry',\n",
       " '10/11/19, 15:30 - AAO: But what time do you arrive at school',\n",
       " '10/11/19, 15:33 - AAO: So sorry walai some shit happen so I had to live early so sorry',\n",
       " '10/11/19, 17:31 - AAO: Baba',\n",
       " '10/11/19, 17:32 - Abdul-Azeez: Ok',\n",
       " '10/11/19, 17:32 - Abdul-Azeez: Good evening',\n",
       " '10/11/19, 17:32 - AAO: Good evening',\n",
       " '10/11/19, 17:32 - AAO: How far with clearance were you able to collect it?',\n",
       " '10/11/19, 17:33 - Abdul-Azeez: Not sign yet',\n",
       " '10/11/19, 17:53 - AAO: Wow',\n",
       " 'you don get where you go serve?',\n",
       " '10/11/19, 17:57 - Abdul-Azeez: Lol. No joor',\n",
       " '10/11/19, 17:59 - AAO: Haa me self still dey find',\n",
       " '10/11/19, 18:00 - Abdul-Azeez: Okay ma',\n",
       " '10/11/19, 18:00 - AAO: Where you wan choose for nysc',\n",
       " '10/11/19, 18:00 - Abdul-Azeez: Ebo land nio',\n",
       " '10/11/19, 18:01 - AAO: Haaa what happen',\n",
       " '10/11/19, 18:02 - Abdul-Azeez: <Media omitted>',\n",
       " '10/11/19, 18:07 - AAO: Lol 😂 issokay',\n",
       " 'Me I want Lagos sha',\n",
       " '10/11/19, 19:41 - Abdul-Azeez: <Media omitted>',\n",
       " '10/11/19, 22:04 - AAO: What',\n",
       " '10/11/19, 22:04 - Abdul-Azeez: Lagos bawo',\n",
       " '10/11/19, 22:06 - AAO: I hear say we fit go industries instead of teaching',\n",
       " '10/12/19, 05:00 - Abdul-Azeez: Whao!! How?',\n",
       " '10/12/19, 07:12 - AAO: Like you can apply to a company before posting so you only take care of your deployment that is you have to be posted to the state where the company is located',\n",
       " '10/12/19, 07:17 - Abdul-Azeez: Oook',\n",
       " '10/14/19, 11:52 - Abdul-Azeez: Salam',\n",
       " '10/14/19, 11:55 - AAO: Wa alaikum Salaam waramatullah bro',\n",
       " '10/14/19, 11:55 - Abdul-Azeez: How are you',\n",
       " '10/14/19, 11:56 - AAO: Alhamdullilah am very well',\n",
       " '10/14/19, 11:56 - AAO: How are you and business',\n",
       " '10/14/19, 11:56 - AAO: Looks to be blooming',\n",
       " '10/14/19, 11:56 - Abdul-Azeez: We thanks Allah',\n",
       " '10/14/19, 11:56 - Abdul-Azeez: What of you',\n",
       " '10/14/19, 11:56 - Abdul-Azeez: Lol',\n",
       " '10/14/19, 11:56 - AAO: Am grateful o',\n",
       " '10/14/19, 11:56 - Abdul-Azeez: Good',\n",
       " '10/14/19, 11:57 - AAO: Abi nah',\n",
       " '10/14/19, 11:57 - Abdul-Azeez: Are you in school',\n",
       " '10/14/19, 11:57 - AAO: No am not I want to come on Wednesday though',\n",
       " '10/14/19, 11:58 - Abdul-Azeez: Aiit',\n",
       " '10/14/19, 12:00 - AAO: Okay you have collected your clearance abi',\n",
       " '10/14/19, 12:01 - Abdul-Azeez: Noo',\n",
       " \"10/14/19, 12:01 - Abdul-Azeez: She haven't sign yet\",\n",
       " '10/14/19, 12:01 - AAO: Haa what exactly is her problem bayii',\n",
       " '10/14/19, 12:04 - Abdul-Azeez: I dont even know for her',\n",
       " \"10/14/19, 12:04 - Abdul-Azeez: And she's coming the office everyday\",\n",
       " '10/14/19, 12:05 - AAO: Just sign faa maybe you should pray o',\n",
       " \"10/14/19, 12:05 - Abdul-Azeez: That's how they do oo\",\n",
       " '10/14/19, 12:05 - Abdul-Azeez: Stupid people',\n",
       " '10/14/19, 12:06 - AAO: Lol easy o',\n",
       " 'She can hack whatsapp o 😂',\n",
       " '10/14/19, 12:08 - Abdul-Azeez: 🤣🤣',\n",
       " '10/14/19, 12:08 - Abdul-Azeez: Okay na',\n",
       " '10/16/19, 08:37 - AAO: You go enter school what time?',\n",
       " '10/16/19, 08:41 - Abdul-Azeez: Around 10',\n",
       " '10/16/19, 08:42 - AAO: Okay see you then dept ba?',\n",
       " '10/16/19, 08:42 - Abdul-Azeez: Faculty',\n",
       " '10/16/19, 08:42 - AAO: Alright',\n",
       " '10/16/19, 08:42 - Abdul-Azeez: For my clearance form',\n",
       " \"10/16/19, 08:42 - AAO: Okay what of the NYSC I'd card\",\n",
       " '10/16/19, 08:42 - Abdul-Azeez: Send your number that will be available oo',\n",
       " '10/16/19, 08:42 - AAO: 08143361880',\n",
       " '10/16/19, 08:43 - Abdul-Azeez: I came for it yesterday that when saw the clearance form',\n",
       " '10/16/19, 08:43 - Abdul-Azeez: Glo noo',\n",
       " '10/16/19, 08:43 - Abdul-Azeez: Nko',\n",
       " '10/16/19, 08:44 - AAO: 0805 472 0349',\n",
       " '10/16/19, 08:46 - Abdul-Azeez: Kk',\n",
       " '10/16/19, 08:46 - Abdul-Azeez: What time are you going',\n",
       " '10/16/19, 08:50 - AAO: I go reach 10 max in sha Allah',\n",
       " '10/16/19, 08:50 - Abdul-Azeez: This message was deleted',\n",
       " '10/16/19, 10:36 - AAO: How far where you?',\n",
       " '10/16/19, 10:37 - Abdul-Azeez: School gate',\n",
       " '10/16/19, 10:37 - Abdul-Azeez: Where are you',\n",
       " '10/16/19, 10:38 - AAO: Dept',\n",
       " '10/16/19, 10:38 - Abdul-Azeez: Okay',\n",
       " '10/16/19, 10:39 - Abdul-Azeez: Will you come to the faculty or I should come dia',\n",
       " '10/16/19, 10:40 - AAO: I will come once I collect d ID card',\n",
       " '10/16/19, 10:40 - Abdul-Azeez: Ok',\n",
       " '10/16/19, 10:40 - AAO: Shebi nah hod office',\n",
       " '10/16/19, 10:40 - Abdul-Azeez: Message before you leave',\n",
       " '10/16/19, 10:40 - Abdul-Azeez: Yh',\n",
       " '10/16/19, 10:41 - AAO: I no get',\n",
       " '10/16/19, 10:43 - Abdul-Azeez: <Media omitted>',\n",
       " '10/16/19, 10:43 - AAO: Okay no problem',\n",
       " '10/16/19, 10:49 - AAO: Am leaving for faculty now',\n",
       " '10/16/19, 10:51 - Abdul-Azeez: Okay',\n",
       " \"10/16/19, 10:52 - Abdul-Azeez: I'm inside the faculty already\",\n",
       " '10/22/19, 06:43 - Abdul-Azeez: Salam',\n",
       " '10/22/19, 07:22 - AAO: Wa alaikum Salaam waramatullah',\n",
       " '10/22/19, 07:30 - Abdul-Azeez: <Media omitted>',\n",
       " '10/22/19, 07:31 - AAO: I still dey house am preparing for school',\n",
       " '10/22/19, 07:31 - AAO: How far you don reg',\n",
       " '10/22/19, 07:33 - Abdul-Azeez: Yh',\n",
       " '10/22/19, 07:33 - Abdul-Azeez: <Media omitted>',\n",
       " '10/22/19, 07:35 - AAO: <Media omitted>',\n",
       " '10/22/19, 07:37 - Abdul-Azeez: <Media omitted>',\n",
       " \"10/22/19, 07:43 - AAO: I don't think they are collecting money it guarantor this time, you need a Form that you will give your guarantor who will fill it and you will photo copy your guarantor ID card then give it to faculty to stamp then you bring it to dept for gown collection\",\n",
       " '10/22/19, 07:48 - Abdul-Azeez: They are collecting money in other faculty',\n",
       " \"10/22/19, 08:10 - AAO: Tor I don't know but yesterday for school dem no collect o\",\n",
       " '10/22/19, 08:12 - Abdul-Azeez: Ahhh',\n",
       " '10/22/19, 08:12 - Abdul-Azeez: <Media omitted>',\n",
       " '10/22/19, 08:17 - AAO: I dey come',\n",
       " '10/22/19, 08:36 - Abdul-Azeez: Ok',\n",
       " '10/23/19, 15:04 - Abdul-Azeez: <Media omitted>',\n",
       " '10/23/19, 15:04 - Abdul-Azeez: <Media omitted>',\n",
       " '10/23/19, 15:49 - AAO: Thanks',\n",
       " '11/6/19, 06:34 - AAO: Baba where dem carry you go',\n",
       " '11/6/19, 06:35 - Abdul-Azeez: <Media omitted>',\n",
       " '11/6/19, 06:36 - AAO: Sorry oo',\n",
       " '11/6/19, 06:36 - AAO: I dey Osun',\n",
       " '11/6/19, 06:36 - Abdul-Azeez: 🙆\\u200d♂',\n",
       " \"11/6/19, 06:36 - Abdul-Azeez: You're lucky fah\",\n",
       " '11/6/19, 06:37 - AAO: Abi nah',\n",
       " '11/6/19, 06:37 - AAO: Where you dey go gan gan',\n",
       " '11/6/19, 08:10 - Abdul-Azeez: Bayelsa',\n",
       " '11/6/19, 15:00 - AAO: Haaa Bayel what you go redeploy?',\n",
       " '11/6/19, 16:09 - Abdul-Azeez: <Media omitted>',\n",
       " '11/6/19, 19:53 - AAO: You go relate well for came ni ask people wey Sabi people',\n",
       " 'God go make am easy',\n",
       " '11/6/19, 20:08 - Abdul-Azeez: Amin',\n",
       " '11/7/19, 15:39 - AAO: Tired somebody',\n",
       " '11/7/19, 15:41 - Abdul-Azeez: Lol. Abi nah',\n",
       " '11/7/19, 15:41 - Abdul-Azeez: How swearing in for fat side',\n",
       " '11/7/19, 15:42 - AAO: Guy swearing in nah sun beat every body oo',\n",
       " '11/7/19, 15:42 - AAO: We dey chop amala now',\n",
       " '11/7/19, 16:09 - Abdul-Azeez: 🤣🤣',\n",
       " '11/7/19, 16:09 - Abdul-Azeez: No be only there',\n",
       " '11/7/19, 16:09 - Abdul-Azeez: There no different between morning and afternoon here',\n",
       " '11/7/19, 18:10 - AAO: Haa sorry oo',\n",
       " '11/7/19, 18:11 - AAO: He go better',\n",
       " '11/7/19, 18:12 - Abdul-Azeez: Amin',\n",
       " '11/7/19, 18:14 - AAO: How far nah you be platoon leader',\n",
       " '11/7/19, 18:14 - Abdul-Azeez: 🤣🤣🤣',\n",
       " '11/7/19, 18:14 - Abdul-Azeez: Platoon leader keh',\n",
       " '11/7/19, 18:14 - Abdul-Azeez: The new allowance payment has been approved here oo',\n",
       " '11/7/19, 18:15 - AAO: Haa we still dey wait for the news o',\n",
       " '11/7/19, 18:15 - Abdul-Azeez: Okay',\n",
       " '11/7/19, 18:15 - Abdul-Azeez: Aiit na',\n",
       " '11/7/19, 18:15 - AAO: Which post you com carry',\n",
       " '11/7/19, 18:15 - Abdul-Azeez: You dey hear from farouq??',\n",
       " '11/7/19, 18:15 - AAO: Nah I just dey my side ni i',\n",
       " \"11/7/19, 18:15 - Abdul-Azeez: I'm not doing anything fah\",\n",
       " '11/7/19, 18:15 - Abdul-Azeez: What of you',\n",
       " '11/7/19, 18:15 - Abdul-Azeez: Okay',\n",
       " '11/7/19, 18:16 - AAO: Am the most present OBSERVER',\n",
       " '11/7/19, 18:16 - Abdul-Azeez: Lol.. dont get',\n",
       " '11/7/19, 18:16 - Abdul-Azeez: Send voice note',\n",
       " '11/7/19, 18:16 - Abdul-Azeez: Which work are they doing?',\n",
       " '11/7/19, 18:16 - AAO: <Media omitted>',\n",
       " '11/7/19, 18:27 - AAO: Abeg when you receive Dat money let do 50 50 as per say we be blooders.',\n",
       " '11/7/19, 19:11 - Abdul-Azeez: <Media omitted>',\n",
       " '11/7/19, 19:26 - AAO: 😂 He go beta',\n",
       " '11/7/19, 19:37 - Abdul-Azeez: Amin',\n",
       " '11/26/19, 14:12 - AAO: Asalam alaikum waramatullah bro',\n",
       " '11/26/19, 14:12 - AAO: How are you doing',\n",
       " '11/26/19, 14:12 - AAO: It been long fa',\n",
       " '11/26/19, 14:13 - AAO: How is posting',\n",
       " 'Or redeployment',\n",
       " '11/26/19, 14:23 - Abdul-Azeez: Posting ni oo',\n",
       " '11/26/19, 14:24 - Abdul-Azeez: Na bayelsa capital I dey',\n",
       " '11/26/19, 14:29 - AAO: Ohh wow',\n",
       " '11/26/19, 14:29 - AAO: Which part',\n",
       " '11/26/19, 14:33 - Abdul-Azeez: Yenagoa',\n",
       " '11/26/19, 15:59 - AAO: Are you also in school',\n",
       " '12/14/19, 17:18 - AAO: Fine boy',\n",
       " '12/14/19, 17:37 - Abdul-Azeez: Daddy',\n",
       " '12/14/19, 17:44 - AAO: How are you doing?',\n",
       " '12/14/19, 17:58 - Abdul-Azeez: Good and you',\n",
       " '12/14/19, 19:39 - AAO: Same bro',\n",
       " '12/15/19, 15:23 - Abdul-Azeez: Ok',\n",
       " '12/15/19, 15:24 - AAO: How is life nah',\n",
       " '12/15/19, 15:25 - AAO: Haa e don Tey o',\n",
       " '12/15/19, 15:25 - Abdul-Azeez: Coping oo😢',\n",
       " '12/15/19, 15:25 - Abdul-Azeez: Lol',\n",
       " '12/15/19, 15:26 - AAO: , you get money nah no worries',\n",
       " '12/15/19, 15:26 - AAO: When you dey resume for ppa',\n",
       " '12/15/19, 15:27 - Abdul-Azeez: 2nd and u',\n",
       " '12/15/19, 15:27 - AAO: I sha no it January I never get date sha',\n",
       " '12/15/19, 15:28 - Abdul-Azeez: aiit',\n",
       " '12/15/19, 15:28 - AAO: You in your home town bah',\n",
       " '12/15/19, 15:29 - Abdul-Azeez: Hostel',\n",
       " '12/15/19, 15:30 - AAO: In kwara',\n",
       " '12/15/19, 15:30 - Abdul-Azeez: Yh',\n",
       " '12/15/19, 15:31 - AAO: Ohh okay enjoy',\n",
       " '12/15/19, 15:32 - Abdul-Azeez: What of you',\n",
       " '12/15/19, 15:32 - AAO: In my house in kwara',\n",
       " '12/25/19, 14:18 - AAO: Baba',\n",
       " 'How far',\n",
       " '12/25/19, 14:19 - AAO: You Sabi person for redeployment issues',\n",
       " '12/25/19, 15:00 - Abdul-Azeez: I fine bruh',\n",
       " '12/25/19, 15:00 - Abdul-Azeez: Shey you wan do ni',\n",
       " '12/25/19, 18:26 - AAO: I get person wey wan do ni',\n",
       " '12/25/19, 18:26 - AAO: Help me oo',\n",
       " '12/25/19, 18:30 - Abdul-Azeez: Na 35k my sister did her own',\n",
       " '12/25/19, 18:34 - AAO: Kai',\n",
       " '12/25/19, 18:36 - Abdul-Azeez: Walai',\n",
       " '12/25/19, 18:38 - AAO: Tor',\n",
       " '12/25/19, 18:38 - AAO: But it sure sha',\n",
       " '12/25/19, 18:39 - Abdul-Azeez: Yeah',\n",
       " '12/25/19, 18:39 - Abdul-Azeez: Shes now in Osun',\n",
       " '12/25/19, 19:23 - AAO: Ohh wow nice',\n",
       " '12/25/19, 19:23 - AAO: So how do I go about it',\n",
       " '12/25/19, 19:24 - Abdul-Azeez: You will have to contact the person in charge nio',\n",
       " '12/25/19, 19:24 - Abdul-Azeez: He will tell you all what will be required',\n",
       " '12/25/19, 19:25 - AAO: Okay',\n",
       " '12/25/19, 19:25 - AAO: Oya send me the number',\n",
       " '12/25/19, 19:45 - Abdul-Azeez: I will just ask for it ni, I dont have it',\n",
       " '12/25/19, 19:46 - AAO: Alright nah',\n",
       " 'Thanks',\n",
       " '12/25/19, 22:10 - Abdul-Azeez: Paul.vcf (file attached)',\n",
       " '12/25/19, 22:10 - Abdul-Azeez: That his number',\n",
       " '12/25/19, 23:47 - AAO: Okay thanks',\n",
       " '12/25/19, 23:47 - AAO: Jazakallahu khairan',\n",
       " '12/26/19, 10:06 - AAO: How should I introduce myself',\n",
       " 'I mean am I supposed to say I got your number from SOS sos',\n",
       " '12/26/19, 10:35 - Abdul-Azeez: Let me ask her',\n",
       " '12/26/19, 10:42 - AAO: OK thanks',\n",
       " '12/26/19, 10:50 - Abdul-Azeez: Tell him from mariam',\n",
       " '12/26/19, 10:52 - AAO: Okay',\n",
       " '1/11/20, 18:14 - AAO: 😂 😂',\n",
       " 'For real',\n",
       " '1/11/20, 18:21 - Abdul-Azeez: Yes sir',\n",
       " '1/11/20, 18:22 - Abdul-Azeez: <Media omitted>',\n",
       " '1/11/20, 18:27 - AAO: 😂 😂 The money dey come',\n",
       " '1/11/20, 18:27 - AAO: How far',\n",
       " '1/11/20, 18:27 - AAO: How service nah?',\n",
       " '1/11/20, 18:29 - Abdul-Azeez: Ha don redeploy ooo, just to change the state left',\n",
       " '1/11/20, 18:33 - AAO: Oya oo',\n",
       " 'So which state you dey go',\n",
       " '1/11/20, 18:37 - Abdul-Azeez: Oyo State',\n",
       " '1/11/20, 18:37 - Abdul-Azeez: Ibadan',\n",
       " '1/11/20, 19:11 - AAO: Nice best of luck bro',\n",
       " '1/11/20, 19:17 - Abdul-Azeez: Thanks man',\n",
       " '1/11/20, 19:17 - Abdul-Azeez: What of you',\n",
       " '1/11/20, 19:17 - Abdul-Azeez: Where are you now',\n",
       " '1/11/20, 19:34 - AAO: Osun noni',\n",
       " '1/11/20, 19:35 - Abdul-Azeez: Where are you now posted for your ppa',\n",
       " '1/11/20, 19:35 - AAO: Ministry of Education Osogbo',\n",
       " '1/11/20, 19:36 - Abdul-Azeez: Really',\n",
       " '1/11/20, 19:36 - Abdul-Azeez: You get mouth ooo',\n",
       " '1/11/20, 19:36 - Abdul-Azeez: 🙌🏾🙌🏾🙌🏾🙌🏾',\n",
       " '1/11/20, 19:36 - AAO: Ehn mouth ke nah God o',\n",
       " '1/11/20, 19:37 - AAO: So you dey wait for confirmation for redeployment bayii',\n",
       " '1/11/20, 19:37 - Abdul-Azeez: Yes sir',\n",
       " '1/11/20, 19:38 - AAO: Tor',\n",
       " '1/11/20, 19:38 - AAO: Sha keep growing',\n",
       " '1/11/20, 19:39 - Abdul-Azeez: No Dey whine me na',\n",
       " '1/11/20, 19:41 - AAO: Nah prayer',\n",
       " '1/11/20, 19:41 - Abdul-Azeez: Amin🙏🏼🙏🏼🙏🏼',\n",
       " '1/12/20, 20:57 - AAO: Mad oo',\n",
       " '1/12/20, 20:58 - Abdul-Azeez: 😂',\n",
       " '2/1/20, 11:00 - AAO: Fine boy',\n",
       " '2/1/20, 11:00 - Abdul-Azeez: Na you oo',\n",
       " '2/1/20, 11:02 - AAO: Me dey learn',\n",
       " '2/1/20, 14:45 - Abdul-Azeez: How are you',\n",
       " '2/1/20, 14:46 - AAO: Am good alhamdullilah',\n",
       " '2/1/20, 14:46 - AAO: Looks like life is going well over 8',\n",
       " '2/1/20, 14:46 - AAO: There',\n",
       " '2/1/20, 14:47 - Abdul-Azeez: We thank God',\n",
       " '2/1/20, 14:47 - AAO: Na so',\n",
       " '2/1/20, 15:01 - Abdul-Azeez: Na you oo',\n",
       " '2/1/20, 15:42 - Abdul-Azeez: That’s the name of that your watch wey you buy then ?',\n",
       " '2/1/20, 15:42 - Abdul-Azeez: The digital white rubber watch',\n",
       " '2/1/20, 15:54 - AAO: I Don forget',\n",
       " 'Android smart watch',\n",
       " '2/1/20, 15:55 - Abdul-Azeez: Ok',\n",
       " '3/8/20, 19:54 - AAO: Money',\n",
       " 'Asalam alaikum waramatullah bro',\n",
       " '3/8/20, 19:54 - AAO: How are you doing',\n",
       " '3/8/20, 19:56 - Abdul-Azeez: Fine sir, what about you',\n",
       " '3/8/20, 20:31 - AAO: Alhamdullilah ROBIL halamin am good too',\n",
       " '3/8/20, 20:31 - AAO: How is the service going',\n",
       " '3/8/20, 20:40 - Abdul-Azeez: Alhamdulilah my brother and you',\n",
       " '3/8/20, 20:50 - AAO: Same alhamdullilah',\n",
       " '3/8/20, 20:51 - Abdul-Azeez: Good to hear',\n",
       " '3/8/20, 20:51 - Abdul-Azeez: How osun state',\n",
       " '3/8/20, 20:54 - AAO: Walai it good oo',\n",
       " '3/8/20, 20:54 - AAO: How is Ibadan?',\n",
       " '3/8/20, 20:54 - Abdul-Azeez: I love the compliment',\n",
       " '3/8/20, 20:54 - Abdul-Azeez: My state is good na 😂',\n",
       " '3/8/20, 20:54 - AAO: How is the bitcoin',\n",
       " '3/8/20, 20:54 - Abdul-Azeez: Alhamdulilah',\n",
       " '3/8/20, 20:54 - Abdul-Azeez: Leaving for camp tomorrow',\n",
       " '3/8/20, 20:54 - Abdul-Azeez: Going smoothly',\n",
       " '3/8/20, 20:54 - AAO: Which camp',\n",
       " '3/8/20, 20:55 - AAO: Alhamdullilah',\n",
       " '3/8/20, 20:59 - Abdul-Azeez: Osun state camp na',\n",
       " '3/8/20, 20:59 - Abdul-Azeez: Oyo State camp rather',\n",
       " '3/8/20, 21:00 - AAO: Ohh',\n",
       " '3/8/20, 21:01 - AAO: This part is not clear',\n",
       " 'Are you going to camp again?',\n",
       " '3/8/20, 21:08 - Abdul-Azeez: As ICT staff for biometric verifications in Oyo State camp',\n",
       " '3/8/20, 21:08 - Abdul-Azeez: The camp is opening on tue',\n",
       " '3/8/20, 22:13 - AAO: Ohh wow',\n",
       " 'Nice man',\n",
       " 'Nah you be the real Corp member',\n",
       " '3/8/20, 22:16 - Abdul-Azeez: Lol',\n",
       " '3/8/20, 22:16 - Abdul-Azeez: Scam',\n",
       " '3/8/20, 22:17 - AAO: 😂 Dey enjoy jare',\n",
       " '3/8/20, 22:19 - Abdul-Azeez: <Media omitted>',\n",
       " '3/19/20, 09:52 - AAO: Corona dey oo',\n",
       " '3/19/20, 09:52 - Abdul-Azeez: <Media omitted>',\n",
       " '3/19/20, 09:52 - Abdul-Azeez: Scam',\n",
       " '3/19/20, 09:55 - AAO: I Don tell you sha',\n",
       " 'No come. My DM oo abeg dem fit send Corona on whatsapp',\n",
       " '3/19/20, 09:55 - Abdul-Azeez: <Media omitted>',\n",
       " '3/19/20, 09:55 - Abdul-Azeez: Okay na',\n",
       " '3/19/20, 09:58 - AAO: You don return from camp ba h?',\n",
       " '3/19/20, 09:59 - Abdul-Azeez: I camp back Thursday evening after registration',\n",
       " '3/19/20, 10:09 - AAO: Tor stay safe bro',\n",
       " '4/24/20, 03:08 - AAO: Ramadan Kareem',\n",
       " '4/24/20, 04:37 - Abdul-Azeez: Thank you sir',\n",
       " '5/10/20, 04:58 - AAO: Daddy how far',\n",
       " '5/10/20, 04:59 - Abdul-Azeez: Morning sir',\n",
       " '5/10/20, 05:00 - AAO: Good Morning oo',\n",
       " '5/10/20, 05:02 - Abdul-Azeez: How was your night and how is Ramadan going',\n",
       " '5/10/20, 05:03 - AAO: Alhamdullilah night was good',\n",
       " 'Ramadan alhamdullilah it been awesome',\n",
       " '5/10/20, 05:04 - Abdul-Azeez: Good to hear',\n",
       " '5/10/20, 05:04 - AAO: How about you',\n",
       " '5/10/20, 05:04 - Abdul-Azeez: May Almighty Allah accept it as an act of Ibadah',\n",
       " '5/10/20, 05:04 - Abdul-Azeez: Alhamdulilah my brother',\n",
       " '5/10/20, 05:04 - AAO: What supp I heard you have 15 houses in Lekki and 3 8n Abuja',\n",
       " '5/10/20, 05:05 - AAO: Amin Amin ya Allah',\n",
       " '5/10/20, 05:05 - Abdul-Azeez: 😅😅😅😅',\n",
       " '5/10/20, 05:05 - Abdul-Azeez: I wan sell them ni, shey you go help me find buyer 😂',\n",
       " '5/10/20, 05:06 - Abdul-Azeez: Wetin ha go still dey find even if to say na 5house I get in lekki 🤣',\n",
       " '5/10/20, 05:06 - AAO: 😂 😂',\n",
       " 'NA soo',\n",
       " 'I wan buy ni',\n",
       " '5/10/20, 05:07 - AAO: 😂',\n",
       " 'We go dey alright',\n",
       " 'Business sha dey plum',\n",
       " '5/10/20, 05:07 - Abdul-Azeez: You will have to make payment before you visit the property oo. Corona Dey and our company need money',\n",
       " '5/10/20, 05:08 - Abdul-Azeez: Amin. Alhamdulilah we dey push',\n",
       " '5/10/20, 05:09 - AAO: 😂 😂 Abdul Azeez turn business man',\n",
       " 'Nice no problem',\n",
       " 'So how much is that that has sea view the 2 storey with swimming pool ni o',\n",
       " \"Don't exaggerate price for me o\",\n",
       " '5/10/20, 05:10 - Abdul-Azeez: At all, why will I even do that? You b my personal person',\n",
       " '5/10/20, 05:11 - Abdul-Azeez: Just come with a token of 250M',\n",
       " '5/10/20, 05:11 - Abdul-Azeez: 245M last sit',\n",
       " '5/10/20, 05:11 - Abdul-Azeez: Sir*',\n",
       " '5/10/20, 05:11 - Abdul-Azeez: Are you using pos or transfer??😝',\n",
       " '5/10/20, 05:11 - AAO: Okay this is cheap',\n",
       " 'I was hoping for 300M before but I like this.',\n",
       " '5/10/20, 05:12 - AAO: Haa POS might break so I will just you know wire it into your account you should see alert anytime from now',\n",
       " '5/10/20, 05:12 - Abdul-Azeez: Okay. If you can still make it that 300M it will be cool, you know everything is now cost expecially this corona period',\n",
       " '5/10/20, 05:13 - AAO: Transferring money to acc..................',\n",
       " 'Have you seen it?',\n",
       " '5/10/20, 05:13 - AAO: 😂 😂 🤪',\n",
       " 'See month',\n",
       " '5/10/20, 05:14 - Abdul-Azeez: Ok',\n",
       " '0421700153',\n",
       " 'GTBank ',\n",
       " '3099133552',\n",
       " 'First Bank',\n",
       " '3049495830',\n",
       " 'Polaris',\n",
       " '2267288625',\n",
       " 'Zenith',\n",
       " '2138622378',\n",
       " 'Uba ',\n",
       " '8067174340',\n",
       " 'Paycom',\n",
       " '5/10/20, 05:15 - Abdul-Azeez: Use any of this for the wire transfer',\n",
       " '5/10/20, 05:17 - AAO: Haaa',\n",
       " 'Only you haa',\n",
       " '5/10/20, 05:17 - Abdul-Azeez: E no much sir',\n",
       " '5/10/20, 05:19 - AAO: 😂 😂',\n",
       " 'Of course I will wire soon.',\n",
       " 'Expect alert',\n",
       " '5/10/20, 05:22 - Abdul-Azeez: Ok sir',\n",
       " '5/10/20, 05:22 - Abdul-Azeez: I believe you',\n",
       " '5/10/20, 05:23 - Abdul-Azeez: And don’t forget to add my Ramadan gift to it. You can send both together',\n",
       " '5/10/20, 05:30 - AAO: Of course I get you',\n",
       " '6/9/20, 00:30 - AAO: Baba.',\n",
       " 'Asalam alaikum waramatullah',\n",
       " 'How is shital shawwal',\n",
       " '6/9/20, 01:22 - Abdul-Azeez: Waleakun salam',\n",
       " '6/9/20, 01:22 - Abdul-Azeez: Alhamdulilah we Thanks Allah and you',\n",
       " '6/9/20, 07:30 - AAO: Alhamdullilah',\n",
       " 'God has been kind',\n",
       " '6/9/20, 07:30 - AAO: How is the family?',\n",
       " '6/9/20, 09:32 - Abdul-Azeez: Alhamdulilah',\n",
       " '6/9/20, 09:33 - Abdul-Azeez: What about you?',\n",
       " '6/9/20, 09:34 - AAO: Alhamdullilah',\n",
       " '6/9/20, 09:51 - Abdul-Azeez: Good',\n",
       " '7/31/20, 09:12 - AAO: Which one is Salah rate',\n",
       " 'You no like mane rate',\n",
       " '10/12/20, 10:30 - AAO: Baba looong time faa',\n",
       " '10/12/20, 10:59 - Abdul-Azeez: Yes ooo',\n",
       " '10/12/20, 10:59 - Abdul-Azeez: How have you been',\n",
       " '10/12/20, 11:04 - AAO: Alhamdullilah I am good',\n",
       " '10/12/20, 11:04 - AAO: How are you',\n",
       " '10/12/20, 11:13 - Abdul-Azeez: I’m fine and you',\n",
       " '10/12/20, 11:17 - AAO: God has been kind',\n",
       " '10/12/20, 11:17 - AAO: You still dey Nigeria',\n",
       " '10/12/20, 11:19 - Abdul-Azeez: Lol',\n",
       " '10/12/20, 11:19 - Abdul-Azeez: Beni sir',\n",
       " '10/12/20, 11:22 - AAO: Ohh okay',\n",
       " '😎',\n",
       " '10/12/20, 11:22 - AAO: I sure say you no need Job placement',\n",
       " 'You don set',\n",
       " '10/12/20, 11:23 - Abdul-Azeez: Ahhh',\n",
       " '10/12/20, 11:23 - Abdul-Azeez: I need oo',\n",
       " '10/12/20, 11:23 - Abdul-Azeez: Walai',\n",
       " '10/12/20, 11:23 - Abdul-Azeez: You get any for me??',\n",
       " '10/12/20, 11:23 - Abdul-Azeez: Shey I Dey whine m ni',\n",
       " '10/12/20, 11:25 - AAO: 😂 😂',\n",
       " 'Me sef dey look for job',\n",
       " 'If opportunities open for your side Holla me',\n",
       " '10/12/20, 11:25 - AAO: But I am hopeful',\n",
       " '10/12/20, 11:25 - AAO: We go get',\n",
       " '10/12/20, 11:26 - Abdul-Azeez: Amin insha Allah',\n",
       " '10/12/20, 11:26 - Abdul-Azeez: Where are you now??',\n",
       " '10/12/20, 11:33 - AAO: Oshogbo Osun State',\n",
       " '10/12/20, 11:34 - AAO: You dey Abuja or Lagos',\n",
       " 'Or wait Kano',\n",
       " '10/12/20, 11:34 - Abdul-Azeez: Lols. Ilorin',\n",
       " '10/12/20, 11:34 - AAO: Wow really',\n",
       " '10/12/20, 11:35 - AAO: Business must be great yea?',\n",
       " '10/12/20, 11:35 - Abdul-Azeez: Yh',\n",
       " '10/12/20, 11:35 - AAO: I am waiting on my cert before running',\n",
       " '10/12/20, 11:35 - Abdul-Azeez: But will be going back to my ppa tomorrow',\n",
       " '10/12/20, 11:35 - Abdul-Azeez: We’re pushing oo',\n",
       " '10/12/20, 11:36 - AAO: Okay',\n",
       " 'Journey mercies',\n",
       " '10/12/20, 11:36 - AAO: Alhamdullilah',\n",
       " '10/12/20, 11:36 - Abdul-Azeez: Amin, thanks',\n",
       " '10/12/20, 11:40 - AAO: Shey your pop timetable don comot?',\n",
       " '10/12/20, 11:47 - Abdul-Azeez: Yh',\n",
       " '10/12/20, 12:17 - AAO: OK favor market',\n",
       " 'Whatever that means',\n",
       " '10/12/20, 12:18 - Abdul-Azeez: Amin',\n",
       " '10/16/20, 19:20 - AAO: Next time use this one',\n",
       " 'Fuck EM',\n",
       " 'Just to show you know give the fuck',\n",
       " '10/16/20, 19:43 - Abdul-Azeez: <Media omitted>',\n",
       " '10/16/20, 19:43 - Abdul-Azeez: Thanks boss',\n",
       " '10/23/20, 19:34 - AAO: Oshey fine daddy',\n",
       " 'Or nah',\n",
       " 'Zaddy',\n",
       " '10/23/20, 19:36 - Abdul-Azeez: 🙌🏾🙌🏾🙌🏾',\n",
       " '10/23/20, 19:40 - AAO: Alhamdullilah for the gift of life',\n",
       " 'We go survive diz one too',\n",
       " '10/23/20, 19:41 - Abdul-Azeez: Amin ooo',\n",
       " '10/28/20, 06:35 - AAO: Alhamdullilah',\n",
       " \"May your new Age be blessed with good health happy life and Allah's rahma\",\n",
       " '10/28/20, 06:35 - AAO: Happy Birthday Man',\n",
       " '10/28/20, 06:39 - Abdul-Azeez: Missed voice call',\n",
       " '10/28/20, 06:39 - Abdul-Azeez: Amin 🙏🏼 Thanks man ❤️',\n",
       " '10/28/20, 06:39 - Abdul-Azeez: The call was a mistake',\n",
       " '10/28/20, 06:45 - AAO: Alright',\n",
       " '10/28/20, 06:45 - AAO: Enjoy the day',\n",
       " '10/28/20, 06:46 - Abdul-Azeez: <Media omitted>',\n",
       " '11/14/20, 11:45 - AAO: Ijoba bitcoin 🔥🔥🔥🔥🔥🔥🔥',\n",
       " '11/14/20, 12:06 - Abdul-Azeez: <Media omitted>',\n",
       " '12/28/20, 17:28 - AAO: 🤩🤩',\n",
       " '12/28/20, 18:02 - Abdul-Azeez: <Media omitted>']"
      ]
     },
     "execution_count": 281,
     "metadata": {},
     "output_type": "execute_result"
    }
   ],
   "source": [
    "c = pd.read_csv('WhatsApp Chat with Abdul-Azeez.txt', sep = '\\t', header=None)[0].tolist()\n",
    "c"
   ]
  },
  {
   "cell_type": "code",
   "execution_count": 271,
   "metadata": {},
   "outputs": [
    {
     "name": "stdout",
     "output_type": "stream",
     "text": [
      "7/7/19, 03:14 - Messages and calls are end-to-end encrypted. No one outside of this chat, not\n",
      "7/7/19, 03:14 - AAO: Asalam alaikum bro\n",
      "7/7/19, 03:15 - AAO: Abeg help me send the time table and mobile computing materials if any\n",
      "7/7/19, 03:15 - AAO: Jazakallahu khairan\n",
      "7/7/19, 04:21 - Abdul-Azeez: Walealun. Salam.The time table is no longer on my phone sir\n",
      "7/7/19, 07:18 - AAO: Alright nah\n",
      "7/8/19, 17:47 - AAO: Asalam alaikum bro\n",
      "Please share me muiz contact\n",
      "7/8/19, 17:47 - Abdul-Azeez: Muiz.vcf (file attached)\n",
      "7/8/19, 17:47 - Abdul-Azeez: Waleakun salam\n"
     ]
    }
   ],
   "source": [
    "for a in d[:10]:\n",
    "    print(a)"
   ]
  },
  {
   "cell_type": "code",
   "execution_count": 282,
   "metadata": {},
   "outputs": [
    {
     "data": {
      "text/plain": [
       "688"
      ]
     },
     "execution_count": 282,
     "metadata": {},
     "output_type": "execute_result"
    }
   ],
   "source": [
    "# merge messages that belong together\n",
    "msgs = [] #message container\n",
    "pos = 0 \n",
    "\"\"\"For every line, see if it matches the expression which is starting with the format 'number(s)+slash' eg '12/' if it does, it \n",
    "is a new line of conversion as they begin with dates, add it to msgs container.\n",
    "Else, it is a continuation of the previous line, add it to the previous line and append to msgs, then pop previous line.\"\"\"\n",
    "\n",
    "for line in c:\n",
    "    if re.findall(\"\\A\\d+[/]\", line):\n",
    "        msgs.append(line)\n",
    "        pos += 1\n",
    "    else:\n",
    "        take = msgs[pos - 1] + \". \"+ line\n",
    "        msgs.append(take)\n",
    "        msgs.pop(pos -1)\n",
    "len(msgs)"
   ]
  },
  {
   "cell_type": "code",
   "execution_count": 266,
   "metadata": {},
   "outputs": [
    {
     "data": {
      "text/plain": [
       "['7/7/19, 03:14 - Messages and calls are end-to-end encrypted. No one outside of this chat, not even WhatsApp, can read or listen to them. Tap to learn more.',\n",
       " '7/7/19, 03:14 - AAO: Asalam alaikum bro',\n",
       " '7/7/19, 03:15 - AAO: Abeg help me send the time table and mobile computing materials if any',\n",
       " '7/7/19, 03:15 - AAO: Jazakallahu khairan',\n",
       " '7/7/19, 04:21 - Abdul-Azeez: Walealun. Salam.The time table is no longer on my phone sir',\n",
       " '7/7/19, 07:18 - AAO: Alright nah',\n",
       " '7/8/19, 17:47 - AAO: Asalam alaikum bro',\n",
       " 'Please share me muiz contact',\n",
       " '7/8/19, 17:47 - Abdul-Azeez: Muiz.vcf (file attached)',\n",
       " '7/8/19, 17:47 - Abdul-Azeez: Waleakun salam',\n",
       " '7/8/19, 17:50 - AAO: Jazakallahu khairan',\n",
       " '7/8/19, 18:00 - Abdul-Azeez: Waiyakum',\n",
       " '7/9/19, 07:12 - AAO: <Media omitted>',\n",
       " '7/9/19, 07:12 - AAO: <Media omitted>',\n",
       " '7/9/19, 07:13 - Abdul-Azeez: Thanks you sir',\n",
       " '7/9/19, 07:13 - Abdul-Azeez: Na wetin me sef go read b this',\n",
       " '7/9/19, 07:13 - Abdul-Azeez: Just wake up since last night',\n",
       " '7/9/19, 07:14 - AAO: Tor but I dey think say it is small',\n",
       " '7/9/19, 07:15 - Abdul-Azeez: When testbook did not come out any test in nko',\n",
       " '7/9/19, 07:17 - AAO: Yes that true sha',\n",
       " '7/9/19, 07:22 - Abdul-Azeez: Yh',\n",
       " '7/10/19, 07:15 - AAO: <Media omitted>',\n",
       " '7/10/19, 07:15 - AAO: <Media omitted>',\n",
       " '7/10/19, 07:15 - AAO: <Media omitted>',\n",
       " '7/10/19, 07:15 - AAO: <Media omitted>',\n",
       " '7/10/19, 07:15 - AAO: <Media omitted>',\n",
       " '7/10/19, 07:16 - AAO: Asalam alaikum waramatullah',\n",
       " 'Bro Iss a good Morning sir',\n",
       " '7/10/19, 07:17 - Abdul-Azeez: Waleakun salam',\n",
       " '7/10/19, 07:17 - Abdul-Azeez: How was your night',\n",
       " '7/10/19, 07:17 - Abdul-Azeez: Is that all the slides',\n",
       " '7/10/19, 07:17 - AAO: Alhamdullilah it was short',\n",
       " '7/10/19, 07:18 - AAO: For now read those and some that salkarb sent last night',\n",
       " '7/10/19, 07:18 - Abdul-Azeez: Thanks for the slides oo',\n",
       " \"7/10/19, 07:18 - AAO: Na'am it will cost you 150,000 only\",\n",
       " '7/10/19, 07:18 - AAO: Happy jacking',\n",
       " \"7/10/19, 07:19 - Abdul-Azeez: Salkarb didn't send anything na\",\n",
       " '7/10/19, 07:19 - Abdul-Azeez: 😳',\n",
       " '7/10/19, 07:20 - AAO: He send at least 2 last night',\n",
       " '7/10/19, 07:20 - AAO: Pay bro no time',\n",
       " '7/10/19, 07:20 - Abdul-Azeez: Lol..',\n",
       " '7/10/19, 07:21 - Abdul-Azeez: Okay sir',\n",
       " '7/10/19, 07:27 - Abdul-Azeez: <Media omitted>',\n",
       " '7/10/19, 08:40 - Abdul-Azeez: <Media omitted>',\n",
       " '7/10/19, 08:40 - Abdul-Azeez: <Media omitted>',\n",
       " '7/10/19, 08:40 - Abdul-Azeez: <Media omitted>',\n",
       " '7/10/19, 08:40 - Abdul-Azeez: <Media omitted>',\n",
       " '7/10/19, 08:40 - Abdul-Azeez: <Media omitted>',\n",
       " '7/10/19, 08:40 - Abdul-Azeez: <Media omitted>',\n",
       " '7/10/19, 08:44 - AAO: Jazakallahu khairan',\n",
       " '7/10/19, 08:44 - Abdul-Azeez: Waiyakun',\n",
       " '7/10/19, 09:30 - AAO: <Media omitted>',\n",
       " '7/10/19, 09:30 - Abdul-Azeez: ✌',\n",
       " '7/10/19, 09:30 - Abdul-Azeez: You still dey house',\n",
       " '7/10/19, 09:30 - AAO: Yes but will leave soon',\n",
       " \"7/10/19, 09:31 - Abdul-Azeez: Alright sir. Let me know when you're about leaving\",\n",
       " '7/10/19, 09:31 - Abdul-Azeez: Venue??',\n",
       " '7/10/19, 09:38 - AAO: Jci noni',\n",
       " '7/10/19, 09:50 - AAO: Bro I Don comot',\n",
       " '7/10/19, 09:51 - Abdul-Azeez: Alright. We meet for jci then',\n",
       " '7/10/19, 14:48 - AAO: Scam scam',\n",
       " '7/10/19, 14:49 - Abdul-Azeez: Lol. No be sooo',\n",
       " \"7/10/19, 14:50 - Abdul-Azeez: I waited 2 long for you and I didn't see you\",\n",
       " '7/10/19, 14:50 - AAO: Of course',\n",
       " 'I saw you when you were coming to cbt center I was already seated',\n",
       " '7/10/19, 14:50 - AAO: Ready to be pass in for exam',\n",
       " '7/10/19, 14:50 - AAO: How was it?',\n",
       " '7/10/19, 14:51 - Abdul-Azeez: Toor',\n",
       " '7/10/19, 14:51 - Abdul-Azeez: Alhamdulilah 😢',\n",
       " '7/10/19, 14:51 - AAO: Lol it was good nah',\n",
       " '7/10/19, 14:52 - Abdul-Azeez: To you abi',\n",
       " '7/10/19, 14:52 - Abdul-Azeez: My own questions is from heaven',\n",
       " '7/10/19, 14:52 - Abdul-Azeez: Which hall u use',\n",
       " '7/10/19, 14:53 - AAO: Hall C',\n",
       " '7/10/19, 14:53 - AAO: Maybe',\n",
       " '7/10/19, 14:53 - Abdul-Azeez: I used D',\n",
       " '7/10/19, 14:54 - AAO: All I. All God will crown our efforts with success in sha Allah',\n",
       " '7/10/19, 14:54 - AAO: Start prep for data comm',\n",
       " '7/10/19, 14:55 - Abdul-Azeez: Amin',\n",
       " '7/10/19, 14:55 - Abdul-Azeez: Okay oo',\n",
       " '7/10/19, 15:07 - AAO: <Media omitted>',\n",
       " '7/10/19, 15:07 - AAO: <Media omitted>',\n",
       " '7/10/19, 16:13 - Abdul-Azeez: Thanks',\n",
       " '7/11/19, 19:29 - Abdul-Azeez: <Media omitted>',\n",
       " '7/11/19, 19:54 - AAO: Jazakallahu khairan',\n",
       " '7/11/19, 19:54 - Abdul-Azeez: Waiyakun',\n",
       " '7/12/19, 01:34 - AAO: Salaam alaikum bhai',\n",
       " '7/12/19, 01:34 - AAO: You do finish reading',\n",
       " '7/12/19, 01:35 - Abdul-Azeez: 😢',\n",
       " '7/12/19, 01:35 - Abdul-Azeez: Us no see what to read from the material fah',\n",
       " '7/12/19, 01:35 - Abdul-Azeez: I mean the new material',\n",
       " \"7/12/19, 01:35 - Abdul-Azeez: I'm off, wan sleep\",\n",
       " '7/12/19, 01:35 - AAO: Ohh okay I never start that one self',\n",
       " '7/12/19, 01:36 - AAO: Alright will join . You soon',\n",
       " '7/12/19, 01:36 - Abdul-Azeez: Ok',\n",
       " '7/12/19, 01:36 - Abdul-Azeez: Ok',\n",
       " '7/12/19, 06:12 - Abdul-Azeez: Salam Aleakun',\n",
       " '7/12/19, 11:54 - AAO: Wa alaikum Salaam',\n",
       " '7/12/19, 12:33 - Abdul-Azeez: How are you',\n",
       " '7/12/19, 21:53 - AAO: Alhamdullilah',\n",
       " '7/21/19, 08:47 - AAO: Asalam alaikum bro',\n",
       " 'How are you?',\n",
       " 'Do you know where I can get mtn welcome back sim',\n",
       " '7/21/19, 09:10 - Abdul-Azeez: Waleakun salam',\n",
       " '7/21/19, 09:10 - AAO: I be dey wait for your msg since',\n",
       " ' I no get data',\n",
       " '7/21/19, 09:10 - Abdul-Azeez: Mtn office sir',\n",
       " '7/21/19, 09:12 - AAO: Thanks catch you later I am managing my data',\n",
       " 'Happy reading',\n",
       " 'We get test tomorrow oo 8 am',\n",
       " '7/21/19, 09:12 - Abdul-Azeez: I was sleeping nio',\n",
       " '7/21/19, 09:12 - Abdul-Azeez: How are you',\n",
       " '7/21/19, 09:13 - Abdul-Azeez: Exam 🤪',\n",
       " '7/21/19, 09:14 - AAO: Am good',\n",
       " 'Sha bring my own btc money tomorrow I no want stories o',\n",
       " '7/21/19, 09:14 - AAO: Beta wake up and read',\n",
       " '7/21/19, 09:14 - Abdul-Azeez: 😂😂',\n",
       " '7/21/19, 09:14 - Abdul-Azeez: 🙌🙌',\n",
       " '7/22/19, 05:22 - Abdul-Azeez: Salam aleakun',\n",
       " '7/22/19, 10:13 - AAO: Wa alaikum Salaam waramatullah',\n",
       " '7/22/19, 10:14 - Abdul-Azeez: Where are you',\n",
       " '7/22/19, 10:15 - AAO: E library',\n",
       " '7/22/19, 10:15 - Abdul-Azeez: Scholar',\n",
       " '7/22/19, 10:15 - Abdul-Azeez: Doing what oo',\n",
       " '7/22/19, 10:16 - Abdul-Azeez: ??',\n",
       " '7/22/19, 10:17 - AAO: Helping a friend to finish his project',\n",
       " '7/22/19, 10:18 - Abdul-Azeez: Ok',\n",
       " '7/22/19, 10:18 - AAO: U nko?',\n",
       " '7/22/19, 10:19 - Abdul-Azeez: Gtb',\n",
       " '7/22/19, 10:19 - Abdul-Azeez: My acc was locked yesterday',\n",
       " '7/22/19, 10:19 - AAO: Haa why abi the money is tooooooo mucccchhh',\n",
       " '7/22/19, 10:20 - AAO: 😆',\n",
       " '7/22/19, 10:20 - Abdul-Azeez: 🙄🙄',\n",
       " \"7/22/19, 10:20 - Abdul-Azeez: I was told I received an amount of money I wasn't meant to receive\",\n",
       " '7/22/19, 10:21 - AAO: Haa okay',\n",
       " '7/22/19, 10:21 - AAO: How much',\n",
       " '7/22/19, 10:21 - Abdul-Azeez: Just a token jare',\n",
       " '7/22/19, 10:27 - AAO: 1mil abi',\n",
       " '7/25/19, 12:15 - AAO: <Media omitted>',\n",
       " '7/26/19, 04:45 - Abdul-Azeez: Jazakah Allah kaeran',\n",
       " '7/26/19, 04:45 - Abdul-Azeez: Good morning sir',\n",
       " '7/26/19, 06:46 - AAO: Good Morning',\n",
       " \"Jumm'ah Mubarak\",\n",
       " 'Asalam alaikum waramatullah',\n",
       " '7/26/19, 06:47 - Abdul-Azeez: Thanks',\n",
       " '7/26/19, 06:47 - Abdul-Azeez: How was your night',\n",
       " '7/26/19, 06:50 - AAO: Alhamdullilah it was short and stressful',\n",
       " '7/26/19, 06:50 - AAO: Am coming to school this morning for payment of binding stuff',\n",
       " '7/26/19, 06:50 - AAO: And clearance form',\n",
       " '7/26/19, 06:50 - Abdul-Azeez: Stressfull😳',\n",
       " '7/26/19, 06:51 - Abdul-Azeez: 🙌',\n",
       " '7/26/19, 06:52 - Abdul-Azeez: When are you entering school',\n",
       " '7/26/19, 06:53 - AAO: 8 8.30am',\n",
       " '7/26/19, 06:53 - Abdul-Azeez: You just made photocopy for the clearance form ni and sign it at the faculty',\n",
       " '7/26/19, 06:53 - AAO: Yea a close somebody was sick',\n",
       " '7/26/19, 06:53 - AAO: Okay with passport abi',\n",
       " '7/26/19, 06:54 - AAO: Have you paid',\n",
       " \"7/26/19, 06:54 - Abdul-Azeez: It need passport and I don't have\",\n",
       " '7/26/19, 06:54 - Abdul-Azeez: Nop',\n",
       " '7/26/19, 06:54 - Abdul-Azeez: Probably by next week',\n",
       " '7/26/19, 06:54 - AAO: I thought it will close or end tomorrow',\n",
       " '7/26/19, 06:55 - AAO: You will have to get faa',\n",
       " '7/26/19, 06:55 - Abdul-Azeez: Na 31st I hear o',\n",
       " \"7/26/19, 06:55 - Abdul-Azeez: Don't know where they get tomorrow on our group o\",\n",
       " \"7/26/19, 06:56 - AAO: Tor that why I don't want to mess with it\",\n",
       " '7/26/19, 06:56 - Abdul-Azeez: Ok',\n",
       " '7/26/19, 06:56 - Abdul-Azeez: I have the receipt for making payment already sha',\n",
       " '7/26/19, 06:57 - AAO: Haa and you have not paid',\n",
       " '7/26/19, 06:57 - Abdul-Azeez: Yh',\n",
       " '7/26/19, 06:58 - AAO: Scam',\n",
       " '7/26/19, 06:59 - Abdul-Azeez: Lol',\n",
       " '7/26/19, 06:59 - AAO: I am suspecting you',\n",
       " \"7/26/19, 06:59 - Abdul-Azeez: Will be paying when we have the time, we sha can't spill because of 2k\",\n",
       " '7/26/19, 06:59 - AAO: Of course',\n",
       " '7/26/19, 06:59 - Abdul-Azeez: That what oo',\n",
       " '7/26/19, 07:00 - Abdul-Azeez: Last last make then make it 3k',\n",
       " '7/26/19, 07:00 - AAO: Gc and BBC or btc will bring the money sha',\n",
       " '7/26/19, 07:00 - Abdul-Azeez: Scam',\n",
       " '7/26/19, 07:00 - AAO: How you get receipt without payment',\n",
       " '7/26/19, 07:00 - AAO: We gather dey',\n",
       " '7/26/19, 07:01 - Abdul-Azeez: I sent someone to collect it for me at the faculty',\n",
       " '7/26/19, 07:01 - AAO: Ohh okay',\n",
       " '7/26/19, 07:02 - AAO: When are you coming?',\n",
       " '7/26/19, 07:02 - Abdul-Azeez: Earlier',\n",
       " '7/26/19, 07:02 - Abdul-Azeez: Ha never read jare',\n",
       " '7/26/19, 07:03 - AAO: Alright when you arrive abeg call me',\n",
       " 'I wnt to finish prayer may God almighty accept and bless us all',\n",
       " '7/26/19, 07:03 - Abdul-Azeez: Amin',\n",
       " '7/26/19, 07:04 - Abdul-Azeez: Are u coming with phone',\n",
       " '7/26/19, 07:06 - Abdul-Azeez: Na 31st ooo',\n",
       " '7/26/19, 07:07 - Abdul-Azeez: <Media omitted>',\n",
       " '7/26/19, 07:32 - AAO: Yes and laptop self',\n",
       " '7/26/19, 07:33 - AAO: Alright maybe It trcn that is closing todah',\n",
       " '7/26/19, 07:44 - Abdul-Azeez: Where are you now',\n",
       " '7/26/19, 07:44 - Abdul-Azeez: About leaving here',\n",
       " '7/26/19, 07:49 - AAO: 20min from now but will have to visit the faculty before bank then settle to revise',\n",
       " '7/26/19, 07:57 - Abdul-Azeez: Scholar still dey revise',\n",
       " '7/26/19, 08:45 - AAO: I want to be like you nio',\n",
       " '7/26/19, 09:00 - Abdul-Azeez: Scam',\n",
       " '7/26/19, 09:00 - Abdul-Azeez: I dey e library',\n",
       " '7/26/19, 09:16 - AAO: Alright nah',\n",
       " '7/26/19, 09:20 - Abdul-Azeez: Where are you now',\n",
       " '7/26/19, 19:29 - AAO: In a car going home',\n",
       " '7/26/19, 20:05 - Abdul-Azeez: Lol',\n",
       " '7/26/19, 20:06 - Abdul-Azeez: Have sent this since morning na',\n",
       " '7/26/19, 20:37 - AAO: I no nah I dey pull your leg',\n",
       " 'Thanks for today',\n",
       " '7/26/19, 21:11 - Abdul-Azeez: Scam',\n",
       " '7/26/19, 21:12 - AAO: Sha send btc money abeg',\n",
       " '7/26/19, 21:15 - Abdul-Azeez: 😂',\n",
       " '7/26/19, 21:26 - AAO: Hello, excited to receive this message? Join us for another remarkable moment. ',\n",
       " '',\n",
       " \"Want to get started with Kotlin, but don't know where to begin? Join us for our Kotlin/Everywhere event.\",\n",
       " '',\n",
       " \"Together we'll work through several Android / Google Cloud / multi-platform labs. You will get hands-on experience with Kotlin in Android, multi-platform with Kotlin/Native, Google Cloud Platform and Kotlin/JS.\",\n",
       " '',\n",
       " 'Bring a laptop (PC, Mac or Chromebook). The labs will run on all of the latest versions of the popular browsers. For the best experience, make sure your laptop has Chrome or Firefox installed. Don’t forget your charger!',\n",
       " '',\n",
       " 'We have swags and refreshments for attendees. ',\n",
       " '',\n",
       " 'Venue: Malhub, House 6, Agbadam Link Road, Along Water View Junction, GRA Ilorin (Call Raheemat for description +2348161766376) ',\n",
       " 'Time: 10am prompt (Labs session start immediately after accreditation) ',\n",
       " '',\n",
       " 'Date: Saturday 27th, July 2019 ',\n",
       " '',\n",
       " '#GDGIlorin #KotlinEverywhere',\n",
       " '7/26/19, 21:26 - AAO: You go attend',\n",
       " '7/26/19, 21:27 - Abdul-Azeez: Lol',\n",
       " '7/26/19, 21:27 - Abdul-Azeez: Will try sir',\n",
       " '7/26/19, 21:27 - AAO: Alright me too wants to try sha',\n",
       " '7/27/19, 08:08 - Abdul-Azeez: Ok',\n",
       " '7/27/19, 08:08 - Abdul-Azeez: <Media omitted>',\n",
       " '7/27/19, 08:08 - Abdul-Azeez: <Media omitted>',\n",
       " '7/27/19, 08:08 - Abdul-Azeez: <Media omitted>',\n",
       " '7/27/19, 08:08 - Abdul-Azeez: <Media omitted>',\n",
       " '7/27/19, 08:08 - Abdul-Azeez: <Media omitted>',\n",
       " '7/27/19, 08:08 - Abdul-Azeez: <Media omitted>',\n",
       " '7/27/19, 08:08 - Abdul-Azeez: <Media omitted>',\n",
       " '7/27/19, 08:08 - Abdul-Azeez: <Media omitted>',\n",
       " '7/27/19, 08:08 - Abdul-Azeez: <Media omitted>',\n",
       " '7/27/19, 08:08 - Abdul-Azeez: <Media omitted>',\n",
       " '7/27/19, 08:10 - AAO: <Media omitted>',\n",
       " '7/27/19, 08:10 - AAO: Eshe o',\n",
       " '7/27/19, 08:11 - AAO: Just board a cab going to challenge after you alight at the bus stop, take a cap going to GRA then alight at Agba-dam link road water view Junction. You can beep me or after alighting at the Junction just walk a bit down you will see a mosque by the left hand side of the road. You will see a notice board in which mustapha Akanbi library is written on',\n",
       " \"7/27/19, 08:11 - AAO: That's how you get to\",\n",
       " '7/27/19, 08:12 - Abdul-Azeez: Ok sir',\n",
       " \"7/27/19, 08:14 - Abdul-Azeez: So it's today\",\n",
       " '7/27/19, 08:18 - AAO: Yes nah',\n",
       " '7/27/19, 08:19 - AAO: 10 after environmental sanitation',\n",
       " '7/27/19, 08:47 - Abdul-Azeez: Ok',\n",
       " '7/27/19, 14:48 - Abdul-Azeez: <Media omitted>',\n",
       " '7/27/19, 14:48 - Abdul-Azeez: <Media omitted>',\n",
       " '7/27/19, 14:48 - Abdul-Azeez: <Media omitted>',\n",
       " '7/27/19, 14:48 - Abdul-Azeez: <Media omitted>',\n",
       " '7/27/19, 14:48 - Abdul-Azeez: <Media omitted>',\n",
       " '7/27/19, 14:48 - Abdul-Azeez: <Media omitted>',\n",
       " '7/27/19, 14:48 - Abdul-Azeez: <Media omitted>',\n",
       " '7/27/19, 14:48 - Abdul-Azeez: <Media omitted>',\n",
       " '7/27/19, 14:48 - Abdul-Azeez: <Media omitted>',\n",
       " '7/27/19, 18:34 - AAO: Thanks man for everything',\n",
       " '7/28/19, 07:44 - Abdul-Azeez: Lol',\n",
       " '8/5/19, 19:56 - AAO: Asalam alaikum bro',\n",
       " 'Please can you send me the chapter 4 you are using to do your own',\n",
       " '8/5/19, 20:25 - Abdul-Azeez: Maybe when I get home sha',\n",
       " '8/5/19, 20:49 - AAO: Okay',\n",
       " '9/13/19, 12:55 - AAO: Asalam alaikum bro',\n",
       " 'Congratulations more blessings in sha Allah',\n",
       " '9/13/19, 13:10 - Abdul-Azeez: Amin oo',\n",
       " '9/13/19, 13:10 - Abdul-Azeez: How are u',\n",
       " \"9/13/19, 15:39 - AAO: Alhamdullilah am fine jumm'ah Mubarak\",\n",
       " 'How are you too',\n",
       " \"9/13/19, 15:47 - Abdul-Azeez: I'm good o\",\n",
       " '9/13/19, 16:20 - AAO: How is business?',\n",
       " '9/13/19, 16:34 - Abdul-Azeez: Alhamdulilah. We thanks God',\n",
       " \"9/13/19, 17:10 - AAO: Na'am\",\n",
       " '9/23/19, 16:24 - AAO: Mr. Money Alh money Prof Money',\n",
       " 'Give me money nah',\n",
       " '9/23/19, 17:00 - Abdul-Azeez: Na you o🙌',\n",
       " '9/23/19, 17:04 - AAO: Be boboing me o',\n",
       " '9/23/19, 17:07 - Abdul-Azeez: Me keh',\n",
       " '9/23/19, 17:07 - Abdul-Azeez: 🙌🙌',\n",
       " '9/23/19, 17:09 - AAO: Issokay oo',\n",
       " 'Accountant never start signing you can still be chilling where you are',\n",
       " '9/23/19, 17:11 - Abdul-Azeez: Which accountant',\n",
       " '9/23/19, 17:11 - AAO: Ohh faculty',\n",
       " '9/23/19, 17:12 - Abdul-Azeez: Ok. Thanks',\n",
       " '9/27/19, 07:27 - AAO: *Suratul Faatiha* protects one from the anger of *Allah.*',\n",
       " '*Surah Yaseen* protects one from the thirst of the Day of Judgment',\n",
       " \"*Suratul Waaqi'ah* protects one from poverty and starvation.\",\n",
       " '*Surah Mulk* protects one from the punishment of the grave.',\n",
       " '*Suratul Kauthar* protects one from the enmity of the enemy.',\n",
       " '*Suratul Kaafiroon* protects one from kufr at the time of death.',\n",
       " '*Suratul Ikhlaas* protects one from hypocrisy',\n",
       " '*Suratul Falaq* protects one from calamities.',\n",
       " '*Suratul Naas* protects one from evil thoughts.',\n",
       " '*Advice*',\n",
       " 'Do not share later. Share it now.',\n",
       " 'May Allah grant success to every one who reads it and sends it. *Ameen*',\n",
       " '9/28/19, 19:21 - AAO: You deleted this message',\n",
       " '9/30/19, 15:25 - AAO: Asalam alaikum waramatullah bro',\n",
       " 'How far you don return',\n",
       " '9/30/19, 15:26 - AAO: I want to ask about bitcoin nio',\n",
       " 'How far the money dey come',\n",
       " '10/1/19, 08:18 - AAO: Bro Good Morning',\n",
       " 'Asalam alaikum waramatullah',\n",
       " '10/1/19, 09:09 - Abdul-Azeez: Yes',\n",
       " '10/1/19, 09:09 - Abdul-Azeez: Waleakun salam',\n",
       " '10/1/19, 09:10 - AAO: How far with bitcoin',\n",
       " 'I was thinking maybe you can fill me in on how things are',\n",
       " \"10/1/19, 09:10 - AAO: I want to do bitcoin I don't market sells I don't know\",\n",
       " \"10/1/19, 09:10 - Abdul-Azeez: Ok. That's when we see o\",\n",
       " '10/1/19, 09:20 - AAO: Aight no problem',\n",
       " '10/1/19, 09:20 - AAO: When are you coming to school',\n",
       " '10/1/19, 09:20 - Abdul-Azeez: Yh',\n",
       " '10/1/19, 09:20 - Abdul-Azeez: Till next week',\n",
       " '10/1/19, 09:21 - Abdul-Azeez: I came to submit to hods office yesterday and the asked me to come next week for it',\n",
       " '10/1/19, 09:21 - AAO: Ohh okay no problems then',\n",
       " '10/1/19, 09:22 - Abdul-Azeez: Yh',\n",
       " '10/10/19, 09:02 - AAO: Asalam alaikum bro',\n",
       " 'You coming to school today',\n",
       " '10/10/19, 09:02 - Abdul-Azeez: Waleakun Salam bruh',\n",
       " '10/10/19, 09:03 - AAO: This',\n",
       " '10/10/19, 09:05 - Abdul-Azeez: I should bruh',\n",
       " '10/10/19, 09:06 - AAO: Okay see you then',\n",
       " '10/10/19, 09:07 - AAO: Will text you when I arrive',\n",
       " '10/10/19, 09:08 - Abdul-Azeez: What time are you coming',\n",
       " '10/10/19, 12:01 - Abdul-Azeez: Missed voice call',\n",
       " '10/10/19, 15:43 - AAO: I no later see you',\n",
       " '10/10/19, 12:01 - Abdul-Azeez: Missed voice call',\n",
       " '10/10/19, 12:01 - Abdul-Azeez: Where are you',\n",
       " '10/10/19, 16:55 - Abdul-Azeez: <Media omitted>',\n",
       " '10/10/19, 16:55 - Abdul-Azeez: Don make me vex fah',\n",
       " \"10/10/19, 16:56 - Abdul-Azeez: I check the entire nedlt, department, workshop, even faculty canopy I couldn't find you\",\n",
       " '10/10/19, 16:57 - Abdul-Azeez: I waited at the department alot under the canopy and also the place where we do use wifi inside the department',\n",
       " '10/11/19, 15:30 - AAO: Ohh sorry',\n",
       " '10/11/19, 15:30 - AAO: But what time do you arrive at school',\n",
       " '10/11/19, 15:33 - AAO: So sorry walai some shit happen so I had to live early so sorry',\n",
       " '10/11/19, 17:31 - AAO: Baba',\n",
       " '10/11/19, 17:32 - Abdul-Azeez: Ok',\n",
       " '10/11/19, 17:32 - Abdul-Azeez: Good evening',\n",
       " '10/11/19, 17:32 - AAO: Good evening',\n",
       " '10/11/19, 17:32 - AAO: How far with clearance were you able to collect it?',\n",
       " '10/11/19, 17:33 - Abdul-Azeez: Not sign yet',\n",
       " '10/11/19, 17:53 - AAO: Wow',\n",
       " 'you don get where you go serve?',\n",
       " '10/11/19, 17:57 - Abdul-Azeez: Lol. No joor',\n",
       " '10/11/19, 17:59 - AAO: Haa me self still dey find',\n",
       " '10/11/19, 18:00 - Abdul-Azeez: Okay ma',\n",
       " '10/11/19, 18:00 - AAO: Where you wan choose for nysc',\n",
       " '10/11/19, 18:00 - Abdul-Azeez: Ebo land nio',\n",
       " '10/11/19, 18:01 - AAO: Haaa what happen',\n",
       " '10/11/19, 18:02 - Abdul-Azeez: <Media omitted>',\n",
       " '10/11/19, 18:07 - AAO: Lol 😂 issokay',\n",
       " 'Me I want Lagos sha',\n",
       " '10/11/19, 19:41 - Abdul-Azeez: <Media omitted>',\n",
       " '10/11/19, 22:04 - AAO: What',\n",
       " '10/11/19, 22:04 - Abdul-Azeez: Lagos bawo',\n",
       " '10/11/19, 22:06 - AAO: I hear say we fit go industries instead of teaching',\n",
       " '10/12/19, 05:00 - Abdul-Azeez: Whao!! How?',\n",
       " '10/12/19, 07:12 - AAO: Like you can apply to a company before posting so you only take care of your deployment that is you have to be posted to the state where the company is located',\n",
       " '10/12/19, 07:17 - Abdul-Azeez: Oook',\n",
       " '10/14/19, 11:52 - Abdul-Azeez: Salam',\n",
       " '10/14/19, 11:55 - AAO: Wa alaikum Salaam waramatullah bro',\n",
       " '10/14/19, 11:55 - Abdul-Azeez: How are you',\n",
       " '10/14/19, 11:56 - AAO: Alhamdullilah am very well',\n",
       " '10/14/19, 11:56 - AAO: How are you and business',\n",
       " '10/14/19, 11:56 - AAO: Looks to be blooming',\n",
       " '10/14/19, 11:56 - Abdul-Azeez: We thanks Allah',\n",
       " '10/14/19, 11:56 - Abdul-Azeez: What of you',\n",
       " '10/14/19, 11:56 - Abdul-Azeez: Lol',\n",
       " '10/14/19, 11:56 - AAO: Am grateful o',\n",
       " '10/14/19, 11:56 - Abdul-Azeez: Good',\n",
       " '10/14/19, 11:57 - AAO: Abi nah',\n",
       " '10/14/19, 11:57 - Abdul-Azeez: Are you in school',\n",
       " '10/14/19, 11:57 - AAO: No am not I want to come on Wednesday though',\n",
       " '10/14/19, 11:58 - Abdul-Azeez: Aiit',\n",
       " '10/14/19, 12:00 - AAO: Okay you have collected your clearance abi',\n",
       " '10/14/19, 12:01 - Abdul-Azeez: Noo',\n",
       " \"10/14/19, 12:01 - Abdul-Azeez: She haven't sign yet\",\n",
       " '10/14/19, 12:01 - AAO: Haa what exactly is her problem bayii',\n",
       " '10/14/19, 12:04 - Abdul-Azeez: I dont even know for her',\n",
       " \"10/14/19, 12:04 - Abdul-Azeez: And she's coming the office everyday\",\n",
       " '10/14/19, 12:05 - AAO: Just sign faa maybe you should pray o',\n",
       " \"10/14/19, 12:05 - Abdul-Azeez: That's how they do oo\",\n",
       " '10/14/19, 12:05 - Abdul-Azeez: Stupid people',\n",
       " '10/14/19, 12:06 - AAO: Lol easy o',\n",
       " 'She can hack whatsapp o 😂',\n",
       " '10/14/19, 12:08 - Abdul-Azeez: 🤣🤣',\n",
       " '10/14/19, 12:08 - Abdul-Azeez: Okay na',\n",
       " '10/16/19, 08:37 - AAO: You go enter school what time?',\n",
       " '10/16/19, 08:41 - Abdul-Azeez: Around 10',\n",
       " '10/16/19, 08:42 - AAO: Okay see you then dept ba?',\n",
       " '10/16/19, 08:42 - Abdul-Azeez: Faculty',\n",
       " '10/16/19, 08:42 - AAO: Alright',\n",
       " '10/16/19, 08:42 - Abdul-Azeez: For my clearance form',\n",
       " \"10/16/19, 08:42 - AAO: Okay what of the NYSC I'd card\",\n",
       " '10/16/19, 08:42 - Abdul-Azeez: Send your number that will be available oo',\n",
       " '10/16/19, 08:42 - AAO: 08143361880',\n",
       " '10/16/19, 08:43 - Abdul-Azeez: I came for it yesterday that when saw the clearance form',\n",
       " '10/16/19, 08:43 - Abdul-Azeez: Glo noo',\n",
       " '10/16/19, 08:43 - Abdul-Azeez: Nko',\n",
       " '10/16/19, 08:44 - AAO: 0805 472 0349',\n",
       " '10/16/19, 08:46 - Abdul-Azeez: Kk',\n",
       " '10/16/19, 08:46 - Abdul-Azeez: What time are you going',\n",
       " '10/16/19, 08:50 - AAO: I go reach 10 max in sha Allah',\n",
       " '10/16/19, 08:50 - Abdul-Azeez: This message was deleted',\n",
       " '10/16/19, 10:36 - AAO: How far where you?',\n",
       " '10/16/19, 10:37 - Abdul-Azeez: School gate',\n",
       " '10/16/19, 10:37 - Abdul-Azeez: Where are you',\n",
       " '10/16/19, 10:38 - AAO: Dept',\n",
       " '10/16/19, 10:38 - Abdul-Azeez: Okay',\n",
       " '10/16/19, 10:39 - Abdul-Azeez: Will you come to the faculty or I should come dia',\n",
       " '10/16/19, 10:40 - AAO: I will come once I collect d ID card',\n",
       " '10/16/19, 10:40 - Abdul-Azeez: Ok',\n",
       " '10/16/19, 10:40 - AAO: Shebi nah hod office',\n",
       " '10/16/19, 10:40 - Abdul-Azeez: Message before you leave',\n",
       " '10/16/19, 10:40 - Abdul-Azeez: Yh',\n",
       " '10/16/19, 10:41 - AAO: I no get',\n",
       " '10/16/19, 10:43 - Abdul-Azeez: <Media omitted>',\n",
       " '10/16/19, 10:43 - AAO: Okay no problem',\n",
       " '10/16/19, 10:49 - AAO: Am leaving for faculty now',\n",
       " '10/16/19, 10:51 - Abdul-Azeez: Okay',\n",
       " \"10/16/19, 10:52 - Abdul-Azeez: I'm inside the faculty already\",\n",
       " '10/22/19, 06:43 - Abdul-Azeez: Salam',\n",
       " '10/22/19, 07:22 - AAO: Wa alaikum Salaam waramatullah',\n",
       " '10/22/19, 07:30 - Abdul-Azeez: <Media omitted>',\n",
       " '10/22/19, 07:31 - AAO: I still dey house am preparing for school',\n",
       " '10/22/19, 07:31 - AAO: How far you don reg',\n",
       " '10/22/19, 07:33 - Abdul-Azeez: Yh',\n",
       " '10/22/19, 07:33 - Abdul-Azeez: <Media omitted>',\n",
       " '10/22/19, 07:35 - AAO: <Media omitted>',\n",
       " '10/22/19, 07:37 - Abdul-Azeez: <Media omitted>',\n",
       " \"10/22/19, 07:43 - AAO: I don't think they are collecting money it guarantor this time, you need a Form that you will give your guarantor who will fill it and you will photo copy your guarantor ID card then give it to faculty to stamp then you bring it to dept for gown collection\",\n",
       " '10/22/19, 07:48 - Abdul-Azeez: They are collecting money in other faculty',\n",
       " \"10/22/19, 08:10 - AAO: Tor I don't know but yesterday for school dem no collect o\",\n",
       " '10/22/19, 08:12 - Abdul-Azeez: Ahhh',\n",
       " '10/22/19, 08:12 - Abdul-Azeez: <Media omitted>',\n",
       " '10/22/19, 08:17 - AAO: I dey come',\n",
       " '10/22/19, 08:36 - Abdul-Azeez: Ok',\n",
       " '10/23/19, 15:04 - Abdul-Azeez: <Media omitted>',\n",
       " '10/23/19, 15:04 - Abdul-Azeez: <Media omitted>',\n",
       " '10/23/19, 15:49 - AAO: Thanks',\n",
       " '11/6/19, 06:34 - AAO: Baba where dem carry you go',\n",
       " '11/6/19, 06:35 - Abdul-Azeez: <Media omitted>',\n",
       " '11/6/19, 06:36 - AAO: Sorry oo',\n",
       " '11/6/19, 06:36 - AAO: I dey Osun',\n",
       " '11/6/19, 06:36 - Abdul-Azeez: 🙆\\u200d♂',\n",
       " \"11/6/19, 06:36 - Abdul-Azeez: You're lucky fah\",\n",
       " '11/6/19, 06:37 - AAO: Abi nah',\n",
       " '11/6/19, 06:37 - AAO: Where you dey go gan gan',\n",
       " '11/6/19, 08:10 - Abdul-Azeez: Bayelsa',\n",
       " '11/6/19, 15:00 - AAO: Haaa Bayel what you go redeploy?',\n",
       " '11/6/19, 16:09 - Abdul-Azeez: <Media omitted>',\n",
       " '11/6/19, 19:53 - AAO: You go relate well for came ni ask people wey Sabi people',\n",
       " '',\n",
       " 'God go make am easy',\n",
       " '11/6/19, 20:08 - Abdul-Azeez: Amin',\n",
       " '11/7/19, 15:39 - AAO: Tired somebody',\n",
       " '11/7/19, 15:41 - Abdul-Azeez: Lol. Abi nah',\n",
       " '11/7/19, 15:41 - Abdul-Azeez: How swearing in for fat side',\n",
       " '11/7/19, 15:42 - AAO: Guy swearing in nah sun beat every body oo',\n",
       " '11/7/19, 15:42 - AAO: We dey chop amala now',\n",
       " '11/7/19, 16:09 - Abdul-Azeez: 🤣🤣',\n",
       " '11/7/19, 16:09 - Abdul-Azeez: No be only there',\n",
       " '11/7/19, 16:09 - Abdul-Azeez: There no different between morning and afternoon here',\n",
       " '11/7/19, 18:10 - AAO: Haa sorry oo',\n",
       " '11/7/19, 18:11 - AAO: He go better',\n",
       " '11/7/19, 18:12 - Abdul-Azeez: Amin',\n",
       " '11/7/19, 18:14 - AAO: How far nah you be platoon leader',\n",
       " '11/7/19, 18:14 - Abdul-Azeez: 🤣🤣🤣',\n",
       " '11/7/19, 18:14 - Abdul-Azeez: Platoon leader keh',\n",
       " '11/7/19, 18:14 - Abdul-Azeez: The new allowance payment has been approved here oo',\n",
       " '11/7/19, 18:15 - AAO: Haa we still dey wait for the news o',\n",
       " '11/7/19, 18:15 - Abdul-Azeez: Okay',\n",
       " '11/7/19, 18:15 - Abdul-Azeez: Aiit na',\n",
       " '11/7/19, 18:15 - AAO: Which post you com carry',\n",
       " '11/7/19, 18:15 - Abdul-Azeez: You dey hear from farouq??',\n",
       " '11/7/19, 18:15 - AAO: Nah I just dey my side ni i',\n",
       " \"11/7/19, 18:15 - Abdul-Azeez: I'm not doing anything fah\",\n",
       " '11/7/19, 18:15 - Abdul-Azeez: What of you',\n",
       " '11/7/19, 18:15 - Abdul-Azeez: Okay',\n",
       " '11/7/19, 18:16 - AAO: Am the most present OBSERVER',\n",
       " '11/7/19, 18:16 - Abdul-Azeez: Lol.. dont get',\n",
       " '11/7/19, 18:16 - Abdul-Azeez: Send voice note',\n",
       " '11/7/19, 18:16 - Abdul-Azeez: Which work are they doing?',\n",
       " '11/7/19, 18:16 - AAO: <Media omitted>',\n",
       " '11/7/19, 18:27 - AAO: Abeg when you receive Dat money let do 50 50 as per say we be blooders.',\n",
       " '11/7/19, 19:11 - Abdul-Azeez: <Media omitted>',\n",
       " '11/7/19, 19:26 - AAO: 😂 He go beta',\n",
       " '11/7/19, 19:37 - Abdul-Azeez: Amin',\n",
       " '11/26/19, 14:12 - AAO: Asalam alaikum waramatullah bro',\n",
       " '11/26/19, 14:12 - AAO: How are you doing',\n",
       " '11/26/19, 14:12 - AAO: It been long fa',\n",
       " '11/26/19, 14:13 - AAO: How is posting',\n",
       " 'Or redeployment',\n",
       " '11/26/19, 14:23 - Abdul-Azeez: Posting ni oo',\n",
       " '11/26/19, 14:24 - Abdul-Azeez: Na bayelsa capital I dey',\n",
       " '11/26/19, 14:29 - AAO: Ohh wow',\n",
       " '11/26/19, 14:29 - AAO: Which part',\n",
       " '11/26/19, 14:33 - Abdul-Azeez: Yenagoa',\n",
       " '11/26/19, 15:59 - AAO: Are you also in school',\n",
       " '12/14/19, 17:18 - AAO: Fine boy',\n",
       " '12/14/19, 17:37 - Abdul-Azeez: Daddy',\n",
       " '12/14/19, 17:44 - AAO: How are you doing?',\n",
       " '12/14/19, 17:58 - Abdul-Azeez: Good and you',\n",
       " '12/14/19, 19:39 - AAO: Same bro',\n",
       " '12/15/19, 15:23 - Abdul-Azeez: Ok',\n",
       " '12/15/19, 15:24 - AAO: How is life nah',\n",
       " '12/15/19, 15:25 - AAO: Haa e don Tey o',\n",
       " '12/15/19, 15:25 - Abdul-Azeez: Coping oo😢',\n",
       " '12/15/19, 15:25 - Abdul-Azeez: Lol',\n",
       " '12/15/19, 15:26 - AAO: , you get money nah no worries',\n",
       " '12/15/19, 15:26 - AAO: When you dey resume for ppa',\n",
       " '12/15/19, 15:27 - Abdul-Azeez: 2nd and u',\n",
       " '12/15/19, 15:27 - AAO: I sha no it January I never get date sha',\n",
       " '12/15/19, 15:28 - Abdul-Azeez: aiit',\n",
       " '12/15/19, 15:28 - AAO: You in your home town bah',\n",
       " '12/15/19, 15:29 - Abdul-Azeez: Hostel',\n",
       " '12/15/19, 15:30 - AAO: In kwara',\n",
       " '12/15/19, 15:30 - Abdul-Azeez: Yh',\n",
       " '12/15/19, 15:31 - AAO: Ohh okay enjoy',\n",
       " '12/15/19, 15:32 - Abdul-Azeez: What of you',\n",
       " '12/15/19, 15:32 - AAO: In my house in kwara',\n",
       " '12/25/19, 14:18 - AAO: Baba',\n",
       " 'How far',\n",
       " '12/25/19, 14:19 - AAO: You Sabi person for redeployment issues',\n",
       " '12/25/19, 15:00 - Abdul-Azeez: I fine bruh',\n",
       " '12/25/19, 15:00 - Abdul-Azeez: Shey you wan do ni',\n",
       " '12/25/19, 18:26 - AAO: I get person wey wan do ni',\n",
       " '12/25/19, 18:26 - AAO: Help me oo',\n",
       " '12/25/19, 18:30 - Abdul-Azeez: Na 35k my sister did her own',\n",
       " '12/25/19, 18:34 - AAO: Kai',\n",
       " '12/25/19, 18:36 - Abdul-Azeez: Walai',\n",
       " '12/25/19, 18:38 - AAO: Tor',\n",
       " '12/25/19, 18:38 - AAO: But it sure sha',\n",
       " '12/25/19, 18:39 - Abdul-Azeez: Yeah',\n",
       " '12/25/19, 18:39 - Abdul-Azeez: Shes now in Osun',\n",
       " '12/25/19, 19:23 - AAO: Ohh wow nice',\n",
       " '12/25/19, 19:23 - AAO: So how do I go about it',\n",
       " '12/25/19, 19:24 - Abdul-Azeez: You will have to contact the person in charge nio',\n",
       " '12/25/19, 19:24 - Abdul-Azeez: He will tell you all what will be required',\n",
       " '12/25/19, 19:25 - AAO: Okay',\n",
       " '12/25/19, 19:25 - AAO: Oya send me the number',\n",
       " '12/25/19, 19:45 - Abdul-Azeez: I will just ask for it ni, I dont have it',\n",
       " '12/25/19, 19:46 - AAO: Alright nah',\n",
       " 'Thanks',\n",
       " '12/25/19, 22:10 - Abdul-Azeez: Paul.vcf (file attached)',\n",
       " '12/25/19, 22:10 - Abdul-Azeez: That his number',\n",
       " '12/25/19, 23:47 - AAO: Okay thanks',\n",
       " '12/25/19, 23:47 - AAO: Jazakallahu khairan',\n",
       " '12/26/19, 10:06 - AAO: How should I introduce myself',\n",
       " 'I mean am I supposed to say I got your number from SOS sos',\n",
       " '12/26/19, 10:35 - Abdul-Azeez: Let me ask her',\n",
       " '12/26/19, 10:42 - AAO: OK thanks',\n",
       " '12/26/19, 10:50 - Abdul-Azeez: Tell him from mariam',\n",
       " '12/26/19, 10:52 - AAO: Okay',\n",
       " '1/11/20, 18:14 - AAO: 😂 😂',\n",
       " 'For real',\n",
       " '1/11/20, 18:21 - Abdul-Azeez: Yes sir',\n",
       " '1/11/20, 18:22 - Abdul-Azeez: <Media omitted>',\n",
       " '1/11/20, 18:27 - AAO: 😂 😂 The money dey come',\n",
       " '1/11/20, 18:27 - AAO: How far',\n",
       " '1/11/20, 18:27 - AAO: How service nah?',\n",
       " '1/11/20, 18:29 - Abdul-Azeez: Ha don redeploy ooo, just to change the state left',\n",
       " '1/11/20, 18:33 - AAO: Oya oo',\n",
       " 'So which state you dey go',\n",
       " '1/11/20, 18:37 - Abdul-Azeez: Oyo State',\n",
       " '1/11/20, 18:37 - Abdul-Azeez: Ibadan',\n",
       " '1/11/20, 19:11 - AAO: Nice best of luck bro',\n",
       " '1/11/20, 19:17 - Abdul-Azeez: Thanks man',\n",
       " '1/11/20, 19:17 - Abdul-Azeez: What of you',\n",
       " '1/11/20, 19:17 - Abdul-Azeez: Where are you now',\n",
       " '1/11/20, 19:34 - AAO: Osun noni',\n",
       " '1/11/20, 19:35 - Abdul-Azeez: Where are you now posted for your ppa',\n",
       " '1/11/20, 19:35 - AAO: Ministry of Education Osogbo',\n",
       " '1/11/20, 19:36 - Abdul-Azeez: Really',\n",
       " '1/11/20, 19:36 - Abdul-Azeez: You get mouth ooo',\n",
       " '1/11/20, 19:36 - Abdul-Azeez: 🙌🏾🙌🏾🙌🏾🙌🏾',\n",
       " '1/11/20, 19:36 - AAO: Ehn mouth ke nah God o',\n",
       " '1/11/20, 19:37 - AAO: So you dey wait for confirmation for redeployment bayii',\n",
       " '1/11/20, 19:37 - Abdul-Azeez: Yes sir',\n",
       " '1/11/20, 19:38 - AAO: Tor',\n",
       " '1/11/20, 19:38 - AAO: Sha keep growing',\n",
       " '1/11/20, 19:39 - Abdul-Azeez: No Dey whine me na',\n",
       " '1/11/20, 19:41 - AAO: Nah prayer',\n",
       " '1/11/20, 19:41 - Abdul-Azeez: Amin🙏🏼🙏🏼🙏🏼',\n",
       " '1/12/20, 20:57 - AAO: Mad oo',\n",
       " '1/12/20, 20:58 - Abdul-Azeez: 😂',\n",
       " '2/1/20, 11:00 - AAO: Fine boy',\n",
       " '2/1/20, 11:00 - Abdul-Azeez: Na you oo',\n",
       " '2/1/20, 11:02 - AAO: Me dey learn',\n",
       " '2/1/20, 14:45 - Abdul-Azeez: How are you',\n",
       " '2/1/20, 14:46 - AAO: Am good alhamdullilah',\n",
       " '2/1/20, 14:46 - AAO: Looks like life is going well over 8',\n",
       " '2/1/20, 14:46 - AAO: There',\n",
       " '2/1/20, 14:47 - Abdul-Azeez: We thank God',\n",
       " '2/1/20, 14:47 - AAO: Na so',\n",
       " '2/1/20, 15:01 - Abdul-Azeez: Na you oo',\n",
       " '2/1/20, 15:42 - Abdul-Azeez: That’s the name of that your watch wey you buy then ?',\n",
       " '2/1/20, 15:42 - Abdul-Azeez: The digital white rubber watch',\n",
       " '2/1/20, 15:54 - AAO: I Don forget',\n",
       " 'Android smart watch',\n",
       " '2/1/20, 15:55 - Abdul-Azeez: Ok',\n",
       " '3/8/20, 19:54 - AAO: Money',\n",
       " 'Asalam alaikum waramatullah bro',\n",
       " '3/8/20, 19:54 - AAO: How are you doing',\n",
       " '3/8/20, 19:56 - Abdul-Azeez: Fine sir, what about you',\n",
       " '3/8/20, 20:31 - AAO: Alhamdullilah ROBIL halamin am good too',\n",
       " '3/8/20, 20:31 - AAO: How is the service going',\n",
       " '3/8/20, 20:40 - Abdul-Azeez: Alhamdulilah my brother and you',\n",
       " '3/8/20, 20:50 - AAO: Same alhamdullilah',\n",
       " '3/8/20, 20:51 - Abdul-Azeez: Good to hear',\n",
       " '3/8/20, 20:51 - Abdul-Azeez: How osun state',\n",
       " '3/8/20, 20:54 - AAO: Walai it good oo',\n",
       " '3/8/20, 20:54 - AAO: How is Ibadan?',\n",
       " '3/8/20, 20:54 - Abdul-Azeez: I love the compliment',\n",
       " '3/8/20, 20:54 - Abdul-Azeez: My state is good na 😂',\n",
       " '3/8/20, 20:54 - AAO: How is the bitcoin',\n",
       " '3/8/20, 20:54 - Abdul-Azeez: Alhamdulilah',\n",
       " '3/8/20, 20:54 - Abdul-Azeez: Leaving for camp tomorrow',\n",
       " '3/8/20, 20:54 - Abdul-Azeez: Going smoothly',\n",
       " '3/8/20, 20:54 - AAO: Which camp',\n",
       " '3/8/20, 20:55 - AAO: Alhamdullilah',\n",
       " '3/8/20, 20:59 - Abdul-Azeez: Osun state camp na',\n",
       " '3/8/20, 20:59 - Abdul-Azeez: Oyo State camp rather',\n",
       " '3/8/20, 21:00 - AAO: Ohh',\n",
       " '3/8/20, 21:01 - AAO: This part is not clear',\n",
       " '',\n",
       " 'Are you going to camp again?',\n",
       " '3/8/20, 21:08 - Abdul-Azeez: As ICT staff for biometric verifications in Oyo State camp',\n",
       " '3/8/20, 21:08 - Abdul-Azeez: The camp is opening on tue',\n",
       " '3/8/20, 22:13 - AAO: Ohh wow',\n",
       " 'Nice man',\n",
       " 'Nah you be the real Corp member',\n",
       " '3/8/20, 22:16 - Abdul-Azeez: Lol',\n",
       " '3/8/20, 22:16 - Abdul-Azeez: Scam',\n",
       " '3/8/20, 22:17 - AAO: 😂 Dey enjoy jare',\n",
       " '3/8/20, 22:19 - Abdul-Azeez: <Media omitted>',\n",
       " '3/19/20, 09:52 - AAO: Corona dey oo',\n",
       " '3/19/20, 09:52 - Abdul-Azeez: <Media omitted>',\n",
       " '3/19/20, 09:52 - Abdul-Azeez: Scam',\n",
       " '3/19/20, 09:55 - AAO: I Don tell you sha',\n",
       " '',\n",
       " 'No come. My DM oo abeg dem fit send Corona on whatsapp',\n",
       " '3/19/20, 09:55 - Abdul-Azeez: <Media omitted>',\n",
       " '3/19/20, 09:55 - Abdul-Azeez: Okay na',\n",
       " '3/19/20, 09:58 - AAO: You don return from camp ba h?',\n",
       " '3/19/20, 09:59 - Abdul-Azeez: I camp back Thursday evening after registration',\n",
       " '3/19/20, 10:09 - AAO: Tor stay safe bro',\n",
       " '4/24/20, 03:08 - AAO: Ramadan Kareem',\n",
       " '4/24/20, 04:37 - Abdul-Azeez: Thank you sir',\n",
       " '5/10/20, 04:58 - AAO: Daddy how far',\n",
       " '5/10/20, 04:59 - Abdul-Azeez: Morning sir',\n",
       " '5/10/20, 05:00 - AAO: Good Morning oo',\n",
       " '5/10/20, 05:02 - Abdul-Azeez: How was your night and how is Ramadan going',\n",
       " '5/10/20, 05:03 - AAO: Alhamdullilah night was good',\n",
       " '',\n",
       " 'Ramadan alhamdullilah it been awesome',\n",
       " '5/10/20, 05:04 - Abdul-Azeez: Good to hear',\n",
       " '5/10/20, 05:04 - AAO: How about you',\n",
       " '5/10/20, 05:04 - Abdul-Azeez: May Almighty Allah accept it as an act of Ibadah',\n",
       " '5/10/20, 05:04 - Abdul-Azeez: Alhamdulilah my brother',\n",
       " '5/10/20, 05:04 - AAO: What supp I heard you have 15 houses in Lekki and 3 8n Abuja',\n",
       " '5/10/20, 05:05 - AAO: Amin Amin ya Allah',\n",
       " '5/10/20, 05:05 - Abdul-Azeez: 😅😅😅😅',\n",
       " '5/10/20, 05:05 - Abdul-Azeez: I wan sell them ni, shey you go help me find buyer 😂',\n",
       " '5/10/20, 05:06 - Abdul-Azeez: Wetin ha go still dey find even if to say na 5house I get in lekki 🤣',\n",
       " '5/10/20, 05:06 - AAO: 😂 😂',\n",
       " 'NA soo',\n",
       " 'I wan buy ni',\n",
       " '5/10/20, 05:07 - AAO: 😂',\n",
       " 'We go dey alright',\n",
       " '',\n",
       " 'Business sha dey plum',\n",
       " '5/10/20, 05:07 - Abdul-Azeez: You will have to make payment before you visit the property oo. Corona Dey and our company need money',\n",
       " '5/10/20, 05:08 - Abdul-Azeez: Amin. Alhamdulilah we dey push',\n",
       " '5/10/20, 05:09 - AAO: 😂 😂 Abdul Azeez turn business man',\n",
       " '',\n",
       " 'Nice no problem',\n",
       " 'So how much is that that has sea view the 2 storey with swimming pool ni o',\n",
       " \"Don't exaggerate price for me o\",\n",
       " '5/10/20, 05:10 - Abdul-Azeez: At all, why will I even do that? You b my personal person',\n",
       " '5/10/20, 05:11 - Abdul-Azeez: Just come with a token of 250M',\n",
       " '5/10/20, 05:11 - Abdul-Azeez: 245M last sit',\n",
       " '5/10/20, 05:11 - Abdul-Azeez: Sir*',\n",
       " '5/10/20, 05:11 - Abdul-Azeez: Are you using pos or transfer??😝',\n",
       " '5/10/20, 05:11 - AAO: Okay this is cheap',\n",
       " 'I was hoping for 300M before but I like this.',\n",
       " '5/10/20, 05:12 - AAO: Haa POS might break so I will just you know wire it into your account you should see alert anytime from now',\n",
       " '5/10/20, 05:12 - Abdul-Azeez: Okay. If you can still make it that 300M it will be cool, you know everything is now cost expecially this corona period',\n",
       " '5/10/20, 05:13 - AAO: Transferring money to acc..................',\n",
       " '',\n",
       " 'Have you seen it?',\n",
       " '5/10/20, 05:13 - AAO: 😂 😂 🤪',\n",
       " 'See month',\n",
       " '5/10/20, 05:14 - Abdul-Azeez: Ok',\n",
       " '',\n",
       " '0421700153',\n",
       " 'GTBank ',\n",
       " '',\n",
       " '3099133552',\n",
       " 'First Bank',\n",
       " '',\n",
       " '3049495830',\n",
       " 'Polaris',\n",
       " '',\n",
       " '2267288625',\n",
       " 'Zenith',\n",
       " '',\n",
       " '2138622378',\n",
       " 'Uba ',\n",
       " '',\n",
       " '8067174340',\n",
       " 'Paycom',\n",
       " '5/10/20, 05:15 - Abdul-Azeez: Use any of this for the wire transfer',\n",
       " '5/10/20, 05:17 - AAO: Haaa',\n",
       " 'Only you haa',\n",
       " '5/10/20, 05:17 - Abdul-Azeez: E no much sir',\n",
       " '5/10/20, 05:19 - AAO: 😂 😂',\n",
       " '',\n",
       " 'Of course I will wire soon.',\n",
       " 'Expect alert',\n",
       " '5/10/20, 05:22 - Abdul-Azeez: Ok sir',\n",
       " '5/10/20, 05:22 - Abdul-Azeez: I believe you',\n",
       " '5/10/20, 05:23 - Abdul-Azeez: And don’t forget to add my Ramadan gift to it. You can send both together',\n",
       " '5/10/20, 05:30 - AAO: Of course I get you',\n",
       " '6/9/20, 00:30 - AAO: Baba.',\n",
       " 'Asalam alaikum waramatullah',\n",
       " 'How is shital shawwal',\n",
       " '6/9/20, 01:22 - Abdul-Azeez: Waleakun salam',\n",
       " '6/9/20, 01:22 - Abdul-Azeez: Alhamdulilah we Thanks Allah and you',\n",
       " '6/9/20, 07:30 - AAO: Alhamdullilah',\n",
       " 'God has been kind',\n",
       " '6/9/20, 07:30 - AAO: How is the family?',\n",
       " '6/9/20, 09:32 - Abdul-Azeez: Alhamdulilah',\n",
       " '6/9/20, 09:33 - Abdul-Azeez: What about you?',\n",
       " '6/9/20, 09:34 - AAO: Alhamdullilah',\n",
       " '6/9/20, 09:51 - Abdul-Azeez: Good',\n",
       " '7/31/20, 09:12 - AAO: Which one is Salah rate',\n",
       " 'You no like mane rate',\n",
       " '10/12/20, 10:30 - AAO: Baba looong time faa',\n",
       " '10/12/20, 10:59 - Abdul-Azeez: Yes ooo',\n",
       " '10/12/20, 10:59 - Abdul-Azeez: How have you been',\n",
       " '10/12/20, 11:04 - AAO: Alhamdullilah I am good',\n",
       " '10/12/20, 11:04 - AAO: How are you',\n",
       " '10/12/20, 11:13 - Abdul-Azeez: I’m fine and you',\n",
       " '10/12/20, 11:17 - AAO: God has been kind',\n",
       " '10/12/20, 11:17 - AAO: You still dey Nigeria',\n",
       " '10/12/20, 11:19 - Abdul-Azeez: Lol',\n",
       " '10/12/20, 11:19 - Abdul-Azeez: Beni sir',\n",
       " '10/12/20, 11:22 - AAO: Ohh okay',\n",
       " '😎',\n",
       " '10/12/20, 11:22 - AAO: I sure say you no need Job placement',\n",
       " 'You don set',\n",
       " '10/12/20, 11:23 - Abdul-Azeez: Ahhh',\n",
       " '10/12/20, 11:23 - Abdul-Azeez: I need oo',\n",
       " '10/12/20, 11:23 - Abdul-Azeez: Walai',\n",
       " '10/12/20, 11:23 - Abdul-Azeez: You get any for me??',\n",
       " '10/12/20, 11:23 - Abdul-Azeez: Shey I Dey whine m ni',\n",
       " '10/12/20, 11:25 - AAO: 😂 😂',\n",
       " 'Me sef dey look for job',\n",
       " 'If opportunities open for your side Holla me',\n",
       " '10/12/20, 11:25 - AAO: But I am hopeful',\n",
       " '10/12/20, 11:25 - AAO: We go get',\n",
       " '10/12/20, 11:26 - Abdul-Azeez: Amin insha Allah',\n",
       " '10/12/20, 11:26 - Abdul-Azeez: Where are you now??',\n",
       " '10/12/20, 11:33 - AAO: Oshogbo Osun State',\n",
       " '10/12/20, 11:34 - AAO: You dey Abuja or Lagos',\n",
       " 'Or wait Kano',\n",
       " '10/12/20, 11:34 - Abdul-Azeez: Lols. Ilorin',\n",
       " '10/12/20, 11:34 - AAO: Wow really',\n",
       " '10/12/20, 11:35 - AAO: Business must be great yea?',\n",
       " '10/12/20, 11:35 - Abdul-Azeez: Yh',\n",
       " '10/12/20, 11:35 - AAO: I am waiting on my cert before running',\n",
       " '10/12/20, 11:35 - Abdul-Azeez: But will be going back to my ppa tomorrow',\n",
       " '10/12/20, 11:35 - Abdul-Azeez: We’re pushing oo',\n",
       " '10/12/20, 11:36 - AAO: Okay',\n",
       " 'Journey mercies',\n",
       " '10/12/20, 11:36 - AAO: Alhamdullilah',\n",
       " '10/12/20, 11:36 - Abdul-Azeez: Amin, thanks',\n",
       " '10/12/20, 11:40 - AAO: Shey your pop timetable don comot?',\n",
       " '10/12/20, 11:47 - Abdul-Azeez: Yh',\n",
       " '10/12/20, 12:17 - AAO: OK favor market',\n",
       " 'Whatever that means',\n",
       " '10/12/20, 12:18 - Abdul-Azeez: Amin',\n",
       " '10/16/20, 19:20 - AAO: Next time use this one',\n",
       " '',\n",
       " 'Fuck EM',\n",
       " 'Just to show you know give the fuck',\n",
       " '10/16/20, 19:43 - Abdul-Azeez: <Media omitted>',\n",
       " '10/16/20, 19:43 - Abdul-Azeez: Thanks boss',\n",
       " '10/23/20, 19:34 - AAO: Oshey fine daddy',\n",
       " 'Or nah',\n",
       " 'Zaddy',\n",
       " '10/23/20, 19:36 - Abdul-Azeez: 🙌🏾🙌🏾🙌🏾',\n",
       " '10/23/20, 19:40 - AAO: Alhamdullilah for the gift of life',\n",
       " 'We go survive diz one too',\n",
       " '10/23/20, 19:41 - Abdul-Azeez: Amin ooo',\n",
       " '10/28/20, 06:35 - AAO: Alhamdullilah',\n",
       " \"May your new Age be blessed with good health happy life and Allah's rahma\",\n",
       " '10/28/20, 06:35 - AAO: Happy Birthday Man',\n",
       " '10/28/20, 06:39 - Abdul-Azeez: Missed voice call',\n",
       " '10/28/20, 06:39 - Abdul-Azeez: Amin 🙏🏼 Thanks man ❤️',\n",
       " '10/28/20, 06:39 - Abdul-Azeez: The call was a mistake',\n",
       " '10/28/20, 06:45 - AAO: Alright',\n",
       " '10/28/20, 06:45 - AAO: Enjoy the day',\n",
       " '10/28/20, 06:46 - Abdul-Azeez: <Media omitted>',\n",
       " '11/14/20, 11:45 - AAO: Ijoba bitcoin 🔥🔥🔥🔥🔥🔥🔥',\n",
       " '11/14/20, 12:06 - Abdul-Azeez: <Media omitted>',\n",
       " '12/28/20, 17:28 - AAO: 🤩🤩',\n",
       " '12/28/20, 18:02 - Abdul-Azeez: <Media omitted>']"
      ]
     },
     "execution_count": 266,
     "metadata": {},
     "output_type": "execute_result"
    }
   ],
   "source": [
    "chat_data"
   ]
  },
  {
   "cell_type": "code",
   "execution_count": null,
   "metadata": {},
   "outputs": [],
   "source": []
  },
  {
   "cell_type": "code",
   "execution_count": null,
   "metadata": {},
   "outputs": [],
   "source": []
  },
  {
   "cell_type": "code",
   "execution_count": null,
   "metadata": {},
   "outputs": [],
   "source": []
  },
  {
   "cell_type": "code",
   "execution_count": null,
   "metadata": {},
   "outputs": [],
   "source": []
  },
  {
   "cell_type": "code",
   "execution_count": null,
   "metadata": {},
   "outputs": [],
   "source": []
  },
  {
   "cell_type": "code",
   "execution_count": null,
   "metadata": {},
   "outputs": [],
   "source": []
  },
  {
   "cell_type": "code",
   "execution_count": null,
   "metadata": {},
   "outputs": [],
   "source": []
  },
  {
   "cell_type": "code",
   "execution_count": null,
   "metadata": {},
   "outputs": [],
   "source": []
  },
  {
   "cell_type": "code",
   "execution_count": null,
   "metadata": {},
   "outputs": [],
   "source": []
  },
  {
   "cell_type": "code",
   "execution_count": null,
   "metadata": {},
   "outputs": [],
   "source": []
  }
 ],
 "metadata": {
  "kernelspec": {
   "display_name": "Python 3",
   "language": "python",
   "name": "python3"
  },
  "language_info": {
   "codemirror_mode": {
    "name": "ipython",
    "version": 3
   },
   "file_extension": ".py",
   "mimetype": "text/x-python",
   "name": "python",
   "nbconvert_exporter": "python",
   "pygments_lexer": "ipython3",
   "version": "3.7.4"
  }
 },
 "nbformat": 4,
 "nbformat_minor": 4
}
